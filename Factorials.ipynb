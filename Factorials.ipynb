{
  "nbformat": 4,
  "nbformat_minor": 0,
  "metadata": {
    "colab": {
      "name": "Untitled45.ipynb",
      "provenance": [],
      "collapsed_sections": [],
      "authorship_tag": "ABX9TyNGGpntPXH5JazPjwE3B/Am",
      "include_colab_link": true
    },
    "kernelspec": {
      "name": "python3",
      "display_name": "Python 3"
    },
    "language_info": {
      "name": "python"
    }
  },
  "cells": [
    {
      "cell_type": "markdown",
      "metadata": {
        "id": "view-in-github",
        "colab_type": "text"
      },
      "source": [
        "<a href=\"https://colab.research.google.com/github/nurfnick/Discrete_Math/blob/master/Factorials.ipynb\" target=\"_parent\"><img src=\"https://colab.research.google.com/assets/colab-badge.svg\" alt=\"Open In Colab\"/></a>"
      ]
    },
    {
      "cell_type": "code",
      "metadata": {
        "colab": {
          "base_uri": "https://localhost:8080/"
        },
        "id": "K0AFMSjVcj4G",
        "outputId": "0be4371c-df42-468a-e872-12db84e9ffaa"
      },
      "source": [
        "from math import factorial\n",
        "\n",
        "factorial(52)"
      ],
      "execution_count": 1,
      "outputs": [
        {
          "output_type": "execute_result",
          "data": {
            "text/plain": [
              "80658175170943878571660636856403766975289505440883277824000000000000"
            ]
          },
          "metadata": {},
          "execution_count": 1
        }
      ]
    },
    {
      "cell_type": "code",
      "metadata": {
        "colab": {
          "base_uri": "https://localhost:8080/"
        },
        "id": "hxArsJJ1cobK",
        "outputId": "cdb89957-f9d8-4281-d4b8-bc2218c4041d"
      },
      "source": [
        "for i in range(20):\n",
        "  print(factorial(i))"
      ],
      "execution_count": 2,
      "outputs": [
        {
          "output_type": "stream",
          "name": "stdout",
          "text": [
            "1\n",
            "1\n",
            "2\n",
            "6\n",
            "24\n",
            "120\n",
            "720\n",
            "5040\n",
            "40320\n",
            "362880\n",
            "3628800\n",
            "39916800\n",
            "479001600\n",
            "6227020800\n",
            "87178291200\n",
            "1307674368000\n",
            "20922789888000\n",
            "355687428096000\n",
            "6402373705728000\n",
            "121645100408832000\n"
          ]
        }
      ]
    },
    {
      "cell_type": "code",
      "metadata": {
        "colab": {
          "base_uri": "https://localhost:8080/"
        },
        "id": "Y8yAdSbpcx1I",
        "outputId": "4d9c35a7-1587-4fc8-b10e-39ce5161b724"
      },
      "source": [
        "(factorial(26)/factorial(19))/26**7"
      ],
      "execution_count": 3,
      "outputs": [
        {
          "output_type": "execute_result",
          "data": {
            "text/plain": [
              "0.4127727034568801"
            ]
          },
          "metadata": {},
          "execution_count": 3
        }
      ]
    },
    {
      "cell_type": "code",
      "metadata": {
        "colab": {
          "base_uri": "https://localhost:8080/"
        },
        "id": "BX13IM13lfyH",
        "outputId": "287fe6ce-3628-4083-c43c-25024176a014"
      },
      "source": [
        "factorial(130)/factorial(130-25)"
      ],
      "execution_count": 4,
      "outputs": [
        {
          "output_type": "execute_result",
          "data": {
            "text/plain": [
              "5.9800951315442277e+51"
            ]
          },
          "metadata": {},
          "execution_count": 4
        }
      ]
    },
    {
      "cell_type": "code",
      "metadata": {
        "colab": {
          "base_uri": "https://localhost:8080/"
        },
        "id": "As84RkyIucSo",
        "outputId": "9ab8c73f-9f84-4f8b-a5b5-a450bcad5434"
      },
      "source": [
        ""
      ],
      "execution_count": 5,
      "outputs": [
        {
          "output_type": "stream",
          "name": "stdout",
          "text": [
            "\u001b[31mERROR: Could not find a version that satisfies the requirement crazypackage (from versions: none)\u001b[0m\n",
            "\u001b[31mERROR: No matching distribution found for crazypackage\u001b[0m\n"
          ]
        }
      ]
    },
    {
      "cell_type": "code",
      "metadata": {
        "id": "s0M15BfOmIt2",
        "colab": {
          "base_uri": "https://localhost:8080/"
        },
        "outputId": "bfca41ef-a083-4274-fef0-998dcb12f874"
      },
      "source": [
        "from itertools import permutations\n",
        "\n",
        "permutations([1,2,3])"
      ],
      "execution_count": 6,
      "outputs": [
        {
          "output_type": "execute_result",
          "data": {
            "text/plain": [
              "<itertools.permutations at 0x7f7302b28d10>"
            ]
          },
          "metadata": {},
          "execution_count": 6
        }
      ]
    },
    {
      "cell_type": "code",
      "metadata": {
        "colab": {
          "base_uri": "https://localhost:8080/"
        },
        "id": "opFNqVWqtqu3",
        "outputId": "2189f5e6-37d5-4520-c416-84c641f710b8"
      },
      "source": [
        "# A Python program to print all\n",
        "# permutations using library function\n",
        "from itertools import permutations\n",
        " \n",
        "# Get all permutations of [1, 2, 3]\n",
        "perm = permutations([1, 2, 2],2)\n",
        " \n",
        "# Print the obtained permutations\n",
        "for i in list(perm):\n",
        "    print (i)"
      ],
      "execution_count": 7,
      "outputs": [
        {
          "output_type": "stream",
          "name": "stdout",
          "text": [
            "(1, 2)\n",
            "(1, 2)\n",
            "(2, 1)\n",
            "(2, 2)\n",
            "(2, 1)\n",
            "(2, 2)\n"
          ]
        }
      ]
    },
    {
      "cell_type": "code",
      "metadata": {
        "id": "6snwheK3vG4Z"
      },
      "source": [
        " fact = lambda x: factorial(x)"
      ],
      "execution_count": 8,
      "outputs": []
    },
    {
      "cell_type": "code",
      "metadata": {
        "colab": {
          "base_uri": "https://localhost:8080/"
        },
        "id": "iNFEHVypygcf",
        "outputId": "2b8a585c-23f3-4a23-cdee-07d7de7e7829"
      },
      "source": [
        "factorial(3)*factorial(4)*factorial(5)"
      ],
      "execution_count": 9,
      "outputs": [
        {
          "output_type": "execute_result",
          "data": {
            "text/plain": [
              "17280"
            ]
          },
          "metadata": {},
          "execution_count": 9
        }
      ]
    },
    {
      "cell_type": "code",
      "metadata": {
        "colab": {
          "base_uri": "https://localhost:8080/"
        },
        "id": "7EOQ5YfFymg-",
        "outputId": "6a034a34-4df1-4761-c3fe-f97797a29aac"
      },
      "source": [
        "factorial(52)/(120*factorial(52-5))"
      ],
      "execution_count": 10,
      "outputs": [
        {
          "output_type": "execute_result",
          "data": {
            "text/plain": [
              "2598960.0"
            ]
          },
          "metadata": {},
          "execution_count": 10
        }
      ]
    },
    {
      "cell_type": "code",
      "metadata": {
        "id": "BUdcD4VQ4pOz"
      },
      "source": [
        "def combinations(n,r):\n",
        "  return fact(n)/(fact(r)*fact(n-r))"
      ],
      "execution_count": 11,
      "outputs": []
    },
    {
      "cell_type": "code",
      "metadata": {
        "colab": {
          "base_uri": "https://localhost:8080/"
        },
        "id": "8BZNht4jDj3i",
        "outputId": "6134cafa-fd4f-445c-a9e5-3bd61f2681ea"
      },
      "source": [
        "combinations(26,5)-combinations(18,5)"
      ],
      "execution_count": 12,
      "outputs": [
        {
          "output_type": "execute_result",
          "data": {
            "text/plain": [
              "57212.0"
            ]
          },
          "metadata": {},
          "execution_count": 12
        }
      ]
    },
    {
      "cell_type": "code",
      "metadata": {
        "id": "PQaaY9iZDo0h"
      },
      "source": [
        "sum = 0\n",
        "\n",
        "for i in [1,2,3,4,5]:\n",
        "  sum += combinations(8,i)*combinations(18,5-i)"
      ],
      "execution_count": 13,
      "outputs": []
    },
    {
      "cell_type": "code",
      "metadata": {
        "colab": {
          "base_uri": "https://localhost:8080/"
        },
        "id": "SPPuF2fMEskx",
        "outputId": "3e56c2fe-475d-413c-fd48-481d18427b6d"
      },
      "source": [
        "sum"
      ],
      "execution_count": 14,
      "outputs": [
        {
          "output_type": "execute_result",
          "data": {
            "text/plain": [
              "57212.0"
            ]
          },
          "metadata": {},
          "execution_count": 14
        }
      ]
    },
    {
      "cell_type": "code",
      "metadata": {
        "colab": {
          "base_uri": "https://localhost:8080/"
        },
        "id": "ePA3RuQIEvQj",
        "outputId": "585bd015-6f0f-4cdd-96a5-8c5afd566cb8"
      },
      "source": [
        "365**9"
      ],
      "execution_count": 15,
      "outputs": [
        {
          "output_type": "execute_result",
          "data": {
            "text/plain": [
              "114983567789585767578125"
            ]
          },
          "metadata": {},
          "execution_count": 15
        }
      ]
    },
    {
      "cell_type": "code",
      "metadata": {
        "colab": {
          "base_uri": "https://localhost:8080/"
        },
        "id": "UolvYDZYFQlC",
        "outputId": "8b442306-7433-4a2c-ae4a-0f3061f9dccc"
      },
      "source": [
        "combinations(365,9)"
      ],
      "execution_count": 16,
      "outputs": [
        {
          "output_type": "execute_result",
          "data": {
            "text/plain": [
              "2.8688101237621325e+17"
            ]
          },
          "metadata": {},
          "execution_count": 16
        }
      ]
    },
    {
      "cell_type": "code",
      "metadata": {
        "colab": {
          "base_uri": "https://localhost:8080/"
        },
        "id": "flFxoFR8FdzC",
        "outputId": "aea9eec3-f490-4960-ff99-5b696740af24"
      },
      "source": [
        "(365**9-combinations(365,9))/365**9"
      ],
      "execution_count": 17,
      "outputs": [
        {
          "output_type": "execute_result",
          "data": {
            "text/plain": [
              "0.9999975050259974"
            ]
          },
          "metadata": {},
          "execution_count": 17
        }
      ]
    },
    {
      "cell_type": "code",
      "metadata": {
        "colab": {
          "base_uri": "https://localhost:8080/"
        },
        "id": "FUE4NQnaFiWC",
        "outputId": "cb1a68ea-dd56-488b-ea38-1c8b3044e4f2"
      },
      "source": [
        "combinations(52,5)"
      ],
      "execution_count": 18,
      "outputs": [
        {
          "output_type": "execute_result",
          "data": {
            "text/plain": [
              "2598960.0"
            ]
          },
          "metadata": {},
          "execution_count": 18
        }
      ]
    },
    {
      "cell_type": "code",
      "metadata": {
        "id": "eSjMUR2mGW4j"
      },
      "source": [
        "def permutations(n,r):\n",
        "  return combinations(n,r)*fact(r)"
      ],
      "execution_count": 19,
      "outputs": []
    },
    {
      "cell_type": "code",
      "metadata": {
        "colab": {
          "base_uri": "https://localhost:8080/"
        },
        "id": "XDG7hsLZcQEN",
        "outputId": "38d8ae63-fc22-472c-ee16-d75c609b8f2e"
      },
      "source": [
        "(365**9-permutations(365,9))/365**9"
      ],
      "execution_count": 20,
      "outputs": [
        {
          "output_type": "execute_result",
          "data": {
            "text/plain": [
              "0.09462383388916669"
            ]
          },
          "metadata": {},
          "execution_count": 20
        }
      ]
    },
    {
      "cell_type": "code",
      "metadata": {
        "id": "R0zWeJMUcl9L"
      },
      "source": [
        "def noBirthdayProbability(numberOfPeople):\n",
        "  return (365**numberOfPeople-permutations(365,numberOfPeople))/365**numberOfPeople"
      ],
      "execution_count": 21,
      "outputs": []
    },
    {
      "cell_type": "code",
      "metadata": {
        "colab": {
          "base_uri": "https://localhost:8080/"
        },
        "id": "PWs9-WFndIpr",
        "outputId": "77ef9833-d2f5-41a3-b125-dc01ab62fe63"
      },
      "source": [
        "noBirthdayProbability(47)"
      ],
      "execution_count": 22,
      "outputs": [
        {
          "output_type": "execute_result",
          "data": {
            "text/plain": [
              "0.9547744028332994"
            ]
          },
          "metadata": {},
          "execution_count": 22
        }
      ]
    },
    {
      "cell_type": "code",
      "metadata": {
        "id": "-dBpaEuNgdpG",
        "colab": {
          "base_uri": "https://localhost:8080/"
        },
        "outputId": "c3f7e39e-afe3-4f37-c85e-e20925ef4e61"
      },
      "source": [
        "permutations(17,9)"
      ],
      "execution_count": 24,
      "outputs": [
        {
          "output_type": "execute_result",
          "data": {
            "text/plain": [
              "8821612800.0"
            ]
          },
          "metadata": {},
          "execution_count": 24
        }
      ]
    },
    {
      "cell_type": "code",
      "metadata": {
        "colab": {
          "base_uri": "https://localhost:8080/"
        },
        "id": "wPh6l9oW817g",
        "outputId": "cf461499-fdf8-4f2b-f620-3c4b0a58f49a"
      },
      "source": [
        "permutations(17,9)/(9*162)"
      ],
      "execution_count": 26,
      "outputs": [
        {
          "output_type": "execute_result",
          "data": {
            "text/plain": [
              "6050488.888888889"
            ]
          },
          "metadata": {},
          "execution_count": 26
        }
      ]
    },
    {
      "cell_type": "code",
      "metadata": {
        "id": "BASwxS0g86ef",
        "colab": {
          "base_uri": "https://localhost:8080/",
          "height": 283
        },
        "outputId": "3a1466d0-f67e-498c-cb9b-bda7ae76c4fd"
      },
      "source": [
        "import matplotlib.pyplot as plt\n",
        "\n",
        "x = range(1,100)\n",
        "y = [noBirthdayProbability(x) for x in x]\n",
        "\n",
        "plt.plot(x,y)\n",
        "plt.scatter(30,noBirthdayProbability(30),c = 'red')"
      ],
      "execution_count": 31,
      "outputs": [
        {
          "output_type": "execute_result",
          "data": {
            "text/plain": [
              "<matplotlib.collections.PathCollection at 0x7f72fa81b890>"
            ]
          },
          "metadata": {},
          "execution_count": 31
        },
        {
          "output_type": "display_data",
          "data": {
            "image/png": "[encoded data removed]",
            "text/plain": [
              "<Figure size 432x288 with 1 Axes>"
            ]
          },
          "metadata": {
            "needs_background": "light"
          }
        }
      ]
    }
  ]
}