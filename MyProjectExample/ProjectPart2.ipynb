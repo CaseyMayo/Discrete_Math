{
  "nbformat": 4,
  "nbformat_minor": 0,
  "metadata": {
    "colab": {
      "name": "Untitled0.ipynb",
      "provenance": [],
      "include_colab_link": true
    },
    "kernelspec": {
      "name": "python3",
      "display_name": "Python 3"
    }
  },
  "cells": [
    {
      "cell_type": "markdown",
      "metadata": {
        "id": "view-in-github",
        "colab_type": "text"
      },
      "source": [
        "<a href=\"https://colab.research.google.com/github/nurfnick/Discrete_Math/blob/master/ProjectPart2.ipynb\" target=\"_parent\"><img src=\"https://colab.research.google.com/assets/colab-badge.svg\" alt=\"Open In Colab\"/></a>"
      ]
    },
    {
      "cell_type": "markdown",
      "metadata": {
        "id": "YCJaepmmfKrS"
      },
      "source": [
        "# Project Part # 2: CPSMA 3133 [Dr. Jacob's](https://github.com/nurfnick) Discrete Mathematics \n",
        "\n",
        "## Probability and Counting\n",
        "\n",
        "### Dr. Jacob's Incorrect Submission\n",
        "\n",
        "\n"
      ]
    },
    {
      "cell_type": "markdown",
      "metadata": {
        "id": "Xs_Pvtua1Nnt"
      },
      "source": [
        "## 1 Probability"
      ]
    },
    {
      "cell_type": "markdown",
      "metadata": {
        "id": "2z6U1aB_fQDM"
      },
      "source": [
        "I am going to do some craps!  I'll just program the comeout roll.  The probability of hitting a natural, $N$, is $\\frac29$, craps, $C$, is $\\frac 19$ and setting the point, $P$, is $\\frac23$."
      ]
    },
    {
      "cell_type": "code",
      "metadata": {
        "id": "rU_BgC_kfH7g",
        "colab": {
          "base_uri": "https://localhost:8080/"
        },
        "outputId": "3c02ec85-d186-45e8-884d-92ba60140809"
      },
      "source": [
        " p =[2/9,1/9,2/3]\n",
        "\n",
        " sum(p) #everyone is positive and sum is 1\n",
        "\n"
      ],
      "execution_count": null,
      "outputs": [
        {
          "output_type": "execute_result",
          "data": {
            "text/plain": [
              "1.0"
            ]
          },
          "metadata": {},
          "execution_count": 1
        }
      ]
    },
    {
      "cell_type": "markdown",
      "metadata": {
        "id": "Iggon6VK1Vxo"
      },
      "source": [
        "A compound event is getting another roll after the comeout roll so that would be a natural or setting the point.  Let's call that roll again $R$"
      ]
    },
    {
      "cell_type": "code",
      "metadata": {
        "id": "kCHzuVw5vvJ6",
        "colab": {
          "base_uri": "https://localhost:8080/"
        },
        "outputId": "a6be18f4-a8e6-488a-85bc-46f5e7980c92"
      },
      "source": [
        "ProbabilityR = 0\n",
        "\n",
        "for i in [0,2]:\n",
        "  ProbabilityR = ProbabilityR + p[i]\n",
        "\n",
        "ProbabilityR"
      ],
      "execution_count": null,
      "outputs": [
        {
          "output_type": "execute_result",
          "data": {
            "text/plain": [
              "0.8888888888888888"
            ]
          },
          "metadata": {},
          "execution_count": 2
        }
      ]
    },
    {
      "cell_type": "markdown",
      "metadata": {
        "id": "ETtKuSDJSP0O"
      },
      "source": [
        "Next I'll explore union and intersection of a compound event.  Let's examine the Roll again, $R$ and Winning, $W$.  I've already expressed how to roll again so Winning requires that I roll a natural on the come out roll."
      ]
    },
    {
      "cell_type": "code",
      "metadata": {
        "id": "22XeE0Y_Spwf"
      },
      "source": [
        "ProbabilityW = p[0]"
      ],
      "execution_count": null,
      "outputs": []
    },
    {
      "cell_type": "markdown",
      "metadata": {
        "id": "xVrF9Y_DSvvm"
      },
      "source": [
        "So now I'll examine both the intersetion, $R\\cap W$  and union, $R\\cup W$.\n",
        "\n",
        "Keep in mind the formula:\n",
        "\n",
        "$$\n",
        "Pr(R\\cup W) = Pr(R) + Pr(W) - Pr(R\\cap W)\n",
        "$$\n"
      ]
    },
    {
      "cell_type": "code",
      "metadata": {
        "id": "hZ4SfLKBTOVK",
        "colab": {
          "base_uri": "https://localhost:8080/"
        },
        "outputId": "47e4da37-749d-4523-9999-7d9e8bf31aa4"
      },
      "source": [
        "RintersectW = p[0] #you have to hit a natural for both to occur!\n",
        "\n",
        "RunionW = ProbabilityR + ProbabilityW - RintersectW\n",
        "RunionW"
      ],
      "execution_count": null,
      "outputs": [
        {
          "output_type": "execute_result",
          "data": {
            "text/plain": [
              "0.888888888888889"
            ]
          },
          "metadata": {},
          "execution_count": 16
        }
      ]
    },
    {
      "cell_type": "markdown",
      "metadata": {
        "id": "-Xx3fefvwTx8"
      },
      "source": [
        "What is the probability of a natural given you get another roll\n",
        "\n",
        "$$\n",
        "P(N|R)=\\frac{P(N\\cap R)}{P(R)}\n",
        "$$"
      ]
    },
    {
      "cell_type": "code",
      "metadata": {
        "id": "fIWFh9RfwyO0",
        "colab": {
          "base_uri": "https://localhost:8080/"
        },
        "outputId": "543a949e-c904-44bd-9370-b17924ff200e"
      },
      "source": [
        "2/9/ProbabilityR"
      ],
      "execution_count": null,
      "outputs": [
        {
          "output_type": "execute_result",
          "data": {
            "text/plain": [
              "0.25"
            ]
          },
          "metadata": {},
          "execution_count": 5
        }
      ]
    },
    {
      "cell_type": "markdown",
      "metadata": {
        "id": "RY7HVZ2q0MYw"
      },
      "source": [
        "As for the probability of getting another roll given that you have a natural, we see that that is 100%.\n",
        "\n",
        "To apply Bayes' let's at least get the formula!\n",
        "\n",
        "$$\n",
        "P(N|R) = \\frac{P(N)P(R|N)}{P(R)}\n",
        "$$"
      ]
    },
    {
      "cell_type": "code",
      "metadata": {
        "id": "DzLdXQ9l1VwT",
        "colab": {
          "base_uri": "https://localhost:8080/"
        },
        "outputId": "f06f5a95-4e7d-41f0-91ca-d6a93e73fbb5"
      },
      "source": [
        ".25 == (2/9 * 1)/ProbabilityR"
      ],
      "execution_count": null,
      "outputs": [
        {
          "output_type": "execute_result",
          "data": {
            "text/plain": [
              "True"
            ]
          },
          "metadata": {},
          "execution_count": 6
        }
      ]
    },
    {
      "cell_type": "markdown",
      "metadata": {
        "id": "oZlnvFzUxAEh"
      },
      "source": [
        "Time for the hard part, simulation!  I need frequency counts not probabilities so I'll multiply every probabilty by 9"
      ]
    },
    {
      "cell_type": "code",
      "metadata": {
        "id": "rcLbKtBfzCTQ"
      },
      "source": [
        "p9 = [9*i for i in p]\n",
        "p =[2/9,1/9,2/3]"
      ],
      "execution_count": null,
      "outputs": []
    },
    {
      "cell_type": "code",
      "metadata": {
        "id": "sAueNdZczO3S",
        "colab": {
          "base_uri": "https://localhost:8080/"
        },
        "outputId": "3eef425f-9948-4e7c-b881-ff31ebcbd754"
      },
      "source": [
        "p9"
      ],
      "execution_count": null,
      "outputs": [
        {
          "output_type": "execute_result",
          "data": {
            "text/plain": [
              "[2.0, 1.0, 6.0]"
            ]
          },
          "metadata": {},
          "execution_count": 8
        }
      ]
    },
    {
      "cell_type": "code",
      "metadata": {
        "id": "3014601TxgnX",
        "colab": {
          "base_uri": "https://localhost:8080/"
        },
        "outputId": "5d8a21e5-cf05-43c8-b2da-86fbe5b0a537"
      },
      "source": [
        "from random import choices\n",
        "\n",
        "\n",
        "choices(['natural','craps','point'],p9,k=10)"
      ],
      "execution_count": null,
      "outputs": [
        {
          "output_type": "execute_result",
          "data": {
            "text/plain": [
              "['point',\n",
              " 'natural',\n",
              " 'craps',\n",
              " 'point',\n",
              " 'craps',\n",
              " 'natural',\n",
              " 'natural',\n",
              " 'point',\n",
              " 'natural',\n",
              " 'point']"
            ]
          },
          "metadata": {},
          "execution_count": 9
        }
      ]
    },
    {
      "cell_type": "markdown",
      "metadata": {
        "id": "UKPjbjzCzeOS"
      },
      "source": [
        "Random is exactly that!  I got only setting the point!  That is fun!"
      ]
    },
    {
      "cell_type": "code",
      "metadata": {
        "id": "W8DskPTBFDly"
      },
      "source": [
        "HundoRolls =  choices(['natural','craps','point'],p9,k=10000)\n",
        "\n",
        "countNatural = 0\n",
        "countCraps = 0\n",
        "countPoint = 0\n",
        "\n",
        "for i in HundoRolls:\n",
        "  if i =='natural':\n",
        "    countNatural += 1\n",
        "  elif i == 'craps':\n",
        "    countCraps += 1\n",
        "  elif i == 'point':\n",
        "    countPoint += 1\n",
        "\n",
        "estimateProbs = [countNatural/len(HundoRolls),countCraps/len(HundoRolls),countPoint/len(HundoRolls)]"
      ],
      "execution_count": null,
      "outputs": []
    },
    {
      "cell_type": "code",
      "metadata": {
        "id": "D2STYK2xF4WT",
        "colab": {
          "base_uri": "https://localhost:8080/"
        },
        "outputId": "83968520-866f-46d4-a559-802364cac81b"
      },
      "source": [
        "estimateProbs"
      ],
      "execution_count": null,
      "outputs": [
        {
          "output_type": "execute_result",
          "data": {
            "text/plain": [
              "[0.2244, 0.1103, 0.6653]"
            ]
          },
          "metadata": {},
          "execution_count": 11
        }
      ]
    },
    {
      "cell_type": "markdown",
      "metadata": {
        "id": "_7RoPTU_hXG1"
      },
      "source": [
        "## 2 Counting"
      ]
    },
    {
      "cell_type": "markdown",
      "metadata": {
        "id": "MMXFYCZ6hajg"
      },
      "source": [
        "There are three options in my sequence of ten so there are $3^{10}$ options! "
      ]
    },
    {
      "cell_type": "code",
      "metadata": {
        "id": "5U5T3Fld5X0S",
        "colab": {
          "base_uri": "https://localhost:8080/"
        },
        "outputId": "2402518c-f8b6-4425-e378-c800979121bb"
      },
      "source": [
        "3**10"
      ],
      "execution_count": null,
      "outputs": [
        {
          "output_type": "execute_result",
          "data": {
            "text/plain": [
              "59049"
            ]
          },
          "metadata": {},
          "execution_count": 12
        }
      ]
    },
    {
      "cell_type": "markdown",
      "metadata": {
        "id": "ImYyRFx919R5"
      },
      "source": [
        "If order didn't matter than you'd have to use the more complicated formula since there is replacement!  If there are $n$ objects and $k$ slots but order does not matter, the number of ways to do this is\n",
        "\n",
        "$$\n",
        "\\binom{n+k-1}{k-1} = \\binom{n+k-1}{n}\n",
        "$$\n",
        "\n",
        "You should flip your thinking here as there will be 10 objects it is just that there are only 3 categories that they can fall into."
      ]
    },
    {
      "cell_type": "code",
      "metadata": {
        "id": "soDP2kUs14PV",
        "colab": {
          "base_uri": "https://localhost:8080/"
        },
        "outputId": "9fc22e3d-5055-4c2d-d6aa-da3b290de2ed"
      },
      "source": [
        "import math\n",
        "\n",
        "math.factorial(12)/(math.factorial(10)*math.factorial(2))"
      ],
      "execution_count": null,
      "outputs": [
        {
          "output_type": "execute_result",
          "data": {
            "text/plain": [
              "66.0"
            ]
          },
          "metadata": {},
          "execution_count": 13
        }
      ]
    },
    {
      "cell_type": "markdown",
      "metadata": {
        "id": "K1DQFwCC_o9u"
      },
      "source": [
        "If I wanted to run all of these I could use the library `itertools` and the function `combinations_with_replacement`\n"
      ]
    },
    {
      "cell_type": "code",
      "metadata": {
        "id": "TwKM7e4G_nY0",
        "outputId": "87d17163-f155-4d36-eed5-8d42d80f6eec",
        "colab": {
          "base_uri": "https://localhost:8080/"
        }
      },
      "source": [
        "from itertools import combinations_with_replacement\n",
        "\n",
        "print(list(combinations_with_replacement(['a','b','c'],6)))"
      ],
      "execution_count": 3,
      "outputs": [
        {
          "output_type": "stream",
          "name": "stdout",
          "text": [
            "[('a', 'a', 'a', 'a', 'a', 'a'), ('a', 'a', 'a', 'a', 'a', 'b'), ('a', 'a', 'a', 'a', 'a', 'c'), ('a', 'a', 'a', 'a', 'b', 'b'), ('a', 'a', 'a', 'a', 'b', 'c'), ('a', 'a', 'a', 'a', 'c', 'c'), ('a', 'a', 'a', 'b', 'b', 'b'), ('a', 'a', 'a', 'b', 'b', 'c'), ('a', 'a', 'a', 'b', 'c', 'c'), ('a', 'a', 'a', 'c', 'c', 'c'), ('a', 'a', 'b', 'b', 'b', 'b'), ('a', 'a', 'b', 'b', 'b', 'c'), ('a', 'a', 'b', 'b', 'c', 'c'), ('a', 'a', 'b', 'c', 'c', 'c'), ('a', 'a', 'c', 'c', 'c', 'c'), ('a', 'b', 'b', 'b', 'b', 'b'), ('a', 'b', 'b', 'b', 'b', 'c'), ('a', 'b', 'b', 'b', 'c', 'c'), ('a', 'b', 'b', 'c', 'c', 'c'), ('a', 'b', 'c', 'c', 'c', 'c'), ('a', 'c', 'c', 'c', 'c', 'c'), ('b', 'b', 'b', 'b', 'b', 'b'), ('b', 'b', 'b', 'b', 'b', 'c'), ('b', 'b', 'b', 'b', 'c', 'c'), ('b', 'b', 'b', 'c', 'c', 'c'), ('b', 'b', 'c', 'c', 'c', 'c'), ('b', 'c', 'c', 'c', 'c', 'c'), ('c', 'c', 'c', 'c', 'c', 'c')]\n"
          ]
        }
      ]
    },
    {
      "cell_type": "markdown",
      "metadata": {
        "id": "ESWM5QfO6s8O"
      },
      "source": [
        "That is a huge difference!\n",
        "\n",
        "I cannot do ten without replacement, actually I can only do three at the most...\n",
        "\n",
        "If order matters it is $3!$ and if not $\\binom33$."
      ]
    },
    {
      "cell_type": "code",
      "metadata": {
        "id": "8rU6K0XU2e9w",
        "colab": {
          "base_uri": "https://localhost:8080/"
        },
        "outputId": "de5afe20-4dc0-4c71-91ef-4608440ce17a"
      },
      "source": [
        "math.factorial(3)"
      ],
      "execution_count": null,
      "outputs": [
        {
          "output_type": "execute_result",
          "data": {
            "text/plain": [
              "6"
            ]
          },
          "metadata": {},
          "execution_count": 14
        }
      ]
    },
    {
      "cell_type": "code",
      "metadata": {
        "id": "xX_OCLDv6d1k",
        "colab": {
          "base_uri": "https://localhost:8080/"
        },
        "outputId": "6607eb25-5210-4508-fbef-c1853e1214b0"
      },
      "source": [
        "math.factorial(3)/(math.factorial(0)*math.factorial(3))"
      ],
      "execution_count": null,
      "outputs": [
        {
          "output_type": "execute_result",
          "data": {
            "text/plain": [
              "1.0"
            ]
          },
          "metadata": {},
          "execution_count": 15
        }
      ]
    },
    {
      "cell_type": "markdown",
      "metadata": {
        "id": "23l2G0lW7tPZ"
      },
      "source": [
        "I'll leave the last question for y'all"
      ]
    },
    {
      "cell_type": "markdown",
      "metadata": {
        "id": "VGj-A8aD-pFS"
      },
      "source": [
        "Binomial Theorem says\n",
        "\n",
        "$$\n",
        "\\left(x+y\\right)^9 = \\sum_{n = 0}^9\\binom 9 n x^ny^{9-n}\n",
        "$$\n",
        "\n",
        "So here we have \n",
        "\n",
        "$$\n",
        "\\left(x+2\\right)^9 = \\sum_{n = 0}^9\\binom 9 n x^n2^{9-n}\n",
        "$$\n",
        "\n",
        "All you need to do is figure out when $n=5$"
      ]
    },
    {
      "cell_type": "code",
      "metadata": {
        "id": "KgmgYzYL7mOr"
      },
      "source": [
        "|"
      ],
      "execution_count": null,
      "outputs": []
    }
  ]
}
