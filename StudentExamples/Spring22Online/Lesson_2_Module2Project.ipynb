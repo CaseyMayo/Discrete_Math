{
  "nbformat": 4,
  "nbformat_minor": 0,
  "metadata": {
    "colab": {
      "name": "PyleToby_CPSMA3913_Lesson_2_Module2Project.ipynb",
      "provenance": [],
      "collapsed_sections": [],
      "include_colab_link": true
    },
    "kernelspec": {
      "name": "python3",
      "display_name": "Python 3"
    },
    "language_info": {
      "name": "python"
    }
  },
  "cells": [
    {
      "cell_type": "markdown",
      "metadata": {
        "id": "view-in-github",
        "colab_type": "text"
      },
      "source": [
        "<a href=\"https://colab.research.google.com/github/nurfnick/Discrete_Math/blob/master/Online/Lesson_2_Module2Project.ipynb\" target=\"_parent\"><img src=\"https://colab.research.google.com/assets/colab-badge.svg\" alt=\"Open In Colab\"/></a>"
      ]
    },
    {
      "cell_type": "markdown",
      "source": [
        "# Project Part #2 : CPSMA 3913 Dr. Jacob's Discrete Mathematics\n",
        "## Functions and Relations\n",
        "### Toby Pyle #250553"
      ],
      "metadata": {
        "id": "dCGtxPvDu7f8"
      }
    },
    {
      "cell_type": "markdown",
      "source": [
        "Below is the function for Amdahl's Law, which is used to determine the speedup of a process when you use parallel processors. \n",
        "\n",
        "                                  S=1/(f+((1-f)/p))\n",
        "\n",
        "S represents the total speedup of the process, f represents the serial execution fraction, which is the time that cannot be improved by parallel processing, and p represents the number of processors used.\n",
        "\n",
        "Below, I will show the function that contains a serial execution function of   0.5 seconds.\n",
        "\n",
        "                                  f(x)=1/(0.5+((1-0.5)/x))\n",
        "\n",
        "Since there must be 3 features, I will go ahead and throw in a power. This will give the square of how many processors we apply, meaning that the maximum speedup will approach much faster.\n",
        "\n",
        "                                  f(x)=1/(0.5+((1-0.5)/x^2)) \n",
        "                              \n",
        "Now we have coefficients, a variable, and a power. "
      ],
      "metadata": {
        "id": "IQS5Vj7EgHmt"
      }
    },
    {
      "cell_type": "code",
      "source": [
        "import math\n",
        "import numpy as np\n",
        "\n",
        "\n",
        "def Amdals(x):\n",
        "  return 1/(0.5+((1-0.5)/x**2))\n",
        "\n",
        "Amdals(10)"
      ],
      "metadata": {
        "colab": {
          "base_uri": "https://localhost:8080/"
        },
        "id": "tHmviPu0nMcH",
        "outputId": "7996eb64-a61f-4889-95bd-0ce1a96c99dc"
      },
      "execution_count": 1,
      "outputs": [
        {
          "output_type": "execute_result",
          "data": {
            "text/plain": [
              "1.9801980198019802"
            ]
          },
          "metadata": {},
          "execution_count": 1
        }
      ]
    },
    {
      "cell_type": "markdown",
      "source": [
        "You cannot run a computer with 0 processors, as you can tell by the equation, so I will start at 1. "
      ],
      "metadata": {
        "id": "-0HMHKR5oBX4"
      }
    },
    {
      "cell_type": "code",
      "source": [
        "import matplotlib.pyplot as plt\n",
        "\n",
        "x = np.arange(1,10,.1)\n",
        "\n",
        "plt.plot(x,Amdals(x))"
      ],
      "metadata": {
        "colab": {
          "base_uri": "https://localhost:8080/",
          "height": 283
        },
        "id": "auxZmqY4oVdZ",
        "outputId": "060eab70-9f17-49c2-8904-63213dd8958f"
      },
      "execution_count": 2,
      "outputs": [
        {
          "output_type": "execute_result",
          "data": {
            "text/plain": [
              "[<matplotlib.lines.Line2D at 0x7f251af2f850>]"
            ]
          },
          "metadata": {},
          "execution_count": 2
        },
        {
          "output_type": "display_data",
          "data": {
            "image/png": "[encoded data removed]",
            "text/plain": [
              "<Figure size 432x288 with 1 Axes>"
            ]
          },
          "metadata": {
            "needs_background": "light"
          }
        }
      ]
    },
    {
      "cell_type": "markdown",
      "source": [
        "The x-axis represent the total amount of processors, while the y-axis represent the total speedup accumulated by the added processors. Since the x was squared, we've approached the maximum speedup much quicker. "
      ],
      "metadata": {
        "id": "NRotxtHYpMdr"
      }
    },
    {
      "cell_type": "markdown",
      "source": [
        "The above graph appears to be one-to-one(injective), because it passes the horizontal line test and each y-coordinate only has 1 x-coordinate. The graph would not be onto(surjective), which means each member of the range has been mapped to. If you scroll up and see the input for x=10 that I did, you'll notice that it is just short of hitting a speedup of 2. "
      ],
      "metadata": {
        "id": "xoNB_Jt_q1EU"
      }
    },
    {
      "cell_type": "markdown",
      "source": [
        "##Dictionary"
      ],
      "metadata": {
        "id": "XdaJLuV3u06E"
      }
    },
    {
      "cell_type": "code",
      "source": [
        "A = ['Quadriceps','Biceps','Pectoralis','Deltoids','Latissimus']\n",
        "B = ['Legs','Arms','Chest','Shoulders','Back']\n",
        "\n",
        "dictionary = dict({a:b for a,b in zip(A, B)})"
      ],
      "metadata": {
        "id": "X2mQLjkmx2uP"
      },
      "execution_count": 3,
      "outputs": []
    },
    {
      "cell_type": "markdown",
      "source": [
        "Shown above is a dictionary representing a function. A represents the domain, while B represents the range. This function is bijective, both surjective and injective, because each member of the range is mapped to only once. "
      ],
      "metadata": {
        "id": "Pnj2s8P-ywJq"
      }
    },
    {
      "cell_type": "code",
      "source": [
        "dictionary"
      ],
      "metadata": {
        "colab": {
          "base_uri": "https://localhost:8080/"
        },
        "id": "pLeKzbRRzr3G",
        "outputId": "7f08c1d7-82f9-45ad-fa51-89c02106a40a"
      },
      "execution_count": 4,
      "outputs": [
        {
          "output_type": "execute_result",
          "data": {
            "text/plain": [
              "{'Biceps': 'Arms',\n",
              " 'Deltoids': 'Shoulders',\n",
              " 'Latissimus': 'Back',\n",
              " 'Pectoralis': 'Chest',\n",
              " 'Quadriceps': 'Legs'}"
            ]
          },
          "metadata": {},
          "execution_count": 4
        }
      ]
    },
    {
      "cell_type": "markdown",
      "source": [
        "This relation is neither reflexive, symmetric, nor transitive. It is, in fact, irreflexive and antisymmetric. \n",
        "\n",
        "  Biceps is not R to Biceps in this relation. This means that the relation is not reflexive, because it must be xRx for every x to be reflexive. \n",
        "  Biceps is R to Arms, but Arms is not R to Biceps. This means the relation is not symmetric because xRy and yRx is false. \n",
        "  Biceps is R to Arms, but Arms is not R to anything else in the relation, and neither is Biceps. This means the relation is not transitive. The relation is only transitive if xRy and yRz, then xRz."
      ],
      "metadata": {
        "id": "Mk71T4rf0L_L"
      }
    },
    {
      "cell_type": "code",
      "source": [
        "C = ['Heart','Obliques','Medials','Rotators','Calves','Traps']\n",
        "[dictionary.get(x,x) for x in C]"
      ],
      "metadata": {
        "colab": {
          "base_uri": "https://localhost:8080/"
        },
        "id": "hbmzP29k3QVr",
        "outputId": "b0de811b-3b8f-4c04-8409-57a16549a23a"
      },
      "execution_count": 5,
      "outputs": [
        {
          "output_type": "execute_result",
          "data": {
            "text/plain": [
              "['Heart', 'Obliques', 'Medials', 'Rotators', 'Calves', 'Traps']"
            ]
          },
          "metadata": {},
          "execution_count": 5
        }
      ]
    },
    {
      "cell_type": "markdown",
      "source": [
        "Last, we applied the dictionary to a small set, C. This gave us the output of the set itself. "
      ],
      "metadata": {
        "id": "mlfCySEv4AU6"
      }
    }
  ]
}
