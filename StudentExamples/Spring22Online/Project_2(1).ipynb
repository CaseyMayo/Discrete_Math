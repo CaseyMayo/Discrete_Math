{
  "nbformat": 4,
  "nbformat_minor": 0,
  "metadata": {
    "colab": {
      "name": "Project 2.ipynb",
      "provenance": [],
      "collapsed_sections": []
    },
    "kernelspec": {
      "name": "python3",
      "display_name": "Python 3"
    },
    "language_info": {
      "name": "python"
    }
  },
  "cells": [
    {
      "cell_type": "markdown",
      "source": [
        "\n",
        "#Project Part #2 : CPSMA 3133 Dr. Jacob's Discrete Mathematics\n",
        "#Function and Relations\n",
        "#Ashish Yonzon 269264\n"
      ],
      "metadata": {
        "id": "GXw9rjMehAhK"
      }
    },
    {
      "cell_type": "markdown",
      "source": [
        "#Function"
      ],
      "metadata": {
        "id": "TWiejeaGg9FO"
      }
    },
    {
      "cell_type": "markdown",
      "source": [
        ""
      ],
      "metadata": {
        "id": "mghESO0IhWPZ"
      }
    },
    {
      "cell_type": "markdown",
      "source": [
        "Let A and B be nonempty sets. A **function**  from A to B, which is denoted\n",
        "by *f*: A -> B, is a relation from A to B such that for all a ϵ A is mapped with unique element on B."
      ],
      "metadata": {
        "id": "N7cSQHyjngUn"
      }
    },
    {
      "cell_type": "markdown",
      "source": [
        "Let's define a sigmoid function for the project:\n",
        "\n",
        "$$\n",
        "f(x) = \\frac{1}{1+e^{-x}}\\\n",
        "$$\n",
        "\n",
        "\n",
        "\n"
      ],
      "metadata": {
        "id": "bmThBk8-piy2"
      }
    },
    {
      "cell_type": "markdown",
      "source": [
        "Most neural network architectures benefit from scaling the inputs (sometimes also the output) from the sigmoid function. Thus, this function is widely used in Machine Learning"
      ],
      "metadata": {
        "id": "5TvY_8fTsy3X"
      }
    },
    {
      "cell_type": "code",
      "source": [
        "#Importing the required libraries\n",
        "import numpy as np\n",
        "import pandas as pd\n",
        "import matplotlib.pyplot as plt\n",
        "import networkx as nx\n",
        "\n"
      ],
      "metadata": {
        "id": "bQBURaUqqw7f"
      },
      "execution_count": null,
      "outputs": []
    },
    {
      "cell_type": "code",
      "source": [
        "def sigmoidFunction(X,roundingValue):\n",
        "  return np.round(1/(1+np.e**-X),roundingValue)"
      ],
      "metadata": {
        "id": "LNHa5Jb9qrPZ"
      },
      "execution_count": null,
      "outputs": []
    },
    {
      "cell_type": "markdown",
      "source": [
        "#Graph of the function"
      ],
      "metadata": {
        "id": "COot_FnbQAMJ"
      }
    },
    {
      "cell_type": "code",
      "source": [
        "\n",
        "inputData = np.arange(-5,5.1,0.5)\n",
        "outputData= sigmoidFunction(inputData,5)\n",
        "plt.figure(dpi=120)\n",
        "plt.plot(inputData,outputData)\n",
        "plt.xlabel('X')\n",
        "plt.ylabel('y')\n",
        "plt.grid(True,which='both')\n",
        "\n",
        "plt.title('Sigmoid Function')\n"
      ],
      "metadata": {
        "colab": {
          "base_uri": "https://localhost:8080/",
          "height": 499
        },
        "id": "UlhZ5CiJt1rc",
        "outputId": "aa5067d7-4c62-4785-b308-a37299733cb8"
      },
      "execution_count": null,
      "outputs": [
        {
          "output_type": "execute_result",
          "data": {
            "text/plain": [
              "Text(0.5, 1.0, 'Sigmoid Function')"
            ]
          },
          "metadata": {},
          "execution_count": 91
        },
        {
          "output_type": "display_data",
          "data": {
            "image/png": "[encoded data removed]",
            "text/plain": [
              "<Figure size 720x480 with 1 Axes>"
            ]
          },
          "metadata": {
            "needs_background": "light"
          }
        }
      ]
    },
    {
      "cell_type": "markdown",
      "source": [
        "#Features of the function"
      ],
      "metadata": {
        "id": "_bwtO3jO8CZq"
      }
    },
    {
      "cell_type": "markdown",
      "source": [
        "\n",
        "\n",
        "1.  Sigmoid Function is used for **binary classification** as the function maps the domain to (0,1) so the rounding will give the result 0 or 1\n",
        "2.  Sigmoid function is a logistic function with S shaped curve\n",
        "1.   Sigmoid function is also used in logistic regression model\n",
        "\n",
        "\n",
        "\n",
        "\n",
        "\n",
        "\n"
      ],
      "metadata": {
        "id": "oPl2qw3D8Gu_"
      }
    },
    {
      "cell_type": "markdown",
      "source": [
        "\n",
        ". Define a dictionary in python.\n",
        "(a) Define a dictionary using numbers or strings. You dictionary should transform at least three items\n",
        "but I leave it totally up to you as to what you want to transform.\n",
        "(b) Apply your dictionary to a small set.\n",
        "(c) Consider your dictionary as an endo-relation. What set does it act upon? Is the relation reflexive,\n",
        "symmetric or transitive? Is it an equivalence relation?"
      ],
      "metadata": {
        "id": "XyZ-iy-PRqHF"
      }
    },
    {
      "cell_type": "markdown",
      "source": [
        "#Dictionary"
      ],
      "metadata": {
        "id": "WWInOAwT8IZI"
      }
    },
    {
      "cell_type": "markdown",
      "source": [
        "Consider a relation myRelation from a set mySet= {1,2,3} to itself"
      ],
      "metadata": {
        "id": "DLnZXz-rIj0I"
      }
    },
    {
      "cell_type": "code",
      "source": [
        "mySet=[1,2,3]\n",
        "myRelation = dict({a:b for a,b in zip(mySet,mySet)})"
      ],
      "metadata": {
        "id": "l-3701xvAlVl"
      },
      "execution_count": null,
      "outputs": []
    },
    {
      "cell_type": "code",
      "source": [
        "myRelation"
      ],
      "metadata": {
        "colab": {
          "base_uri": "https://localhost:8080/"
        },
        "id": "CSNAoSzTCkaR",
        "outputId": "f7f321b4-b6d5-4c41-903f-b9398129c803"
      },
      "execution_count": null,
      "outputs": [
        {
          "output_type": "execute_result",
          "data": {
            "text/plain": [
              "{1: 1, 2: 2, 3: 3}"
            ]
          },
          "metadata": {},
          "execution_count": 97
        }
      ]
    },
    {
      "cell_type": "markdown",
      "source": [
        "myRelation is the dictionary that is the relation from mySet to mySet which is defined using numbers\n"
      ],
      "metadata": {
        "id": "ppkLctstKZ-w"
      }
    },
    {
      "cell_type": "code",
      "source": [
        "def drawDigraph(myDictionary):\n",
        "  graphConstructor =nx.DiGraph()\n",
        "  graphConstructor.add_edges_from(myDictionary.items()) \n",
        "  #add_edges_from only takes list\n",
        "  #myDictionary.items() is done so that the dictinary converts to the list \n",
        "  layoutDesigned =nx.spring_layout(graphConstructor)\n",
        "  nx.draw_networkx_nodes(graphConstructor,layoutDesigned,node_size=600)\n",
        "  nx.draw_networkx_edges(graphConstructor,layoutDesigned,edgelist=graphConstructor.edges(),edge_color='black')\n",
        "  nx.draw_networkx_labels(graphConstructor,layoutDesigned)\n",
        "  plt.show()\n"
      ],
      "metadata": {
        "id": "NyQEaItyM11t"
      },
      "execution_count": null,
      "outputs": []
    },
    {
      "cell_type": "code",
      "source": [
        "drawDigraph(myRelation)"
      ],
      "metadata": {
        "colab": {
          "base_uri": "https://localhost:8080/",
          "height": 248
        },
        "id": "3Vg07DTvNbCt",
        "outputId": "dd3ede47-4863-4b70-e891-7e4c5e2d9148"
      },
      "execution_count": null,
      "outputs": [
        {
          "output_type": "display_data",
          "data": {
            "image/png": "[encoded data removed]",
            "text/plain": [
              "<Figure size 432x288 with 1 Axes>"
            ]
          },
          "metadata": {}
        }
      ]
    },
    {
      "cell_type": "markdown",
      "source": [
        "#Is it an equivalence relation?"
      ],
      "metadata": {
        "id": "Wa2F-2VDQe-w"
      }
    },
    {
      "cell_type": "markdown",
      "source": [
        "* The relation is **reflexive** as ∀ a ϵ A, a *R* a\n",
        "*  myRelation is **symetric** as whenever a *R* b then b *R* a\n",
        "* myRelation is **transitive** as whenever a *R* b ,b *R* c then a *R* c\n",
        "* Thus the relation generated is **equivalence relation**\n",
        "\n",
        "\n",
        "\n"
      ],
      "metadata": {
        "id": "osfFfIs5KRBJ"
      }
    },
    {
      "cell_type": "markdown",
      "source": [
        "#Another Relation"
      ],
      "metadata": {
        "id": "gLiaB3idSY32"
      }
    },
    {
      "cell_type": "code",
      "source": [
        "secondDictionary = dict({1: 2, 2: 4, 3: 4, 4: 1})\n",
        "secondDictionary"
      ],
      "metadata": {
        "colab": {
          "base_uri": "https://localhost:8080/"
        },
        "id": "uzp8smw1PFQE",
        "outputId": "fddb02ab-ce27-4e2a-8ec7-f729a0b8e23b"
      },
      "execution_count": null,
      "outputs": [
        {
          "output_type": "execute_result",
          "data": {
            "text/plain": [
              "{1: 2, 2: 4, 3: 4, 4: 1}"
            ]
          },
          "metadata": {},
          "execution_count": 107
        }
      ]
    },
    {
      "cell_type": "code",
      "source": [
        "drawDigraph(secondDictionary)"
      ],
      "metadata": {
        "colab": {
          "base_uri": "https://localhost:8080/",
          "height": 248
        },
        "id": "1GnTFvZuPs2G",
        "outputId": "7eb82371-679e-4c75-c312-22b73c35f615"
      },
      "execution_count": null,
      "outputs": [
        {
          "output_type": "display_data",
          "data": {
            "image/png": "[encoded data removed]",
            "text/plain": [
              "<Figure size 432x288 with 1 Axes>"
            ]
          },
          "metadata": {}
        }
      ]
    },
    {
      "cell_type": "markdown",
      "source": [
        "* The relation is not  **reflexive**.\n",
        "* The relation is not **symetric** .\n",
        "* The relation is not **transitive**.\n",
        "* Thus the relation is not **equivalence relation**"
      ],
      "metadata": {
        "id": "MNEVOF_JP1-3"
      }
    },
    {
      "cell_type": "markdown",
      "source": [
        "#Findings"
      ],
      "metadata": {
        "id": "-TChmqMCTV8l"
      }
    },
    {
      "cell_type": "markdown",
      "source": [
        "The sigmoid function is defined for all real input values.\n",
        "So the domain of the function =( -∞, ∞) and the range of the function is (0,1).The function is used to binary classify meaning to produce the output 0 or 1 based on the input. The function. The logistic function was introduced  by Pierre François Verhulst. The function is bijective in its domain"
      ],
      "metadata": {
        "id": "wNLL8aJ9Tyll"
      }
    },
    {
      "cell_type": "markdown",
      "source": [
        "The relation is defined with the set A = {1,2,3} and the relation is defined by python , the 1st relation is an equivalence relation but the second relation is not. The clarification was done with the help of digraph."
      ],
      "metadata": {
        "id": "unwMJm5uV809"
      }
    },
    {
      "cell_type": "markdown",
      "source": [
        "The variables have been named descriptively and they follow the Camel Case convention the first letter of a first word is in small letter and the first word of the another letters are in capital letter"
      ],
      "metadata": {
        "id": "3_q9PFgyWRYB"
      }
    },
    {
      "cell_type": "markdown",
      "source": [
        "#Is the function bijective?"
      ],
      "metadata": {
        "id": "I1NJBuTWQORg"
      }
    },
    {
      "cell_type": "code",
      "source": [
        "d = {'X': inputData, 'y': outputData}\n",
        "df = pd.DataFrame(data=d)\n",
        "df"
      ],
      "metadata": {
        "colab": {
          "base_uri": "https://localhost:8080/",
          "height": 708
        },
        "id": "wTlUrsNE8Dnq",
        "outputId": "d54fe52f-d2ee-4ff1-f44d-152b996c79cc"
      },
      "execution_count": null,
      "outputs": [
        {
          "output_type": "execute_result",
          "data": {
            "text/html": [
              "\n",
              "  <div id=\"df-878b1d4e-3be3-4c31-aad8-a5771816b79b\">\n",
              "    <div class=\"colab-df-container\">\n",
              "      <div>\n",
              "<style scoped>\n",
              "    .dataframe tbody tr th:only-of-type {\n",
              "        vertical-align: middle;\n",
              "    }\n",
              "\n",
              "    .dataframe tbody tr th {\n",
              "        vertical-align: top;\n",
              "    }\n",
              "\n",
              "    .dataframe thead th {\n",
              "        text-align: right;\n",
              "    }\n",
              "</style>\n",
              "<table border=\"1\" class=\"dataframe\">\n",
              "  <thead>\n",
              "    <tr style=\"text-align: right;\">\n",
              "      <th></th>\n",
              "      <th>X</th>\n",
              "      <th>y</th>\n",
              "    </tr>\n",
              "  </thead>\n",
              "  <tbody>\n",
              "    <tr>\n",
              "      <th>0</th>\n",
              "      <td>-5.0</td>\n",
              "      <td>0.00669</td>\n",
              "    </tr>\n",
              "    <tr>\n",
              "      <th>1</th>\n",
              "      <td>-4.5</td>\n",
              "      <td>0.01099</td>\n",
              "    </tr>\n",
              "    <tr>\n",
              "      <th>2</th>\n",
              "      <td>-4.0</td>\n",
              "      <td>0.01799</td>\n",
              "    </tr>\n",
              "    <tr>\n",
              "      <th>3</th>\n",
              "      <td>-3.5</td>\n",
              "      <td>0.02931</td>\n",
              "    </tr>\n",
              "    <tr>\n",
              "      <th>4</th>\n",
              "      <td>-3.0</td>\n",
              "      <td>0.04743</td>\n",
              "    </tr>\n",
              "    <tr>\n",
              "      <th>5</th>\n",
              "      <td>-2.5</td>\n",
              "      <td>0.07586</td>\n",
              "    </tr>\n",
              "    <tr>\n",
              "      <th>6</th>\n",
              "      <td>-2.0</td>\n",
              "      <td>0.11920</td>\n",
              "    </tr>\n",
              "    <tr>\n",
              "      <th>7</th>\n",
              "      <td>-1.5</td>\n",
              "      <td>0.18243</td>\n",
              "    </tr>\n",
              "    <tr>\n",
              "      <th>8</th>\n",
              "      <td>-1.0</td>\n",
              "      <td>0.26894</td>\n",
              "    </tr>\n",
              "    <tr>\n",
              "      <th>9</th>\n",
              "      <td>-0.5</td>\n",
              "      <td>0.37754</td>\n",
              "    </tr>\n",
              "    <tr>\n",
              "      <th>10</th>\n",
              "      <td>0.0</td>\n",
              "      <td>0.50000</td>\n",
              "    </tr>\n",
              "    <tr>\n",
              "      <th>11</th>\n",
              "      <td>0.5</td>\n",
              "      <td>0.62246</td>\n",
              "    </tr>\n",
              "    <tr>\n",
              "      <th>12</th>\n",
              "      <td>1.0</td>\n",
              "      <td>0.73106</td>\n",
              "    </tr>\n",
              "    <tr>\n",
              "      <th>13</th>\n",
              "      <td>1.5</td>\n",
              "      <td>0.81757</td>\n",
              "    </tr>\n",
              "    <tr>\n",
              "      <th>14</th>\n",
              "      <td>2.0</td>\n",
              "      <td>0.88080</td>\n",
              "    </tr>\n",
              "    <tr>\n",
              "      <th>15</th>\n",
              "      <td>2.5</td>\n",
              "      <td>0.92414</td>\n",
              "    </tr>\n",
              "    <tr>\n",
              "      <th>16</th>\n",
              "      <td>3.0</td>\n",
              "      <td>0.95257</td>\n",
              "    </tr>\n",
              "    <tr>\n",
              "      <th>17</th>\n",
              "      <td>3.5</td>\n",
              "      <td>0.97069</td>\n",
              "    </tr>\n",
              "    <tr>\n",
              "      <th>18</th>\n",
              "      <td>4.0</td>\n",
              "      <td>0.98201</td>\n",
              "    </tr>\n",
              "    <tr>\n",
              "      <th>19</th>\n",
              "      <td>4.5</td>\n",
              "      <td>0.98901</td>\n",
              "    </tr>\n",
              "    <tr>\n",
              "      <th>20</th>\n",
              "      <td>5.0</td>\n",
              "      <td>0.99331</td>\n",
              "    </tr>\n",
              "  </tbody>\n",
              "</table>\n",
              "</div>\n",
              "      <button class=\"colab-df-convert\" onclick=\"convertToInteractive('df-878b1d4e-3be3-4c31-aad8-a5771816b79b')\"\n",
              "              title=\"Convert this dataframe to an interactive table.\"\n",
              "              style=\"display:none;\">\n",
              "        \n",
              "  <svg xmlns=\"http://www.w3.org/2000/svg\" height=\"24px\"viewBox=\"0 0 24 24\"\n",
              "       width=\"24px\">\n",
              "    <path d=\"M0 0h24v24H0V0z\" fill=\"none\"/>\n",
              "    <path d=\"M18.56 5.44l.94 2.06.94-2.06 2.06-.94-2.06-.94-.94-2.06-.94 2.06-2.06.94zm-11 1L8.5 8.5l.94-2.06 2.06-.94-2.06-.94L8.5 2.5l-.94 2.06-2.06.94zm10 10l.94 2.06.94-2.06 2.06-.94-2.06-.94-.94-2.06-.94 2.06-2.06.94z\"/><path d=\"M17.41 7.96l-1.37-1.37c-.4-.4-.92-.59-1.43-.59-.52 0-1.04.2-1.43.59L10.3 9.45l-7.72 7.72c-.78.78-.78 2.05 0 2.83L4 21.41c.39.39.9.59 1.41.59.51 0 1.02-.2 1.41-.59l7.78-7.78 2.81-2.81c.8-.78.8-2.07 0-2.86zM5.41 20L4 18.59l7.72-7.72 1.47 1.35L5.41 20z\"/>\n",
              "  </svg>\n",
              "      </button>\n",
              "      \n",
              "  <style>\n",
              "    .colab-df-container {\n",
              "      display:flex;\n",
              "      flex-wrap:wrap;\n",
              "      gap: 12px;\n",
              "    }\n",
              "\n",
              "    .colab-df-convert {\n",
              "      background-color: #E8F0FE;\n",
              "      border: none;\n",
              "      border-radius: 50%;\n",
              "      cursor: pointer;\n",
              "      display: none;\n",
              "      fill: #1967D2;\n",
              "      height: 32px;\n",
              "      padding: 0 0 0 0;\n",
              "      width: 32px;\n",
              "    }\n",
              "\n",
              "    .colab-df-convert:hover {\n",
              "      background-color: #E2EBFA;\n",
              "      box-shadow: 0px 1px 2px rgba(60, 64, 67, 0.3), 0px 1px 3px 1px rgba(60, 64, 67, 0.15);\n",
              "      fill: #174EA6;\n",
              "    }\n",
              "\n",
              "    [theme=dark] .colab-df-convert {\n",
              "      background-color: #3B4455;\n",
              "      fill: #D2E3FC;\n",
              "    }\n",
              "\n",
              "    [theme=dark] .colab-df-convert:hover {\n",
              "      background-color: #434B5C;\n",
              "      box-shadow: 0px 1px 3px 1px rgba(0, 0, 0, 0.15);\n",
              "      filter: drop-shadow(0px 1px 2px rgba(0, 0, 0, 0.3));\n",
              "      fill: #FFFFFF;\n",
              "    }\n",
              "  </style>\n",
              "\n",
              "      <script>\n",
              "        const buttonEl =\n",
              "          document.querySelector('#df-878b1d4e-3be3-4c31-aad8-a5771816b79b button.colab-df-convert');\n",
              "        buttonEl.style.display =\n",
              "          google.colab.kernel.accessAllowed ? 'block' : 'none';\n",
              "\n",
              "        async function convertToInteractive(key) {\n",
              "          const element = document.querySelector('#df-878b1d4e-3be3-4c31-aad8-a5771816b79b');\n",
              "          const dataTable =\n",
              "            await google.colab.kernel.invokeFunction('convertToInteractive',\n",
              "                                                     [key], {});\n",
              "          if (!dataTable) return;\n",
              "\n",
              "          const docLinkHtml = 'Like what you see? Visit the ' +\n",
              "            '<a target=\"_blank\" href=https://colab.research.google.com/notebooks/data_table.ipynb>data table notebook</a>'\n",
              "            + ' to learn more about interactive tables.';\n",
              "          element.innerHTML = '';\n",
              "          dataTable['output_type'] = 'display_data';\n",
              "          await google.colab.output.renderOutput(dataTable, element);\n",
              "          const docLink = document.createElement('div');\n",
              "          docLink.innerHTML = docLinkHtml;\n",
              "          element.appendChild(docLink);\n",
              "        }\n",
              "      </script>\n",
              "    </div>\n",
              "  </div>\n",
              "  "
            ],
            "text/plain": [
              "      X        y\n",
              "0  -5.0  0.00669\n",
              "1  -4.5  0.01099\n",
              "2  -4.0  0.01799\n",
              "3  -3.5  0.02931\n",
              "4  -3.0  0.04743\n",
              "5  -2.5  0.07586\n",
              "6  -2.0  0.11920\n",
              "7  -1.5  0.18243\n",
              "8  -1.0  0.26894\n",
              "9  -0.5  0.37754\n",
              "10  0.0  0.50000\n",
              "11  0.5  0.62246\n",
              "12  1.0  0.73106\n",
              "13  1.5  0.81757\n",
              "14  2.0  0.88080\n",
              "15  2.5  0.92414\n",
              "16  3.0  0.95257\n",
              "17  3.5  0.97069\n",
              "18  4.0  0.98201\n",
              "19  4.5  0.98901\n",
              "20  5.0  0.99331"
            ]
          },
          "metadata": {},
          "execution_count": 92
        }
      ]
    },
    {
      "cell_type": "markdown",
      "source": [
        "As we can see that for x ϵ  [-5,5] , has exactly one *f(x)* \n",
        "and the range is in (0,1) but the python shows the f(x) = 1 for larger values of x"
      ],
      "metadata": {
        "id": "enQALrzx-Ude"
      }
    },
    {
      "cell_type": "code",
      "source": [
        "print(f\"Sigmoid Function rounding to 5 decimal places is:{sigmoidFunction(15,5)}\")\n",
        "print(f\"Sigmoid Function rounding to 5 decimal places is:{sigmoidFunction(15,9)}\")"
      ],
      "metadata": {
        "colab": {
          "base_uri": "https://localhost:8080/"
        },
        "id": "D66iInBs3lqp",
        "outputId": "174221af-f441-45bc-866e-44837ad6de1b"
      },
      "execution_count": null,
      "outputs": [
        {
          "output_type": "stream",
          "name": "stdout",
          "text": [
            "Sigmoid Function rounding to 5 decimal places is:1.0\n",
            "Sigmoid Function rounding to 5 decimal places is:0.999999694\n"
          ]
        }
      ]
    },
    {
      "cell_type": "markdown",
      "source": [
        "**Onto**\n"
      ],
      "metadata": {
        "id": "izqVcWzP6MSR"
      }
    },
    {
      "cell_type": "markdown",
      "source": [
        "\n",
        "$$\n",
        "y = \\frac{1}{1+e^{-x}}\\\n",
        "$$\n",
        "\n",
        "$$\n",
        "1+e^{-x} = \\frac{1}{y}\\\n",
        "$$\n",
        "$$\n",
        "e^{-x} = \\frac{1}{y} -1\n",
        "$$\n",
        "$$\n",
        "x = -ln(\\frac{1-y}{y})\n",
        "$$\n"
      ],
      "metadata": {
        "id": "qKnSav1V6ag9"
      }
    },
    {
      "cell_type": "code",
      "source": [
        "def inverseSigmoid(y):\n",
        "  return -np.log((1-y)/y)"
      ],
      "metadata": {
        "id": "WN9k-_uD1l-2"
      },
      "execution_count": null,
      "outputs": []
    },
    {
      "cell_type": "code",
      "source": [
        "#The range is (0,1) which is also shown from the graph\n",
        "print(f\"when y=1 x is:{inverseSigmoid(1)}\")\n",
        "print(f\"when y=.5 x is:{inverseSigmoid(0.37754)}\")"
      ],
      "metadata": {
        "colab": {
          "base_uri": "https://localhost:8080/"
        },
        "id": "DAALC9cP4n_K",
        "outputId": "91ba8bf0-d4e3-447a-e764-a0ec7167fac0"
      },
      "execution_count": null,
      "outputs": [
        {
          "output_type": "stream",
          "name": "stdout",
          "text": [
            "when y=1 x is:inf\n",
            "when y=.5 x is:-0.5000028459055913\n"
          ]
        },
        {
          "output_type": "stream",
          "name": "stderr",
          "text": [
            "/usr/local/lib/python3.7/dist-packages/ipykernel_launcher.py:2: RuntimeWarning: divide by zero encountered in log\n",
            "  \n"
          ]
        }
      ]
    },
    {
      "cell_type": "markdown",
      "source": [
        "The function is continuous and within the range (0,1) there exists a number so the function is onto. Thus the function is bijective function\n"
      ],
      "metadata": {
        "id": "pIWLEFeh1m5M"
      }
    },
    {
      "cell_type": "markdown",
      "source": [
        "# Relations possible with the set"
      ],
      "metadata": {
        "id": "23B8E29oQbIR"
      }
    },
    {
      "cell_type": "markdown",
      "source": [
        "The number of subsets of an n element set is $$ 2^n$$  so the number of relations on AxB is\n",
        " $$ 2^{|A| *|B|}$$,\n",
        "\n",
        "\n"
      ],
      "metadata": {
        "id": "QiupyEQjRIfK"
      }
    },
    {
      "cell_type": "code",
      "source": [
        "print(f\"The possible relations with set A is: {2**(len(mySet)* len(mySet))}\")"
      ],
      "metadata": {
        "colab": {
          "base_uri": "https://localhost:8080/"
        },
        "id": "OD5unxhCSLH7",
        "outputId": "0ddd4573-79f8-4f45-a30c-745effc1bd1e"
      },
      "execution_count": null,
      "outputs": [
        {
          "output_type": "stream",
          "name": "stdout",
          "text": [
            "The possible relations with set A is: 512\n"
          ]
        }
      ]
    }
  ]
}