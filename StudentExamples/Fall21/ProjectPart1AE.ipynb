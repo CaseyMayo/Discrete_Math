{
  "nbformat": 4,
  "nbformat_minor": 0,
  "metadata": {
    "colab": {
      "name": "ProjectPart1AE.ipynb",
      "provenance": []
    },
    "kernelspec": {
      "name": "python3",
      "display_name": "Python 3"
    }
  },
  "cells": [
    {
      "cell_type": "markdown",
      "metadata": {
        "id": "ySAw8LMwU0uh"
      },
      "source": [
        "# Project Part # : CPSMA 3133 [Dr. Jacob's](https://github.com/nurfnick) Discrete Mathematics \n",
        "\n",
        "### Amarah Eudovique ID#243017\n",
        "\n",
        "## Love isn't in the air, it's in the hair!\n",
        "\n",
        "![BLKowned](https://images.ulta.com/is/image/Ulta/wk1920_black-owned-bb-header-d?scl=1)\n",
        "\n"
      ]
    },
    {
      "cell_type": "markdown",
      "metadata": {
        "id": "Xs_Pvtua1Nnt"
      },
      "source": [
        "## 1 Sets"
      ]
    },
    {
      "cell_type": "markdown",
      "metadata": {
        "id": "N9SbVCJ0JIwO"
      },
      "source": [
        "The theme of this project is that of black-owned hair products. There will be three sets, each containing some of the top black-owned hair care brands based off of the different types of hair porosity: low (Set ***A***), medium (Set ***B***), and high (Set ***C***) porosity."
      ]
    },
    {
      "cell_type": "markdown",
      "metadata": {
        "id": "VVik2rpDVVxC"
      },
      "source": [
        "![Porosity](https://blogscdn.thehut.net/app/uploads/sites/2/2020/07/Cantu-Hair-Porosity-Test_1595323023-672x672.jpg)"
      ]
    },
    {
      "cell_type": "code",
      "metadata": {
        "id": "Gol3n0bO27r9"
      },
      "source": [
        "A = ['mielle','asiam','eden','kinkycurly','TGIN','auntjackie','carols','ManeChoice']\n",
        "B = ['camillerose','BREAD','ManeChoice','SheaMoisture','mielle','mixedchicks']\n",
        "C = ['qhemet','KBB','soultanicals','janecarter','adwoa','curlsmith','mielle','TGIN','ManeChoice']"
      ],
      "execution_count": 126,
      "outputs": []
    },
    {
      "cell_type": "markdown",
      "metadata": {
        "id": "rWnYJpwmQYbE"
      },
      "source": [
        "My universal set ***U*** consists of all the black-owned hair brands under consideration. Some of my personal favorite are Mielle (Organics) and Asiam. Although, for the most part, I have low porosity hair, I have found Camille Rose to work wonders on my hair but I believe that that may have to do more with my hair type rather than my pororsity."
      ]
    },
    {
      "cell_type": "markdown",
      "metadata": {
        "id": "m0UM4s3aX0-v"
      },
      "source": [
        "![products.jpg](data:image/jpeg;base64,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)"
      ]
    },
    {
      "cell_type": "code",
      "metadata": {
        "colab": {
          "base_uri": "https://localhost:8080/"
        },
        "id": "oJAu_gXkYqZU",
        "outputId": "02da8ac6-9667-408b-94f9-e5cb815b3b3f"
      },
      "source": [
        "SetofSets = [A,B,C,D]\n",
        "U = []\n",
        "for sett in SetofSets:\n",
        "  for products in sett:\n",
        "    U.append(products)\n",
        "\n",
        "set(U)"
      ],
      "execution_count": 127,
      "outputs": [
        {
          "output_type": "execute_result",
          "data": {
            "text/plain": [
              "{'BREAD',\n",
              " 'KBB',\n",
              " 'ManeChoice',\n",
              " 'SheaMoisture',\n",
              " 'TGIN',\n",
              " 'adwoa',\n",
              " 'alaffia',\n",
              " 'anitagrant',\n",
              " 'asiam',\n",
              " 'auntjackie',\n",
              " 'camillerose',\n",
              " 'carols',\n",
              " 'curlsmith',\n",
              " 'eden',\n",
              " 'giovanni',\n",
              " 'janecarter',\n",
              " 'kinkycurly',\n",
              " 'mielle',\n",
              " 'mixedchicks',\n",
              " 'qhemet',\n",
              " 'soultanicals',\n",
              " 'traderjoe',\n",
              " 'verb'}"
            ]
          },
          "metadata": {},
          "execution_count": 127
        }
      ]
    },
    {
      "cell_type": "markdown",
      "metadata": {
        "id": "jKPSS1_1avXE"
      },
      "source": [
        "Set ***D*** is an additional set containing other hair care products."
      ]
    },
    {
      "cell_type": "code",
      "metadata": {
        "id": "AAQNzSWZR0q0"
      },
      "source": [
        "D = ['traderjoe','verb','anitagrant','alaffia','giovanni']"
      ],
      "execution_count": 128,
      "outputs": []
    },
    {
      "cell_type": "markdown",
      "metadata": {
        "id": "HVuYa-Tubyhd"
      },
      "source": [
        "The **union** of two sets is a set containing elements that belong to either set. Below, the unions of AB, AC, and BC were obtained using the coding term 'union'. This process provided no difficulty."
      ]
    },
    {
      "cell_type": "code",
      "metadata": {
        "id": "rXx_c9XU47ml",
        "colab": {
          "base_uri": "https://localhost:8080/"
        },
        "outputId": "0667d7a9-73e1-4f99-efab-6a0a55cd49cd"
      },
      "source": [
        "UnionAB = []\n",
        "\n",
        "for a in A:\n",
        "  UnionAB.append(a)\n",
        "for b in B:\n",
        "  UnionAB.append(b)\n",
        "\n",
        "set(UnionAB)"
      ],
      "execution_count": 129,
      "outputs": [
        {
          "output_type": "execute_result",
          "data": {
            "text/plain": [
              "{'BREAD',\n",
              " 'ManeChoice',\n",
              " 'SheaMoisture',\n",
              " 'TGIN',\n",
              " 'asiam',\n",
              " 'auntjackie',\n",
              " 'camillerose',\n",
              " 'carols',\n",
              " 'eden',\n",
              " 'kinkycurly',\n",
              " 'mielle',\n",
              " 'mixedchicks'}"
            ]
          },
          "metadata": {},
          "execution_count": 129
        }
      ]
    },
    {
      "cell_type": "code",
      "metadata": {
        "colab": {
          "base_uri": "https://localhost:8080/"
        },
        "id": "iHn74dXSadhb",
        "outputId": "1ea7a6e6-472f-4421-8119-25462589a214"
      },
      "source": [
        "UnionAC = []\n",
        "\n",
        "for a in A:\n",
        "  UnionAC.append(a)\n",
        "for c in C:\n",
        "  UnionAC.append(c)\n",
        "\n",
        "set(UnionAC)"
      ],
      "execution_count": 130,
      "outputs": [
        {
          "output_type": "execute_result",
          "data": {
            "text/plain": [
              "{'KBB',\n",
              " 'ManeChoice',\n",
              " 'TGIN',\n",
              " 'adwoa',\n",
              " 'asiam',\n",
              " 'auntjackie',\n",
              " 'carols',\n",
              " 'curlsmith',\n",
              " 'eden',\n",
              " 'janecarter',\n",
              " 'kinkycurly',\n",
              " 'mielle',\n",
              " 'qhemet',\n",
              " 'soultanicals'}"
            ]
          },
          "metadata": {},
          "execution_count": 130
        }
      ]
    },
    {
      "cell_type": "code",
      "metadata": {
        "colab": {
          "base_uri": "https://localhost:8080/"
        },
        "id": "7p42BTLHa7Op",
        "outputId": "c67ca9e0-7127-42ad-fa78-8c54b3bea898"
      },
      "source": [
        "UnionBC = []\n",
        "\n",
        "for b in B:\n",
        "  UnionBC.append(b)\n",
        "for c in C:\n",
        "  UnionBC.append(c)\n",
        "\n",
        "set(UnionBC)"
      ],
      "execution_count": 131,
      "outputs": [
        {
          "output_type": "execute_result",
          "data": {
            "text/plain": [
              "{'BREAD',\n",
              " 'KBB',\n",
              " 'ManeChoice',\n",
              " 'SheaMoisture',\n",
              " 'TGIN',\n",
              " 'adwoa',\n",
              " 'camillerose',\n",
              " 'curlsmith',\n",
              " 'janecarter',\n",
              " 'mielle',\n",
              " 'mixedchicks',\n",
              " 'qhemet',\n",
              " 'soultanicals'}"
            ]
          },
          "metadata": {},
          "execution_count": 131
        }
      ]
    },
    {
      "cell_type": "markdown",
      "metadata": {
        "id": "UuhyijPfgsv0"
      },
      "source": [
        "The **intersection** of two sets is a set containing elements that belong to both sets. Computing the results below was fairly simple. The coding term 'Intersection' was used. It is to my understanding that the word 'Cap' could have also been used. For instance 'ACapB'.\n",
        "\n",
        "It was observed that for each intersection, they all shared the same two elements: 'mielle' and 'ManeChoice'. Thererfore, these two products should be able to perform their job quite nicely for any given hair porosity. That's an **A++** in my opinion. They deserve some awards. Don't you think?"
      ]
    },
    {
      "cell_type": "markdown",
      "metadata": {
        "id": "Mcd3rYSUYM_5"
      },
      "source": [
        "![mielle.jpg](data:image/jpeg;base64,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)"
      ]
    },
    {
      "cell_type": "code",
      "metadata": {
        "colab": {
          "base_uri": "https://localhost:8080/"
        },
        "id": "k6L_1Mg4Ac_S",
        "outputId": "a93e11af-9f3d-435b-c09f-611e200512d3"
      },
      "source": [
        "ACapB = []\n",
        "for character in A:\n",
        "  if character in B:\n",
        "    ACapB.append(character)\n",
        "\n",
        "ACapB"
      ],
      "execution_count": 132,
      "outputs": [
        {
          "output_type": "execute_result",
          "data": {
            "text/plain": [
              "['mielle', 'ManeChoice']"
            ]
          },
          "metadata": {},
          "execution_count": 132
        }
      ]
    },
    {
      "cell_type": "code",
      "metadata": {
        "id": "Bb66hczv79On",
        "colab": {
          "base_uri": "https://localhost:8080/"
        },
        "outputId": "0cf68535-6a06-4a16-f513-fd96b785b721"
      },
      "source": [
        "IntersectionAB = []\n",
        "\n",
        "for a in A:\n",
        "  if a in B:\n",
        "    IntersectionAB.append(a)\n",
        "\n",
        "IntersectionAB"
      ],
      "execution_count": 133,
      "outputs": [
        {
          "output_type": "execute_result",
          "data": {
            "text/plain": [
              "['mielle', 'ManeChoice']"
            ]
          },
          "metadata": {},
          "execution_count": 133
        }
      ]
    },
    {
      "cell_type": "code",
      "metadata": {
        "colab": {
          "base_uri": "https://localhost:8080/"
        },
        "id": "stovdJw7bMjW",
        "outputId": "1637dc1d-3179-4fab-b07b-6392e0b00d95"
      },
      "source": [
        "IntersectionAC = []\n",
        "\n",
        "for a in A:\n",
        "  if a in C:\n",
        "    IntersectionAC.append(a)\n",
        "\n",
        "IntersectionAC"
      ],
      "execution_count": 134,
      "outputs": [
        {
          "output_type": "execute_result",
          "data": {
            "text/plain": [
              "['mielle', 'TGIN', 'ManeChoice']"
            ]
          },
          "metadata": {},
          "execution_count": 134
        }
      ]
    },
    {
      "cell_type": "code",
      "metadata": {
        "colab": {
          "base_uri": "https://localhost:8080/"
        },
        "id": "e1Y2zhGtbk0x",
        "outputId": "d4b8d990-af50-434a-ee64-00f036e3edfb"
      },
      "source": [
        "IntersectionBC = []\n",
        "\n",
        "for b in B:\n",
        "  if b in C:\n",
        "    IntersectionBC.append(b)\n",
        "\n",
        "IntersectionBC"
      ],
      "execution_count": 135,
      "outputs": [
        {
          "output_type": "execute_result",
          "data": {
            "text/plain": [
              "['ManeChoice', 'mielle']"
            ]
          },
          "metadata": {},
          "execution_count": 135
        }
      ]
    },
    {
      "cell_type": "markdown",
      "metadata": {
        "id": "RDohj6hSAsdP"
      },
      "source": [
        "There are two diffferent types of complements: partial and total. Those done below are total complements where, for example, A complement is all things period that are not in A. "
      ]
    },
    {
      "cell_type": "markdown",
      "metadata": {
        "id": "Yx5fNAnSYqsv"
      },
      "source": [
        "![camille.jpg](data:image/jpeg;base64,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)"
      ]
    },
    {
      "cell_type": "code",
      "metadata": {
        "id": "HnXuz_EY-YP4",
        "colab": {
          "base_uri": "https://localhost:8080/"
        },
        "outputId": "e7ecbe56-afd7-4ae6-c426-2170a9c49d81"
      },
      "source": [
        "ComplementA = []\n",
        "\n",
        "for u in U:\n",
        "  if u not in A:\n",
        "    ComplementA.append(u)\n",
        "    \n",
        "ComplementA"
      ],
      "execution_count": 136,
      "outputs": [
        {
          "output_type": "execute_result",
          "data": {
            "text/plain": [
              "['camillerose',\n",
              " 'BREAD',\n",
              " 'SheaMoisture',\n",
              " 'mixedchicks',\n",
              " 'qhemet',\n",
              " 'KBB',\n",
              " 'soultanicals',\n",
              " 'janecarter',\n",
              " 'adwoa',\n",
              " 'curlsmith',\n",
              " 'traderjoe',\n",
              " 'verb',\n",
              " 'anitagrant',\n",
              " 'alaffia',\n",
              " 'giovanni']"
            ]
          },
          "metadata": {},
          "execution_count": 136
        }
      ]
    },
    {
      "cell_type": "code",
      "metadata": {
        "colab": {
          "base_uri": "https://localhost:8080/"
        },
        "id": "cz3FnnadcAFN",
        "outputId": "66ad35f0-b581-42b5-df0f-8a392e7cc91a"
      },
      "source": [
        "ComplementB = []\n",
        "\n",
        "for u in U:\n",
        "  if u not in B:\n",
        "    ComplementB.append(u)\n",
        "    \n",
        "ComplementB"
      ],
      "execution_count": 137,
      "outputs": [
        {
          "output_type": "execute_result",
          "data": {
            "text/plain": [
              "['asiam',\n",
              " 'eden',\n",
              " 'kinkycurly',\n",
              " 'TGIN',\n",
              " 'auntjackie',\n",
              " 'carols',\n",
              " 'qhemet',\n",
              " 'KBB',\n",
              " 'soultanicals',\n",
              " 'janecarter',\n",
              " 'adwoa',\n",
              " 'curlsmith',\n",
              " 'TGIN',\n",
              " 'traderjoe',\n",
              " 'verb',\n",
              " 'anitagrant',\n",
              " 'alaffia',\n",
              " 'giovanni']"
            ]
          },
          "metadata": {},
          "execution_count": 137
        }
      ]
    },
    {
      "cell_type": "code",
      "metadata": {
        "colab": {
          "base_uri": "https://localhost:8080/"
        },
        "id": "R65ZlEH-cMGc",
        "outputId": "878d3b87-9fe6-413d-cb58-75e32a93aba1"
      },
      "source": [
        "ComplementC = []\n",
        "\n",
        "for u in U:\n",
        "  if u not in C:\n",
        "    ComplementC.append(u)\n",
        "    \n",
        "ComplementC"
      ],
      "execution_count": 138,
      "outputs": [
        {
          "output_type": "execute_result",
          "data": {
            "text/plain": [
              "['asiam',\n",
              " 'eden',\n",
              " 'kinkycurly',\n",
              " 'auntjackie',\n",
              " 'carols',\n",
              " 'camillerose',\n",
              " 'BREAD',\n",
              " 'SheaMoisture',\n",
              " 'mixedchicks',\n",
              " 'traderjoe',\n",
              " 'verb',\n",
              " 'anitagrant',\n",
              " 'alaffia',\n",
              " 'giovanni']"
            ]
          },
          "metadata": {},
          "execution_count": 138
        }
      ]
    },
    {
      "cell_type": "markdown",
      "metadata": {
        "id": "eikmGFEWBhxQ"
      },
      "source": [
        "I was asked to complete a complement for one of the unions or intersections performed previously. I attempted to find the complement of A U C which is complement A intersect complement C. I tried various coding terms and functions and finally arrived at one that seemingly worked. The coding for this attempt is shown below. Although when run the coding seemed alright and an answer was derived, I am still very confused and not 100% certain that it is in any way correct."
      ]
    },
    {
      "cell_type": "code",
      "metadata": {
        "id": "cSzGBssZiFH5"
      },
      "source": [
        "ComplementA_Intersection_ComplementC = []\n",
        "\n",
        "for u in U:\n",
        "  if u not in A and u not in C:\n",
        "    ComplementA.append(u)\n",
        "    ComplementC.append(u)\n"
      ],
      "execution_count": 139,
      "outputs": []
    },
    {
      "cell_type": "code",
      "metadata": {
        "colab": {
          "base_uri": "https://localhost:8080/"
        },
        "id": "xNH0XVh_kUG3",
        "outputId": "6b25d726-6bdf-4253-d1ae-49b08dcf5ae4"
      },
      "source": [
        "ComplementA_Intersection_ComplementC"
      ],
      "execution_count": 140,
      "outputs": [
        {
          "output_type": "execute_result",
          "data": {
            "text/plain": [
              "[]"
            ]
          },
          "metadata": {},
          "execution_count": 140
        }
      ]
    },
    {
      "cell_type": "markdown",
      "metadata": {
        "id": "uEfrbpDG-ZY0"
      },
      "source": [
        "Set **A** is a subset of the universal Set **U**, as tested below, giving the answer 'True'. Set **A** is not a subset of any of the other sets mentioned. One could say that the set is a subset of itself but that is always considered. Note that the empty set is a subset of every set."
      ]
    },
    {
      "cell_type": "code",
      "metadata": {
        "colab": {
          "base_uri": "https://localhost:8080/"
        },
        "id": "lNZ2GTgqlUPx",
        "outputId": "5c524564-1246-4777-dc2b-e302dd09339a"
      },
      "source": [
        "def IsASubset(A,B):\n",
        "  for a in A:\n",
        "    if a not in B:\n",
        "      return False\n",
        "  return True\n",
        "\n",
        "IsASubset(A,U)"
      ],
      "execution_count": 141,
      "outputs": [
        {
          "output_type": "execute_result",
          "data": {
            "text/plain": [
              "True"
            ]
          },
          "metadata": {},
          "execution_count": 141
        }
      ]
    },
    {
      "cell_type": "markdown",
      "metadata": {
        "id": "Prj1de4DAdQG"
      },
      "source": [
        "A power set consists of all the subsets of a given set. As observed below, the empty set is always included.\n",
        "\n",
        "Below a power set was computed by defining it DPpowerset(s). The code begins with an empty set. Some element 'i' is then added to it putting that set and the empty set into the power set. It moves on to reset the next element in the original set, putting that element into each of the previous two in the power set thus increasing the powerset size. The code continues to run in such a way to include al elements into the power set."
      ]
    },
    {
      "cell_type": "code",
      "metadata": {
        "id": "sQqproJkwJmG"
      },
      "source": [
        "def DPpowerset(s):\n",
        "  powerset = [[]]\n",
        "  for i in s:\n",
        "    for sett in powerset:\n",
        "      powerset = powerset + [sett + [i]]\n",
        "  return powerset\n"
      ],
      "execution_count": 142,
      "outputs": []
    },
    {
      "cell_type": "code",
      "metadata": {
        "colab": {
          "base_uri": "https://localhost:8080/"
        },
        "id": "rKolR9TOwf6f",
        "outputId": "e7191b59-dfba-42b7-be46-c4ab43f713e0"
      },
      "source": [
        "DPpowerset(A)"
      ],
      "execution_count": 143,
      "outputs": [
        {
          "output_type": "execute_result",
          "data": {
            "text/plain": [
              "[[],\n",
              " ['mielle'],\n",
              " ['asiam'],\n",
              " ['mielle', 'asiam'],\n",
              " ['eden'],\n",
              " ['mielle', 'eden'],\n",
              " ['asiam', 'eden'],\n",
              " ['mielle', 'asiam', 'eden'],\n",
              " ['kinkycurly'],\n",
              " ['mielle', 'kinkycurly'],\n",
              " ['asiam', 'kinkycurly'],\n",
              " ['mielle', 'asiam', 'kinkycurly'],\n",
              " ['eden', 'kinkycurly'],\n",
              " ['mielle', 'eden', 'kinkycurly'],\n",
              " ['asiam', 'eden', 'kinkycurly'],\n",
              " ['mielle', 'asiam', 'eden', 'kinkycurly'],\n",
              " ['TGIN'],\n",
              " ['mielle', 'TGIN'],\n",
              " ['asiam', 'TGIN'],\n",
              " ['mielle', 'asiam', 'TGIN'],\n",
              " ['eden', 'TGIN'],\n",
              " ['mielle', 'eden', 'TGIN'],\n",
              " ['asiam', 'eden', 'TGIN'],\n",
              " ['mielle', 'asiam', 'eden', 'TGIN'],\n",
              " ['kinkycurly', 'TGIN'],\n",
              " ['mielle', 'kinkycurly', 'TGIN'],\n",
              " ['asiam', 'kinkycurly', 'TGIN'],\n",
              " ['mielle', 'asiam', 'kinkycurly', 'TGIN'],\n",
              " ['eden', 'kinkycurly', 'TGIN'],\n",
              " ['mielle', 'eden', 'kinkycurly', 'TGIN'],\n",
              " ['asiam', 'eden', 'kinkycurly', 'TGIN'],\n",
              " ['mielle', 'asiam', 'eden', 'kinkycurly', 'TGIN'],\n",
              " ['auntjackie'],\n",
              " ['mielle', 'auntjackie'],\n",
              " ['asiam', 'auntjackie'],\n",
              " ['mielle', 'asiam', 'auntjackie'],\n",
              " ['eden', 'auntjackie'],\n",
              " ['mielle', 'eden', 'auntjackie'],\n",
              " ['asiam', 'eden', 'auntjackie'],\n",
              " ['mielle', 'asiam', 'eden', 'auntjackie'],\n",
              " ['kinkycurly', 'auntjackie'],\n",
              " ['mielle', 'kinkycurly', 'auntjackie'],\n",
              " ['asiam', 'kinkycurly', 'auntjackie'],\n",
              " ['mielle', 'asiam', 'kinkycurly', 'auntjackie'],\n",
              " ['eden', 'kinkycurly', 'auntjackie'],\n",
              " ['mielle', 'eden', 'kinkycurly', 'auntjackie'],\n",
              " ['asiam', 'eden', 'kinkycurly', 'auntjackie'],\n",
              " ['mielle', 'asiam', 'eden', 'kinkycurly', 'auntjackie'],\n",
              " ['TGIN', 'auntjackie'],\n",
              " ['mielle', 'TGIN', 'auntjackie'],\n",
              " ['asiam', 'TGIN', 'auntjackie'],\n",
              " ['mielle', 'asiam', 'TGIN', 'auntjackie'],\n",
              " ['eden', 'TGIN', 'auntjackie'],\n",
              " ['mielle', 'eden', 'TGIN', 'auntjackie'],\n",
              " ['asiam', 'eden', 'TGIN', 'auntjackie'],\n",
              " ['mielle', 'asiam', 'eden', 'TGIN', 'auntjackie'],\n",
              " ['kinkycurly', 'TGIN', 'auntjackie'],\n",
              " ['mielle', 'kinkycurly', 'TGIN', 'auntjackie'],\n",
              " ['asiam', 'kinkycurly', 'TGIN', 'auntjackie'],\n",
              " ['mielle', 'asiam', 'kinkycurly', 'TGIN', 'auntjackie'],\n",
              " ['eden', 'kinkycurly', 'TGIN', 'auntjackie'],\n",
              " ['mielle', 'eden', 'kinkycurly', 'TGIN', 'auntjackie'],\n",
              " ['asiam', 'eden', 'kinkycurly', 'TGIN', 'auntjackie'],\n",
              " ['mielle', 'asiam', 'eden', 'kinkycurly', 'TGIN', 'auntjackie'],\n",
              " ['carols'],\n",
              " ['mielle', 'carols'],\n",
              " ['asiam', 'carols'],\n",
              " ['mielle', 'asiam', 'carols'],\n",
              " ['eden', 'carols'],\n",
              " ['mielle', 'eden', 'carols'],\n",
              " ['asiam', 'eden', 'carols'],\n",
              " ['mielle', 'asiam', 'eden', 'carols'],\n",
              " ['kinkycurly', 'carols'],\n",
              " ['mielle', 'kinkycurly', 'carols'],\n",
              " ['asiam', 'kinkycurly', 'carols'],\n",
              " ['mielle', 'asiam', 'kinkycurly', 'carols'],\n",
              " ['eden', 'kinkycurly', 'carols'],\n",
              " ['mielle', 'eden', 'kinkycurly', 'carols'],\n",
              " ['asiam', 'eden', 'kinkycurly', 'carols'],\n",
              " ['mielle', 'asiam', 'eden', 'kinkycurly', 'carols'],\n",
              " ['TGIN', 'carols'],\n",
              " ['mielle', 'TGIN', 'carols'],\n",
              " ['asiam', 'TGIN', 'carols'],\n",
              " ['mielle', 'asiam', 'TGIN', 'carols'],\n",
              " ['eden', 'TGIN', 'carols'],\n",
              " ['mielle', 'eden', 'TGIN', 'carols'],\n",
              " ['asiam', 'eden', 'TGIN', 'carols'],\n",
              " ['mielle', 'asiam', 'eden', 'TGIN', 'carols'],\n",
              " ['kinkycurly', 'TGIN', 'carols'],\n",
              " ['mielle', 'kinkycurly', 'TGIN', 'carols'],\n",
              " ['asiam', 'kinkycurly', 'TGIN', 'carols'],\n",
              " ['mielle', 'asiam', 'kinkycurly', 'TGIN', 'carols'],\n",
              " ['eden', 'kinkycurly', 'TGIN', 'carols'],\n",
              " ['mielle', 'eden', 'kinkycurly', 'TGIN', 'carols'],\n",
              " ['asiam', 'eden', 'kinkycurly', 'TGIN', 'carols'],\n",
              " ['mielle', 'asiam', 'eden', 'kinkycurly', 'TGIN', 'carols'],\n",
              " ['auntjackie', 'carols'],\n",
              " ['mielle', 'auntjackie', 'carols'],\n",
              " ['asiam', 'auntjackie', 'carols'],\n",
              " ['mielle', 'asiam', 'auntjackie', 'carols'],\n",
              " ['eden', 'auntjackie', 'carols'],\n",
              " ['mielle', 'eden', 'auntjackie', 'carols'],\n",
              " ['asiam', 'eden', 'auntjackie', 'carols'],\n",
              " ['mielle', 'asiam', 'eden', 'auntjackie', 'carols'],\n",
              " ['kinkycurly', 'auntjackie', 'carols'],\n",
              " ['mielle', 'kinkycurly', 'auntjackie', 'carols'],\n",
              " ['asiam', 'kinkycurly', 'auntjackie', 'carols'],\n",
              " ['mielle', 'asiam', 'kinkycurly', 'auntjackie', 'carols'],\n",
              " ['eden', 'kinkycurly', 'auntjackie', 'carols'],\n",
              " ['mielle', 'eden', 'kinkycurly', 'auntjackie', 'carols'],\n",
              " ['asiam', 'eden', 'kinkycurly', 'auntjackie', 'carols'],\n",
              " ['mielle', 'asiam', 'eden', 'kinkycurly', 'auntjackie', 'carols'],\n",
              " ['TGIN', 'auntjackie', 'carols'],\n",
              " ['mielle', 'TGIN', 'auntjackie', 'carols'],\n",
              " ['asiam', 'TGIN', 'auntjackie', 'carols'],\n",
              " ['mielle', 'asiam', 'TGIN', 'auntjackie', 'carols'],\n",
              " ['eden', 'TGIN', 'auntjackie', 'carols'],\n",
              " ['mielle', 'eden', 'TGIN', 'auntjackie', 'carols'],\n",
              " ['asiam', 'eden', 'TGIN', 'auntjackie', 'carols'],\n",
              " ['mielle', 'asiam', 'eden', 'TGIN', 'auntjackie', 'carols'],\n",
              " ['kinkycurly', 'TGIN', 'auntjackie', 'carols'],\n",
              " ['mielle', 'kinkycurly', 'TGIN', 'auntjackie', 'carols'],\n",
              " ['asiam', 'kinkycurly', 'TGIN', 'auntjackie', 'carols'],\n",
              " ['mielle', 'asiam', 'kinkycurly', 'TGIN', 'auntjackie', 'carols'],\n",
              " ['eden', 'kinkycurly', 'TGIN', 'auntjackie', 'carols'],\n",
              " ['mielle', 'eden', 'kinkycurly', 'TGIN', 'auntjackie', 'carols'],\n",
              " ['asiam', 'eden', 'kinkycurly', 'TGIN', 'auntjackie', 'carols'],\n",
              " ['mielle', 'asiam', 'eden', 'kinkycurly', 'TGIN', 'auntjackie', 'carols'],\n",
              " ['ManeChoice'],\n",
              " ['mielle', 'ManeChoice'],\n",
              " ['asiam', 'ManeChoice'],\n",
              " ['mielle', 'asiam', 'ManeChoice'],\n",
              " ['eden', 'ManeChoice'],\n",
              " ['mielle', 'eden', 'ManeChoice'],\n",
              " ['asiam', 'eden', 'ManeChoice'],\n",
              " ['mielle', 'asiam', 'eden', 'ManeChoice'],\n",
              " ['kinkycurly', 'ManeChoice'],\n",
              " ['mielle', 'kinkycurly', 'ManeChoice'],\n",
              " ['asiam', 'kinkycurly', 'ManeChoice'],\n",
              " ['mielle', 'asiam', 'kinkycurly', 'ManeChoice'],\n",
              " ['eden', 'kinkycurly', 'ManeChoice'],\n",
              " ['mielle', 'eden', 'kinkycurly', 'ManeChoice'],\n",
              " ['asiam', 'eden', 'kinkycurly', 'ManeChoice'],\n",
              " ['mielle', 'asiam', 'eden', 'kinkycurly', 'ManeChoice'],\n",
              " ['TGIN', 'ManeChoice'],\n",
              " ['mielle', 'TGIN', 'ManeChoice'],\n",
              " ['asiam', 'TGIN', 'ManeChoice'],\n",
              " ['mielle', 'asiam', 'TGIN', 'ManeChoice'],\n",
              " ['eden', 'TGIN', 'ManeChoice'],\n",
              " ['mielle', 'eden', 'TGIN', 'ManeChoice'],\n",
              " ['asiam', 'eden', 'TGIN', 'ManeChoice'],\n",
              " ['mielle', 'asiam', 'eden', 'TGIN', 'ManeChoice'],\n",
              " ['kinkycurly', 'TGIN', 'ManeChoice'],\n",
              " ['mielle', 'kinkycurly', 'TGIN', 'ManeChoice'],\n",
              " ['asiam', 'kinkycurly', 'TGIN', 'ManeChoice'],\n",
              " ['mielle', 'asiam', 'kinkycurly', 'TGIN', 'ManeChoice'],\n",
              " ['eden', 'kinkycurly', 'TGIN', 'ManeChoice'],\n",
              " ['mielle', 'eden', 'kinkycurly', 'TGIN', 'ManeChoice'],\n",
              " ['asiam', 'eden', 'kinkycurly', 'TGIN', 'ManeChoice'],\n",
              " ['mielle', 'asiam', 'eden', 'kinkycurly', 'TGIN', 'ManeChoice'],\n",
              " ['auntjackie', 'ManeChoice'],\n",
              " ['mielle', 'auntjackie', 'ManeChoice'],\n",
              " ['asiam', 'auntjackie', 'ManeChoice'],\n",
              " ['mielle', 'asiam', 'auntjackie', 'ManeChoice'],\n",
              " ['eden', 'auntjackie', 'ManeChoice'],\n",
              " ['mielle', 'eden', 'auntjackie', 'ManeChoice'],\n",
              " ['asiam', 'eden', 'auntjackie', 'ManeChoice'],\n",
              " ['mielle', 'asiam', 'eden', 'auntjackie', 'ManeChoice'],\n",
              " ['kinkycurly', 'auntjackie', 'ManeChoice'],\n",
              " ['mielle', 'kinkycurly', 'auntjackie', 'ManeChoice'],\n",
              " ['asiam', 'kinkycurly', 'auntjackie', 'ManeChoice'],\n",
              " ['mielle', 'asiam', 'kinkycurly', 'auntjackie', 'ManeChoice'],\n",
              " ['eden', 'kinkycurly', 'auntjackie', 'ManeChoice'],\n",
              " ['mielle', 'eden', 'kinkycurly', 'auntjackie', 'ManeChoice'],\n",
              " ['asiam', 'eden', 'kinkycurly', 'auntjackie', 'ManeChoice'],\n",
              " ['mielle', 'asiam', 'eden', 'kinkycurly', 'auntjackie', 'ManeChoice'],\n",
              " ['TGIN', 'auntjackie', 'ManeChoice'],\n",
              " ['mielle', 'TGIN', 'auntjackie', 'ManeChoice'],\n",
              " ['asiam', 'TGIN', 'auntjackie', 'ManeChoice'],\n",
              " ['mielle', 'asiam', 'TGIN', 'auntjackie', 'ManeChoice'],\n",
              " ['eden', 'TGIN', 'auntjackie', 'ManeChoice'],\n",
              " ['mielle', 'eden', 'TGIN', 'auntjackie', 'ManeChoice'],\n",
              " ['asiam', 'eden', 'TGIN', 'auntjackie', 'ManeChoice'],\n",
              " ['mielle', 'asiam', 'eden', 'TGIN', 'auntjackie', 'ManeChoice'],\n",
              " ['kinkycurly', 'TGIN', 'auntjackie', 'ManeChoice'],\n",
              " ['mielle', 'kinkycurly', 'TGIN', 'auntjackie', 'ManeChoice'],\n",
              " ['asiam', 'kinkycurly', 'TGIN', 'auntjackie', 'ManeChoice'],\n",
              " ['mielle', 'asiam', 'kinkycurly', 'TGIN', 'auntjackie', 'ManeChoice'],\n",
              " ['eden', 'kinkycurly', 'TGIN', 'auntjackie', 'ManeChoice'],\n",
              " ['mielle', 'eden', 'kinkycurly', 'TGIN', 'auntjackie', 'ManeChoice'],\n",
              " ['asiam', 'eden', 'kinkycurly', 'TGIN', 'auntjackie', 'ManeChoice'],\n",
              " ['mielle', 'asiam', 'eden', 'kinkycurly', 'TGIN', 'auntjackie', 'ManeChoice'],\n",
              " ['carols', 'ManeChoice'],\n",
              " ['mielle', 'carols', 'ManeChoice'],\n",
              " ['asiam', 'carols', 'ManeChoice'],\n",
              " ['mielle', 'asiam', 'carols', 'ManeChoice'],\n",
              " ['eden', 'carols', 'ManeChoice'],\n",
              " ['mielle', 'eden', 'carols', 'ManeChoice'],\n",
              " ['asiam', 'eden', 'carols', 'ManeChoice'],\n",
              " ['mielle', 'asiam', 'eden', 'carols', 'ManeChoice'],\n",
              " ['kinkycurly', 'carols', 'ManeChoice'],\n",
              " ['mielle', 'kinkycurly', 'carols', 'ManeChoice'],\n",
              " ['asiam', 'kinkycurly', 'carols', 'ManeChoice'],\n",
              " ['mielle', 'asiam', 'kinkycurly', 'carols', 'ManeChoice'],\n",
              " ['eden', 'kinkycurly', 'carols', 'ManeChoice'],\n",
              " ['mielle', 'eden', 'kinkycurly', 'carols', 'ManeChoice'],\n",
              " ['asiam', 'eden', 'kinkycurly', 'carols', 'ManeChoice'],\n",
              " ['mielle', 'asiam', 'eden', 'kinkycurly', 'carols', 'ManeChoice'],\n",
              " ['TGIN', 'carols', 'ManeChoice'],\n",
              " ['mielle', 'TGIN', 'carols', 'ManeChoice'],\n",
              " ['asiam', 'TGIN', 'carols', 'ManeChoice'],\n",
              " ['mielle', 'asiam', 'TGIN', 'carols', 'ManeChoice'],\n",
              " ['eden', 'TGIN', 'carols', 'ManeChoice'],\n",
              " ['mielle', 'eden', 'TGIN', 'carols', 'ManeChoice'],\n",
              " ['asiam', 'eden', 'TGIN', 'carols', 'ManeChoice'],\n",
              " ['mielle', 'asiam', 'eden', 'TGIN', 'carols', 'ManeChoice'],\n",
              " ['kinkycurly', 'TGIN', 'carols', 'ManeChoice'],\n",
              " ['mielle', 'kinkycurly', 'TGIN', 'carols', 'ManeChoice'],\n",
              " ['asiam', 'kinkycurly', 'TGIN', 'carols', 'ManeChoice'],\n",
              " ['mielle', 'asiam', 'kinkycurly', 'TGIN', 'carols', 'ManeChoice'],\n",
              " ['eden', 'kinkycurly', 'TGIN', 'carols', 'ManeChoice'],\n",
              " ['mielle', 'eden', 'kinkycurly', 'TGIN', 'carols', 'ManeChoice'],\n",
              " ['asiam', 'eden', 'kinkycurly', 'TGIN', 'carols', 'ManeChoice'],\n",
              " ['mielle', 'asiam', 'eden', 'kinkycurly', 'TGIN', 'carols', 'ManeChoice'],\n",
              " ['auntjackie', 'carols', 'ManeChoice'],\n",
              " ['mielle', 'auntjackie', 'carols', 'ManeChoice'],\n",
              " ['asiam', 'auntjackie', 'carols', 'ManeChoice'],\n",
              " ['mielle', 'asiam', 'auntjackie', 'carols', 'ManeChoice'],\n",
              " ['eden', 'auntjackie', 'carols', 'ManeChoice'],\n",
              " ['mielle', 'eden', 'auntjackie', 'carols', 'ManeChoice'],\n",
              " ['asiam', 'eden', 'auntjackie', 'carols', 'ManeChoice'],\n",
              " ['mielle', 'asiam', 'eden', 'auntjackie', 'carols', 'ManeChoice'],\n",
              " ['kinkycurly', 'auntjackie', 'carols', 'ManeChoice'],\n",
              " ['mielle', 'kinkycurly', 'auntjackie', 'carols', 'ManeChoice'],\n",
              " ['asiam', 'kinkycurly', 'auntjackie', 'carols', 'ManeChoice'],\n",
              " ['mielle', 'asiam', 'kinkycurly', 'auntjackie', 'carols', 'ManeChoice'],\n",
              " ['eden', 'kinkycurly', 'auntjackie', 'carols', 'ManeChoice'],\n",
              " ['mielle', 'eden', 'kinkycurly', 'auntjackie', 'carols', 'ManeChoice'],\n",
              " ['asiam', 'eden', 'kinkycurly', 'auntjackie', 'carols', 'ManeChoice'],\n",
              " ['mielle',\n",
              "  'asiam',\n",
              "  'eden',\n",
              "  'kinkycurly',\n",
              "  'auntjackie',\n",
              "  'carols',\n",
              "  'ManeChoice'],\n",
              " ['TGIN', 'auntjackie', 'carols', 'ManeChoice'],\n",
              " ['mielle', 'TGIN', 'auntjackie', 'carols', 'ManeChoice'],\n",
              " ['asiam', 'TGIN', 'auntjackie', 'carols', 'ManeChoice'],\n",
              " ['mielle', 'asiam', 'TGIN', 'auntjackie', 'carols', 'ManeChoice'],\n",
              " ['eden', 'TGIN', 'auntjackie', 'carols', 'ManeChoice'],\n",
              " ['mielle', 'eden', 'TGIN', 'auntjackie', 'carols', 'ManeChoice'],\n",
              " ['asiam', 'eden', 'TGIN', 'auntjackie', 'carols', 'ManeChoice'],\n",
              " ['mielle', 'asiam', 'eden', 'TGIN', 'auntjackie', 'carols', 'ManeChoice'],\n",
              " ['kinkycurly', 'TGIN', 'auntjackie', 'carols', 'ManeChoice'],\n",
              " ['mielle', 'kinkycurly', 'TGIN', 'auntjackie', 'carols', 'ManeChoice'],\n",
              " ['asiam', 'kinkycurly', 'TGIN', 'auntjackie', 'carols', 'ManeChoice'],\n",
              " ['mielle',\n",
              "  'asiam',\n",
              "  'kinkycurly',\n",
              "  'TGIN',\n",
              "  'auntjackie',\n",
              "  'carols',\n",
              "  'ManeChoice'],\n",
              " ['eden', 'kinkycurly', 'TGIN', 'auntjackie', 'carols', 'ManeChoice'],\n",
              " ['mielle',\n",
              "  'eden',\n",
              "  'kinkycurly',\n",
              "  'TGIN',\n",
              "  'auntjackie',\n",
              "  'carols',\n",
              "  'ManeChoice'],\n",
              " ['asiam', 'eden', 'kinkycurly', 'TGIN', 'auntjackie', 'carols', 'ManeChoice'],\n",
              " ['mielle',\n",
              "  'asiam',\n",
              "  'eden',\n",
              "  'kinkycurly',\n",
              "  'TGIN',\n",
              "  'auntjackie',\n",
              "  'carols',\n",
              "  'ManeChoice']]"
            ]
          },
          "metadata": {},
          "execution_count": 143
        }
      ]
    },
    {
      "cell_type": "markdown",
      "metadata": {
        "id": "_7RoPTU_hXG1"
      },
      "source": [
        "## 2 Functions"
      ]
    },
    {
      "cell_type": "markdown",
      "metadata": {
        "id": "MMXFYCZ6hajg"
      },
      "source": [
        "The function below is under the topic of 'Binomial Theorem'. It is also sometimes called binomial expansion given in sigma notation as \n",
        "\n",
        "\n",
        "$$\n",
        "(a+b)^n=\\sum_{k=0}^n=\\frac{n!}{(n-k)!k!} a^{n-k} b^k\n",
        "$$\n",
        "\n",
        "\n",
        "where *n* is a positive integer. There is an additional method known as Pascal's Triangle where (a+b)^n can be expanded for integral values of n. However, the Binomial Theorem is the better method as it is more useful for larger *n*. \n",
        "\n",
        "I chose such a function as in previous years, when working on problems requiring the use of the binomial theorem method, I always found it relaxing to go through each step, deriving the different coefficients and so forth. \n",
        "\n",
        "$$\n",
        "f(x)=(3x-2)^6\n",
        "$$\n",
        "\n",
        "The features portrayed in the function above: (1)coefficients (i.e. 3 and 2), (3) x variable, and (3) powers."
      ]
    },
    {
      "cell_type": "code",
      "metadata": {
        "id": "UqZ4Unpp-4ed"
      },
      "source": [
        "import math\n",
        "import numpy as np\n",
        "\n",
        "\n",
        "def exquisite(x):\n",
        "  return (3*x-2)**6"
      ],
      "execution_count": 144,
      "outputs": []
    },
    {
      "cell_type": "code",
      "metadata": {
        "colab": {
          "base_uri": "https://localhost:8080/"
        },
        "id": "bnvx8V9iQ9TY",
        "outputId": "851a8761-2e9e-4955-8bf1-27cf5d6ebe12"
      },
      "source": [
        "exquisite(0)"
      ],
      "execution_count": 145,
      "outputs": [
        {
          "output_type": "execute_result",
          "data": {
            "text/plain": [
              "64"
            ]
          },
          "metadata": {},
          "execution_count": 145
        }
      ]
    },
    {
      "cell_type": "code",
      "metadata": {
        "colab": {
          "base_uri": "https://localhost:8080/",
          "height": 293
        },
        "id": "1DVHb9VRizi_",
        "outputId": "da9b3f72-24a3-4ffd-b089-28e38e368166"
      },
      "source": [
        "import matplotlib.pyplot as plt\n",
        "\n",
        "x = np.arange(-6,6,.1)\n",
        "\n",
        "plt.plot(x,exquisite(x))"
      ],
      "execution_count": 146,
      "outputs": [
        {
          "output_type": "execute_result",
          "data": {
            "text/plain": [
              "[<matplotlib.lines.Line2D at 0x7fb1e102a350>]"
            ]
          },
          "metadata": {},
          "execution_count": 146
        },
        {
          "output_type": "display_data",
          "data": {
            "image/png": "[encoded data removed]",
            "text/plain": [
              "<Figure size 432x288 with 1 Axes>"
            ]
          },
          "metadata": {
            "needs_background": "light"
          }
        }
      ]
    },
    {
      "cell_type": "markdown",
      "metadata": {
        "id": "lzi2xmGXlHAq"
      },
      "source": [
        "In the above graph, the function appears to be neither one-to-one (injective) nor onto (surjective) because as it does not pass the horizontal line test and it does not pass the point (0,0)."
      ]
    },
    {
      "cell_type": "markdown",
      "metadata": {
        "id": "CJd8MOySpwgz"
      },
      "source": [
        "As mentioned previously,\n",
        "\n",
        "$$\n",
        "f(x)=(3x-2)^6\n",
        "$$\n",
        "\n",
        "The inverse of the above function is as follows:\n",
        "\n",
        "$$\n",
        "f^{-1}(x)=\\frac{\\sqrt[6]x+2}{3}\n",
        "$$"
      ]
    },
    {
      "cell_type": "code",
      "metadata": {
        "id": "1UuPoiByuaCZ"
      },
      "source": [
        "def exquisiteInverse(x):\n",
        "  return (x**(1/6)+2)/3\n",
        "\n",
        "def exquisiteMinusInverse(x):\n",
        "  return (-x**(1/6)+2)/3"
      ],
      "execution_count": 147,
      "outputs": []
    },
    {
      "cell_type": "code",
      "metadata": {
        "colab": {
          "base_uri": "https://localhost:8080/"
        },
        "id": "PdF2447Kwt-3",
        "outputId": "5da766e0-d53d-4176-f4f9-498dd34ba26e"
      },
      "source": [
        "exquisiteInverse(exquisite(2))"
      ],
      "execution_count": 148,
      "outputs": [
        {
          "output_type": "execute_result",
          "data": {
            "text/plain": [
              "2.0"
            ]
          },
          "metadata": {},
          "execution_count": 148
        }
      ]
    },
    {
      "cell_type": "code",
      "metadata": {
        "colab": {
          "base_uri": "https://localhost:8080/",
          "height": 286
        },
        "id": "Mx9abxUnQVGD",
        "outputId": "547b80c4-ab37-42bf-ad6e-39433f731a91"
      },
      "source": [
        "import matplotlib.pyplot as plt\n",
        "\n",
        "x1 = np.arange(0,2,.01)\n",
        "x2 = np.arange(0,.5,.01)\n",
        "\n",
        "plt.plot(x1,exquisite(x1))\n",
        "plt.plot(x1,exquisiteInverse(x1),color = \"pink\")\n",
        "plt.plot(x1,exquisiteMinusInverse(x1),color = \"pink\")\n",
        "\n",
        "plt.plot(x1,x1)\n",
        "\n",
        "plt.xlim(0, 2)\n",
        "plt.ylim(0, 2)"
      ],
      "execution_count": 149,
      "outputs": [
        {
          "output_type": "execute_result",
          "data": {
            "text/plain": [
              "(0.0, 2.0)"
            ]
          },
          "metadata": {},
          "execution_count": 149
        },
        {
          "output_type": "display_data",
          "data": {
            "image/png": "[encoded data removed]",
            "text/plain": [
              "<Figure size 432x288 with 1 Axes>"
            ]
          },
          "metadata": {
            "needs_background": "light"
          }
        }
      ]
    },
    {
      "cell_type": "markdown",
      "metadata": {
        "id": "GoOS5ZgBojgQ"
      },
      "source": [
        "The curved (blue) parabola is for the original function. It is observed that the function is inverted through the inverse line y=x (orange) producing the curved (pink) parabola for the inverse function. In addition to the inverse line being y=x, it is noticed that the ordered pairs are reversed for the inverse function when compared to that of the original function."
      ]
    },
    {
      "cell_type": "markdown",
      "metadata": {
        "id": "S0_w7VMDXpaA"
      },
      "source": [
        "## 3 Dictionaries\n"
      ]
    },
    {
      "cell_type": "code",
      "metadata": {
        "id": "U2oXnMCEX_ZX"
      },
      "source": [
        "A = ['mielle','asiam','eden','kinkycurly','TGIN','auntjackie','carols','ManeChoice']\n",
        "B = ['camillerose','BREAD','ManeChoice','SheaMoisture','mielle','mixedchicks']\n",
        "\n",
        "\n",
        "dictionary = dict({a:b for a,b in zip(A, B)})"
      ],
      "execution_count": 150,
      "outputs": []
    },
    {
      "cell_type": "markdown",
      "metadata": {
        "id": "VU1PME85YZoL"
      },
      "source": [
        "![bread.jpg](data:image/jpeg;base64,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)"
      ]
    },
    {
      "cell_type": "markdown",
      "metadata": {
        "id": "OWIi3PEJoyWj"
      },
      "source": [
        "The dictionary shown is a function as it consists of a domain and a range. It is in fact bijective (injective and surjective). Thus, it is a bijective function as every Y in the codomain is mapped to exactly one X in the domain."
      ]
    },
    {
      "cell_type": "markdown",
      "metadata": {
        "id": "QQWkINZa1hmF"
      },
      "source": [
        "This special relation is neither reflexive, symmetric, nor transitive. Therefore, it is not an equivalence relation.\n",
        "\n",
        "For example:\n",
        "\n",
        "* TGIN is NOT R to TGIN. A relation (R) is only reflexive if xRx for every x; \n",
        "* asiam is R to BREAD but BREAD is NOT R to asiam. A relation is only symmetric if xRy and yRx;\n",
        "* TGIN is R to mielle. mielle is R to camillerose but TGIN is NOT R to camillerose. A relation is said to be transitive if xRy and yRz, then xRz.  "
      ]
    },
    {
      "cell_type": "code",
      "metadata": {
        "colab": {
          "base_uri": "https://localhost:8080/"
        },
        "id": "0UDdvNoMxL84",
        "outputId": "3e95ece1-f999-4318-cca4-cc9b7b274dea"
      },
      "source": [
        "dictionary"
      ],
      "execution_count": 151,
      "outputs": [
        {
          "output_type": "execute_result",
          "data": {
            "text/plain": [
              "{'TGIN': 'mielle',\n",
              " 'asiam': 'BREAD',\n",
              " 'auntjackie': 'mixedchicks',\n",
              " 'eden': 'ManeChoice',\n",
              " 'kinkycurly': 'SheaMoisture',\n",
              " 'mielle': 'camillerose'}"
            ]
          },
          "metadata": {},
          "execution_count": 151
        }
      ]
    },
    {
      "cell_type": "markdown",
      "metadata": {
        "id": "hL02m3E869lD"
      },
      "source": [
        "Notice that by applying the dictionary to set C, all the elements in Set C were computed again."
      ]
    },
    {
      "cell_type": "code",
      "metadata": {
        "colab": {
          "base_uri": "https://localhost:8080/"
        },
        "id": "8wSqruuPYcrM",
        "outputId": "d898bc37-912f-4d44-cb8b-66feeab242c4"
      },
      "source": [
        "[dictionary.get(x,x) for x in C]"
      ],
      "execution_count": 152,
      "outputs": [
        {
          "output_type": "execute_result",
          "data": {
            "text/plain": [
              "['qhemet',\n",
              " 'KBB',\n",
              " 'soultanicals',\n",
              " 'janecarter',\n",
              " 'adwoa',\n",
              " 'curlsmith',\n",
              " 'camillerose',\n",
              " 'mielle',\n",
              " 'ManeChoice']"
            ]
          },
          "metadata": {},
          "execution_count": 152
        }
      ]
    },
    {
      "cell_type": "markdown",
      "metadata": {
        "id": "ZyeItcS6Y9Iq"
      },
      "source": [
        "![theend.jpg](data:image/jpeg;base64,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)"
      ]
    }
  ]
}