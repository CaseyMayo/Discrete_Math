{
  "nbformat": 4,
  "nbformat_minor": 0,
  "metadata": {
    "colab": {
      "name": "ProjectPart4AEfinal.ipynb",
      "provenance": [],
      "collapsed_sections": []
    },
    "kernelspec": {
      "name": "python3",
      "display_name": "Python 3"
    },
    "language_info": {
      "name": "python"
    }
  },
  "cells": [
    {
      "cell_type": "markdown",
      "metadata": {
        "id": "1q4mb2KNpuzi"
      },
      "source": [
        "# Project Part # 4 : CPSMA 3133 [Dr. Jacob's](https://github.com/nurfnick) Discrete Mathematics \n",
        "\n",
        "## Logic (Netflix Series) and Proofs\n",
        "\n",
        "### Amarah Eudovique ID 243017"
      ]
    },
    {
      "cell_type": "markdown",
      "metadata": {
        "id": "tt6AOQOnp9r5"
      },
      "source": [
        "##1 Logic"
      ]
    },
    {
      "cell_type": "markdown",
      "source": [
        "A proposition is a statement that has a truth value. The following propositions shown are based on having watched some popular Netflix series: YOU (p), Dead To Me (r), and Money Heist (q). Truth values have been assigned to each one. "
      ],
      "metadata": {
        "id": "A4aHkU_t1sv-"
      }
    },
    {
      "cell_type": "code",
      "metadata": {
        "id": "U00CBrDtptRS"
      },
      "source": [
        "HaveWatchedYOU = False\n",
        "HaveWatchedDeadToMe = True\n",
        "HaveWatchedMoneyHeist = True"
      ],
      "execution_count": 5,
      "outputs": []
    },
    {
      "cell_type": "markdown",
      "source": [
        "There are what we call 'logical operators' that allow propositions to be combined. The following operators are usually used: $ \\land $ 'and', $ \\lor $ 'or', $ \\lnot $ 'not', $ \\Rightarrow $ 'implies' (if, then), $ \\Leftarrow \\Rightarrow $ or $ \\equiv$ 'equivalent', $ \\oplus$ 'xor'. To show how a few of the operators work we will compute the truth value for the statements: $ r \\land p$, $ r \\lor \\lnot q$, and $r \\Rightarrow p$. Recall the description of p, r, and q from the previous statement above."
      ],
      "metadata": {
        "id": "8zSBXfhq2rrc"
      }
    },
    {
      "cell_type": "code",
      "metadata": {
        "colab": {
          "base_uri": "https://localhost:8080/"
        },
        "id": "8WsVHVNbq3L5",
        "outputId": "91a3e6e7-2aed-47d9-fa07-f6f3d9e8c74c"
      },
      "source": [
        "not (HaveWatchedMoneyHeist)"
      ],
      "execution_count": 6,
      "outputs": [
        {
          "output_type": "execute_result",
          "data": {
            "text/plain": [
              "False"
            ]
          },
          "metadata": {},
          "execution_count": 6
        }
      ]
    },
    {
      "cell_type": "code",
      "metadata": {
        "colab": {
          "base_uri": "https://localhost:8080/"
        },
        "id": "CnMPgUrMrVTX",
        "outputId": "700c3490-2999-4e01-f7df-d25869432a6a"
      },
      "source": [
        "not (HaveWatchedDeadToMe)"
      ],
      "execution_count": 7,
      "outputs": [
        {
          "output_type": "execute_result",
          "data": {
            "text/plain": [
              "False"
            ]
          },
          "metadata": {},
          "execution_count": 7
        }
      ]
    },
    {
      "cell_type": "code",
      "metadata": {
        "colab": {
          "base_uri": "https://localhost:8080/"
        },
        "id": "P4A5a_zmrX33",
        "outputId": "89056bed-3397-4377-e1f1-fdf4c7f76329"
      },
      "source": [
        "HaveWatchedDeadToMe and HaveWatchedYOU"
      ],
      "execution_count": 8,
      "outputs": [
        {
          "output_type": "execute_result",
          "data": {
            "text/plain": [
              "False"
            ]
          },
          "metadata": {},
          "execution_count": 8
        }
      ]
    },
    {
      "cell_type": "code",
      "metadata": {
        "colab": {
          "base_uri": "https://localhost:8080/"
        },
        "id": "oUD4h10orvO0",
        "outputId": "31836d21-402e-4866-e023-0a2071fe271d"
      },
      "source": [
        "HaveWatchedDeadToMe or not(HaveWatchedMoneyHeist)"
      ],
      "execution_count": 9,
      "outputs": [
        {
          "output_type": "execute_result",
          "data": {
            "text/plain": [
              "True"
            ]
          },
          "metadata": {},
          "execution_count": 9
        }
      ]
    },
    {
      "cell_type": "markdown",
      "source": [
        "One important term to note is that $ r \\Rightarrow p$ $\\equiv$ $ \\lnot r \\lor p$. It could be shown two ways, by simply writing out the code or by defining it first, making it more presentable."
      ],
      "metadata": {
        "id": "Gj1zpmlb-WYC"
      }
    },
    {
      "cell_type": "code",
      "metadata": {
        "colab": {
          "base_uri": "https://localhost:8080/"
        },
        "id": "0DGm8WK5r5zC",
        "outputId": "bdaa5985-5767-4c65-adad-9dd684be48a2"
      },
      "source": [
        "not(HaveWatchedDeadToMe) or HaveWatchedYOU"
      ],
      "execution_count": 14,
      "outputs": [
        {
          "output_type": "execute_result",
          "data": {
            "text/plain": [
              "False"
            ]
          },
          "metadata": {},
          "execution_count": 14
        }
      ]
    },
    {
      "cell_type": "code",
      "source": [
        "def implies(r,p):\n",
        "  return not(r) or p\n",
        "\n",
        "implies(HaveWatchedDeadToMe,HaveWatchedYOU)"
      ],
      "metadata": {
        "id": "zH7hp3qevkMp",
        "colab": {
          "base_uri": "https://localhost:8080/"
        },
        "outputId": "6a4fdaec-3c88-4c94-f922-9cc8163b9c28"
      },
      "execution_count": 15,
      "outputs": [
        {
          "output_type": "execute_result",
          "data": {
            "text/plain": [
              "False"
            ]
          },
          "metadata": {},
          "execution_count": 15
        }
      ]
    },
    {
      "cell_type": "markdown",
      "source": [
        "Thus far, what we have done is present truth values for single statements; but what if we were to have a single statement consisting of multiple operations to where we would like to show the different possible truth values (being either true(T) or false(F). To show all working, it is best to use what is known as a 'truth table'. A truth table is an exhaustive list of all possible truth combinations. To demonstrate the workings of a truth table, let's compute the truth table for $ \\lnot (X \\oplus Y) \\Rightarrow (Y \\lor Z) $."
      ],
      "metadata": {
        "id": "Tz5gH3EJCPS8"
      }
    },
    {
      "cell_type": "markdown",
      "source": [
        "Essentially, here we have defined the values of the three propositions X, Y, Z, creating rows/columns for each possible outcome in order to arrive at the main statement of the problem which gives us the following  \"T,T,T,T,T,T,T,F\". Note that this statement is neither a tautology nor a contradiction. A tautology is a statement that is always true, whereas a contradiction is a statement that is always false."
      ],
      "metadata": {
        "id": "O1SAC_oREdbI"
      }
    },
    {
      "cell_type": "code",
      "metadata": {
        "colab": {
          "base_uri": "https://localhost:8080/"
        },
        "id": "5QSDEnSdfNts",
        "outputId": "fd8d9cf7-1333-4661-e082-554bfa453cd9"
      },
      "source": [
        "values = [True,False]\n",
        "table = []\n",
        "\n",
        "for X in values:\n",
        "  for Y in values:\n",
        "    for Z in values: \n",
        "      row =[]\n",
        "      row.append(X)\n",
        "      row.append(Y)\n",
        "      row.append(Z)\n",
        "      row.append(not(X))\n",
        "      row.append(not(Y))\n",
        "      row.append(X and not(Y))\n",
        "      row.append(not(X) and Y)\n",
        "      row.append((X and not(Y)) or (not(X) and Y))\n",
        "      row.append(not((X and not(Y)) or (not(X) and Y)))\n",
        "      row.append(Y or Z)\n",
        "      row.append(implies(not((X and not(Y))) or (not(X) and Y),Y or Z))\n",
        "      table.append(row)\n",
        "\n",
        "table"
      ],
      "execution_count": 12,
      "outputs": [
        {
          "output_type": "execute_result",
          "data": {
            "text/plain": [
              "[[True, True, True, False, False, False, False, False, True, True, True],\n",
              " [True, True, False, False, False, False, False, False, True, True, True],\n",
              " [True, False, True, False, True, True, False, True, False, True, True],\n",
              " [True, False, False, False, True, True, False, True, False, False, True],\n",
              " [False, True, True, True, False, False, True, True, False, True, True],\n",
              " [False, True, False, True, False, False, True, True, False, True, True],\n",
              " [False, False, True, True, True, False, False, False, True, True, True],\n",
              " [False, False, False, True, True, False, False, False, True, False, False]]"
            ]
          },
          "metadata": {},
          "execution_count": 12
        }
      ]
    },
    {
      "cell_type": "markdown",
      "metadata": {
        "id": "1Ji74jenXviZ"
      },
      "source": [
        "##2 Proof"
      ]
    },
    {
      "cell_type": "markdown",
      "source": [
        "Our goal here is to prove that $(0,b)$ is the y-intercept for the function $y = mx+b$. The function $y=mx+b$ is the slope-intercept form of a linear equation. A linear equation is an equation consisting of two variables that produce a straight line when displayed graphically. To prove this, I will create a function assigning non-zero values to $m$ and $b$. Let: $$y=\\frac{2}{3}x -4 $$\n",
        "\n",
        "The roots of this equations are $(6,0)$ and $(0, -4)$. The graph of the function, showing the roots as well, is shown below."
      ],
      "metadata": {
        "id": "Br1k0J8OGe5Q"
      }
    },
    {
      "cell_type": "code",
      "metadata": {
        "colab": {
          "base_uri": "https://localhost:8080/",
          "height": 265
        },
        "id": "cWs53xrYXy5Q",
        "outputId": "6561e4d2-d8ee-4af6-9dff-b0a36aabae18"
      },
      "source": [
        "import matplotlib.pyplot as plt\n",
        "import numpy as np\n",
        "\n",
        "x = np.arange(-5,6,.1) #first value, last value, stepsize = .1\n",
        "\n",
        "plt.plot(x,2*x/3-4)\n",
        "plt.scatter(6,0, c='red',s = 40)#plotting the points too x,y,color,size\n",
        "plt.scatter(0,-4,c='red',s = 40)\n",
        "plt.show()"
      ],
      "execution_count": 17,
      "outputs": [
        {
          "output_type": "display_data",
          "data": {
            "image/png": "[encoded data removed]",
            "text/plain": [
              "<Figure size 432x288 with 1 Axes>"
            ]
          },
          "metadata": {
            "needs_background": "light"
          }
        }
      ]
    },
    {
      "cell_type": "markdown",
      "source": [
        "The y-intercept is simply where the line crosses the y-axis of a graph and is usually of the form $(0,b)$ for the linear equation $y=mx+b$. The point $(0,-4)$ satisfies this form and is therefore the y-intercept for the function.\n",
        "\n",
        "To prove for the y-intercept, what we do is plug $0$ into the $x$ variable and solve for $y$ which should be the same as the $b$ value."
      ],
      "metadata": {
        "id": "O6irJmZ9Kavu"
      }
    },
    {
      "cell_type": "code",
      "source": [
        "-4==(2/3)*0-4"
      ],
      "metadata": {
        "colab": {
          "base_uri": "https://localhost:8080/"
        },
        "id": "pZZDRrXPMr3-",
        "outputId": "8083fbf7-467c-43b3-cb48-277b4208960f"
      },
      "execution_count": 20,
      "outputs": [
        {
          "output_type": "execute_result",
          "data": {
            "text/plain": [
              "True"
            ]
          },
          "metadata": {},
          "execution_count": 20
        }
      ]
    },
    {
      "cell_type": "markdown",
      "source": [
        "Since the values are the same, this proves that the $(0,b)$ is the y-intercept for $y=mx+b$. \n",
        "Q.E.D."
      ],
      "metadata": {
        "id": "0Wru4dVRNWS2"
      }
    }
  ]
}