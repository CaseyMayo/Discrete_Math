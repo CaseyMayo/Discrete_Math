{
  "nbformat": 4,
  "nbformat_minor": 0,
  "metadata": {
    "colab": {
      "name": "Project4.ipynb",
      "provenance": [],
      "collapsed_sections": []
    },
    "kernelspec": {
      "name": "python3",
      "display_name": "Python 3"
    }
  },
  "cells": [
    {
      "cell_type": "markdown",
      "metadata": {
        "id": "YCJaepmmfKrS"
      },
      "source": [
        "# Project Part # : CPSMA 3133 [Dr. Jacob's](https://github.com/nurfnick) Discrete Mathematics \n",
        "\n",
        "## Logics and Proofs\n",
        "\n",
        "### Pawan Pant   ID: 231144\n",
        "\n",
        "\n"
      ]
    },
    {
      "cell_type": "markdown",
      "metadata": {
        "id": "Xs_Pvtua1Nnt"
      },
      "source": [
        "## 1 Logic\n"
      ]
    },
    {
      "cell_type": "markdown",
      "metadata": {
        "id": "2z6U1aB_fQDM"
      },
      "source": [
        "In order to create a truth table i am using three propositions based on building a PC.\n",
        "\n",
        "buyGPU(p) Too expensive at the moment\n",
        "\n",
        "buyAIOcooler(q)\n",
        "\n",
        "buyCASE(r)"
      ]
    },
    {
      "cell_type": "code",
      "metadata": {
        "id": "rU_BgC_kfH7g"
      },
      "source": [
        "buyGPU = False\n",
        "buyAIOcooler = True\n",
        "buyCASE = True"
      ],
      "execution_count": null,
      "outputs": []
    },
    {
      "cell_type": "markdown",
      "metadata": {
        "id": "Iggon6VK1Vxo"
      },
      "source": [
        "we are required to make a truth table based on\n",
        " r ∧ p, r ∨ ¬q and r ⇒ p"
      ]
    },
    {
      "cell_type": "markdown",
      "source": [
        "We need  $$\\lnot q$$"
      ],
      "metadata": {
        "id": "6PWGkNjug6Lo"
      }
    },
    {
      "cell_type": "code",
      "source": [
        "not(buyAIOcooler)"
      ],
      "metadata": {
        "id": "jxqEG9hrg4r1",
        "outputId": "34094942-26e4-43c7-d942-eea05e7bbe6e",
        "colab": {
          "base_uri": "https://localhost:8080/"
        }
      },
      "execution_count": null,
      "outputs": [
        {
          "output_type": "execute_result",
          "data": {
            "text/plain": [
              "False"
            ]
          },
          "metadata": {},
          "execution_count": 5
        }
      ]
    },
    {
      "cell_type": "markdown",
      "source": [
        "We need to compute r ∧ p"
      ],
      "metadata": {
        "id": "XNm3MVXCiODT"
      }
    },
    {
      "cell_type": "code",
      "source": [
        "buyCASE and buyGPU"
      ],
      "metadata": {
        "id": "rY5oQBf-iSp2",
        "outputId": "1efa98c7-3a47-4957-ebae-79b61fe00c1a",
        "colab": {
          "base_uri": "https://localhost:8080/"
        }
      },
      "execution_count": null,
      "outputs": [
        {
          "output_type": "execute_result",
          "data": {
            "text/plain": [
              "False"
            ]
          },
          "metadata": {},
          "execution_count": 6
        }
      ]
    },
    {
      "cell_type": "markdown",
      "source": [
        "we need to find r ∨ ¬q"
      ],
      "metadata": {
        "id": "A4I90HTGiX8F"
      }
    },
    {
      "cell_type": "code",
      "source": [
        "buyCASE or not(buyAIOcooler)"
      ],
      "metadata": {
        "id": "UGxDgH0KjsKS",
        "outputId": "6eccc9a7-6acb-4714-d443-8d68be5f1536",
        "colab": {
          "base_uri": "https://localhost:8080/"
        }
      },
      "execution_count": null,
      "outputs": [
        {
          "output_type": "execute_result",
          "data": {
            "text/plain": [
              "True"
            ]
          },
          "metadata": {},
          "execution_count": 12
        }
      ]
    },
    {
      "cell_type": "markdown",
      "source": [
        "we need to find r ⇒ p"
      ],
      "metadata": {
        "id": "tje8T1brkD0e"
      }
    },
    {
      "cell_type": "markdown",
      "source": [
        "we could do ¬r ∨ p"
      ],
      "metadata": {
        "id": "I7pmdfsukF6N"
      }
    },
    {
      "cell_type": "code",
      "source": [
        "def implies (r , p):\n",
        "  return not(r) or p\n",
        "\n",
        "implies(buyCASE, buyGPU)"
      ],
      "metadata": {
        "id": "8SZqoyVIkZd_",
        "outputId": "513e2df2-2fae-4893-e45a-7b2dedfc7525",
        "colab": {
          "base_uri": "https://localhost:8080/"
        }
      },
      "execution_count": null,
      "outputs": [
        {
          "output_type": "execute_result",
          "data": {
            "text/plain": [
              "False"
            ]
          },
          "metadata": {},
          "execution_count": 17
        }
      ]
    },
    {
      "cell_type": "markdown",
      "source": [
        "After some google research i found this truth table generator package. Here we have to install truth table generator."
      ],
      "metadata": {
        "id": "-hzF9zZWm_pd"
      }
    },
    {
      "cell_type": "code",
      "source": [
        "pip install truth-table-generator"
      ],
      "metadata": {
        "id": "9uN44Z-JmXxa",
        "outputId": "bb66d62b-b103-4b08-ad38-faa2c8f6b93f",
        "colab": {
          "base_uri": "https://localhost:8080/"
        }
      },
      "execution_count": null,
      "outputs": [
        {
          "output_type": "stream",
          "name": "stdout",
          "text": [
            "Collecting truth-table-generator\n",
            "  Downloading truth_table_generator-1.1.2.tar.gz (14 kB)\n",
            "Requirement already satisfied: numpy in /usr/local/lib/python3.7/dist-packages (from truth-table-generator) (1.19.5)\n",
            "Requirement already satisfied: pandas in /usr/local/lib/python3.7/dist-packages (from truth-table-generator) (1.1.5)\n",
            "Collecting PTable\n",
            "  Downloading PTable-0.9.2.tar.gz (31 kB)\n",
            "Requirement already satisfied: pyparsing in /usr/local/lib/python3.7/dist-packages (from truth-table-generator) (3.0.6)\n",
            "Requirement already satisfied: tabulate in /usr/local/lib/python3.7/dist-packages (from truth-table-generator) (0.8.9)\n",
            "Requirement already satisfied: jinja2 in /usr/local/lib/python3.7/dist-packages (from truth-table-generator) (2.11.3)\n",
            "Requirement already satisfied: MarkupSafe>=0.23 in /usr/local/lib/python3.7/dist-packages (from jinja2->truth-table-generator) (2.0.1)\n",
            "Requirement already satisfied: pytz>=2017.2 in /usr/local/lib/python3.7/dist-packages (from pandas->truth-table-generator) (2018.9)\n",
            "Requirement already satisfied: python-dateutil>=2.7.3 in /usr/local/lib/python3.7/dist-packages (from pandas->truth-table-generator) (2.8.2)\n",
            "Requirement already satisfied: six>=1.5 in /usr/local/lib/python3.7/dist-packages (from python-dateutil>=2.7.3->pandas->truth-table-generator) (1.15.0)\n",
            "Building wheels for collected packages: truth-table-generator, PTable\n",
            "  Building wheel for truth-table-generator (setup.py) ... \u001b[?25l\u001b[?25hdone\n",
            "  Created wheel for truth-table-generator: filename=truth_table_generator-1.1.2-py3-none-any.whl size=13961 sha256=66d25f7ae911b4d74f4af63e8aac2bfa7f1a18211fb5364d0201519aa7e7b51d\n",
            "  Stored in directory: /root/.cache/pip/wheels/9a/55/b5/77f5756832494eafda92c7a94c1365ac31088a18a3a97dd480\n",
            "  Building wheel for PTable (setup.py) ... \u001b[?25l\u001b[?25hdone\n",
            "  Created wheel for PTable: filename=PTable-0.9.2-py3-none-any.whl size=22924 sha256=6d655f12b94cdac6256ee7996e55d335828f23bb4652c330defd498919203d77\n",
            "  Stored in directory: /root/.cache/pip/wheels/33/df/2f/674985b3f8a2de3f96357d1eadef5110f74fa91b3785e52a54\n",
            "Successfully built truth-table-generator PTable\n",
            "Installing collected packages: PTable, truth-table-generator\n",
            "Successfully installed PTable-0.9.2 truth-table-generator-1.1.2\n"
          ]
        }
      ]
    },
    {
      "cell_type": "markdown",
      "source": [
        "Then, we import the ttg package to create the truth table"
      ],
      "metadata": {
        "id": "0WEkQHynnGd9"
      }
    },
    {
      "cell_type": "code",
      "source": [
        "import ttg\n",
        "\n",
        "table = ttg.Truths(['p', 'q', 'r'], ['~q', 'r and p', 'r or ~q', 'r => p'], ints = False)\n",
        "table.as_pandas().style.set_properties(**{'text-align': 'left'}).hide_index()"
      ],
      "metadata": {
        "id": "N-Z5t7Mjmwfm",
        "outputId": "8651cd6a-8e6c-48ab-b2c0-a76bf02d720b",
        "colab": {
          "base_uri": "https://localhost:8080/",
          "height": 300
        }
      },
      "execution_count": null,
      "outputs": [
        {
          "output_type": "execute_result",
          "data": {
            "text/html": [
              "<style  type=\"text/css\" >\n",
              "#T_7a5f10fa_5866_11ec_a586_0242ac1c0002row0_col0,#T_7a5f10fa_5866_11ec_a586_0242ac1c0002row0_col1,#T_7a5f10fa_5866_11ec_a586_0242ac1c0002row0_col2,#T_7a5f10fa_5866_11ec_a586_0242ac1c0002row0_col3,#T_7a5f10fa_5866_11ec_a586_0242ac1c0002row0_col4,#T_7a5f10fa_5866_11ec_a586_0242ac1c0002row0_col5,#T_7a5f10fa_5866_11ec_a586_0242ac1c0002row0_col6,#T_7a5f10fa_5866_11ec_a586_0242ac1c0002row1_col0,#T_7a5f10fa_5866_11ec_a586_0242ac1c0002row1_col1,#T_7a5f10fa_5866_11ec_a586_0242ac1c0002row1_col2,#T_7a5f10fa_5866_11ec_a586_0242ac1c0002row1_col3,#T_7a5f10fa_5866_11ec_a586_0242ac1c0002row1_col4,#T_7a5f10fa_5866_11ec_a586_0242ac1c0002row1_col5,#T_7a5f10fa_5866_11ec_a586_0242ac1c0002row1_col6,#T_7a5f10fa_5866_11ec_a586_0242ac1c0002row2_col0,#T_7a5f10fa_5866_11ec_a586_0242ac1c0002row2_col1,#T_7a5f10fa_5866_11ec_a586_0242ac1c0002row2_col2,#T_7a5f10fa_5866_11ec_a586_0242ac1c0002row2_col3,#T_7a5f10fa_5866_11ec_a586_0242ac1c0002row2_col4,#T_7a5f10fa_5866_11ec_a586_0242ac1c0002row2_col5,#T_7a5f10fa_5866_11ec_a586_0242ac1c0002row2_col6,#T_7a5f10fa_5866_11ec_a586_0242ac1c0002row3_col0,#T_7a5f10fa_5866_11ec_a586_0242ac1c0002row3_col1,#T_7a5f10fa_5866_11ec_a586_0242ac1c0002row3_col2,#T_7a5f10fa_5866_11ec_a586_0242ac1c0002row3_col3,#T_7a5f10fa_5866_11ec_a586_0242ac1c0002row3_col4,#T_7a5f10fa_5866_11ec_a586_0242ac1c0002row3_col5,#T_7a5f10fa_5866_11ec_a586_0242ac1c0002row3_col6,#T_7a5f10fa_5866_11ec_a586_0242ac1c0002row4_col0,#T_7a5f10fa_5866_11ec_a586_0242ac1c0002row4_col1,#T_7a5f10fa_5866_11ec_a586_0242ac1c0002row4_col2,#T_7a5f10fa_5866_11ec_a586_0242ac1c0002row4_col3,#T_7a5f10fa_5866_11ec_a586_0242ac1c0002row4_col4,#T_7a5f10fa_5866_11ec_a586_0242ac1c0002row4_col5,#T_7a5f10fa_5866_11ec_a586_0242ac1c0002row4_col6,#T_7a5f10fa_5866_11ec_a586_0242ac1c0002row5_col0,#T_7a5f10fa_5866_11ec_a586_0242ac1c0002row5_col1,#T_7a5f10fa_5866_11ec_a586_0242ac1c0002row5_col2,#T_7a5f10fa_5866_11ec_a586_0242ac1c0002row5_col3,#T_7a5f10fa_5866_11ec_a586_0242ac1c0002row5_col4,#T_7a5f10fa_5866_11ec_a586_0242ac1c0002row5_col5,#T_7a5f10fa_5866_11ec_a586_0242ac1c0002row5_col6,#T_7a5f10fa_5866_11ec_a586_0242ac1c0002row6_col0,#T_7a5f10fa_5866_11ec_a586_0242ac1c0002row6_col1,#T_7a5f10fa_5866_11ec_a586_0242ac1c0002row6_col2,#T_7a5f10fa_5866_11ec_a586_0242ac1c0002row6_col3,#T_7a5f10fa_5866_11ec_a586_0242ac1c0002row6_col4,#T_7a5f10fa_5866_11ec_a586_0242ac1c0002row6_col5,#T_7a5f10fa_5866_11ec_a586_0242ac1c0002row6_col6,#T_7a5f10fa_5866_11ec_a586_0242ac1c0002row7_col0,#T_7a5f10fa_5866_11ec_a586_0242ac1c0002row7_col1,#T_7a5f10fa_5866_11ec_a586_0242ac1c0002row7_col2,#T_7a5f10fa_5866_11ec_a586_0242ac1c0002row7_col3,#T_7a5f10fa_5866_11ec_a586_0242ac1c0002row7_col4,#T_7a5f10fa_5866_11ec_a586_0242ac1c0002row7_col5,#T_7a5f10fa_5866_11ec_a586_0242ac1c0002row7_col6{\n",
              "            text-align:  left;\n",
              "        }</style><table id=\"T_7a5f10fa_5866_11ec_a586_0242ac1c0002\" class=\"dataframe\"><thead>    <tr>        <th class=\"col_heading level0 col0\" >p</th>        <th class=\"col_heading level0 col1\" >q</th>        <th class=\"col_heading level0 col2\" >r</th>        <th class=\"col_heading level0 col3\" >~q</th>        <th class=\"col_heading level0 col4\" >r and p</th>        <th class=\"col_heading level0 col5\" >r or ~q</th>        <th class=\"col_heading level0 col6\" >r => p</th>    </tr></thead><tbody>\n",
              "                <tr>\n",
              "                                <td id=\"T_7a5f10fa_5866_11ec_a586_0242ac1c0002row0_col0\" class=\"data row0 col0\" >True</td>\n",
              "                        <td id=\"T_7a5f10fa_5866_11ec_a586_0242ac1c0002row0_col1\" class=\"data row0 col1\" >True</td>\n",
              "                        <td id=\"T_7a5f10fa_5866_11ec_a586_0242ac1c0002row0_col2\" class=\"data row0 col2\" >True</td>\n",
              "                        <td id=\"T_7a5f10fa_5866_11ec_a586_0242ac1c0002row0_col3\" class=\"data row0 col3\" >False</td>\n",
              "                        <td id=\"T_7a5f10fa_5866_11ec_a586_0242ac1c0002row0_col4\" class=\"data row0 col4\" >True</td>\n",
              "                        <td id=\"T_7a5f10fa_5866_11ec_a586_0242ac1c0002row0_col5\" class=\"data row0 col5\" >True</td>\n",
              "                        <td id=\"T_7a5f10fa_5866_11ec_a586_0242ac1c0002row0_col6\" class=\"data row0 col6\" >True</td>\n",
              "            </tr>\n",
              "            <tr>\n",
              "                                <td id=\"T_7a5f10fa_5866_11ec_a586_0242ac1c0002row1_col0\" class=\"data row1 col0\" >True</td>\n",
              "                        <td id=\"T_7a5f10fa_5866_11ec_a586_0242ac1c0002row1_col1\" class=\"data row1 col1\" >True</td>\n",
              "                        <td id=\"T_7a5f10fa_5866_11ec_a586_0242ac1c0002row1_col2\" class=\"data row1 col2\" >False</td>\n",
              "                        <td id=\"T_7a5f10fa_5866_11ec_a586_0242ac1c0002row1_col3\" class=\"data row1 col3\" >False</td>\n",
              "                        <td id=\"T_7a5f10fa_5866_11ec_a586_0242ac1c0002row1_col4\" class=\"data row1 col4\" >False</td>\n",
              "                        <td id=\"T_7a5f10fa_5866_11ec_a586_0242ac1c0002row1_col5\" class=\"data row1 col5\" >False</td>\n",
              "                        <td id=\"T_7a5f10fa_5866_11ec_a586_0242ac1c0002row1_col6\" class=\"data row1 col6\" >True</td>\n",
              "            </tr>\n",
              "            <tr>\n",
              "                                <td id=\"T_7a5f10fa_5866_11ec_a586_0242ac1c0002row2_col0\" class=\"data row2 col0\" >True</td>\n",
              "                        <td id=\"T_7a5f10fa_5866_11ec_a586_0242ac1c0002row2_col1\" class=\"data row2 col1\" >False</td>\n",
              "                        <td id=\"T_7a5f10fa_5866_11ec_a586_0242ac1c0002row2_col2\" class=\"data row2 col2\" >True</td>\n",
              "                        <td id=\"T_7a5f10fa_5866_11ec_a586_0242ac1c0002row2_col3\" class=\"data row2 col3\" >True</td>\n",
              "                        <td id=\"T_7a5f10fa_5866_11ec_a586_0242ac1c0002row2_col4\" class=\"data row2 col4\" >True</td>\n",
              "                        <td id=\"T_7a5f10fa_5866_11ec_a586_0242ac1c0002row2_col5\" class=\"data row2 col5\" >True</td>\n",
              "                        <td id=\"T_7a5f10fa_5866_11ec_a586_0242ac1c0002row2_col6\" class=\"data row2 col6\" >True</td>\n",
              "            </tr>\n",
              "            <tr>\n",
              "                                <td id=\"T_7a5f10fa_5866_11ec_a586_0242ac1c0002row3_col0\" class=\"data row3 col0\" >True</td>\n",
              "                        <td id=\"T_7a5f10fa_5866_11ec_a586_0242ac1c0002row3_col1\" class=\"data row3 col1\" >False</td>\n",
              "                        <td id=\"T_7a5f10fa_5866_11ec_a586_0242ac1c0002row3_col2\" class=\"data row3 col2\" >False</td>\n",
              "                        <td id=\"T_7a5f10fa_5866_11ec_a586_0242ac1c0002row3_col3\" class=\"data row3 col3\" >True</td>\n",
              "                        <td id=\"T_7a5f10fa_5866_11ec_a586_0242ac1c0002row3_col4\" class=\"data row3 col4\" >False</td>\n",
              "                        <td id=\"T_7a5f10fa_5866_11ec_a586_0242ac1c0002row3_col5\" class=\"data row3 col5\" >True</td>\n",
              "                        <td id=\"T_7a5f10fa_5866_11ec_a586_0242ac1c0002row3_col6\" class=\"data row3 col6\" >True</td>\n",
              "            </tr>\n",
              "            <tr>\n",
              "                                <td id=\"T_7a5f10fa_5866_11ec_a586_0242ac1c0002row4_col0\" class=\"data row4 col0\" >False</td>\n",
              "                        <td id=\"T_7a5f10fa_5866_11ec_a586_0242ac1c0002row4_col1\" class=\"data row4 col1\" >True</td>\n",
              "                        <td id=\"T_7a5f10fa_5866_11ec_a586_0242ac1c0002row4_col2\" class=\"data row4 col2\" >True</td>\n",
              "                        <td id=\"T_7a5f10fa_5866_11ec_a586_0242ac1c0002row4_col3\" class=\"data row4 col3\" >False</td>\n",
              "                        <td id=\"T_7a5f10fa_5866_11ec_a586_0242ac1c0002row4_col4\" class=\"data row4 col4\" >False</td>\n",
              "                        <td id=\"T_7a5f10fa_5866_11ec_a586_0242ac1c0002row4_col5\" class=\"data row4 col5\" >True</td>\n",
              "                        <td id=\"T_7a5f10fa_5866_11ec_a586_0242ac1c0002row4_col6\" class=\"data row4 col6\" >False</td>\n",
              "            </tr>\n",
              "            <tr>\n",
              "                                <td id=\"T_7a5f10fa_5866_11ec_a586_0242ac1c0002row5_col0\" class=\"data row5 col0\" >False</td>\n",
              "                        <td id=\"T_7a5f10fa_5866_11ec_a586_0242ac1c0002row5_col1\" class=\"data row5 col1\" >True</td>\n",
              "                        <td id=\"T_7a5f10fa_5866_11ec_a586_0242ac1c0002row5_col2\" class=\"data row5 col2\" >False</td>\n",
              "                        <td id=\"T_7a5f10fa_5866_11ec_a586_0242ac1c0002row5_col3\" class=\"data row5 col3\" >False</td>\n",
              "                        <td id=\"T_7a5f10fa_5866_11ec_a586_0242ac1c0002row5_col4\" class=\"data row5 col4\" >False</td>\n",
              "                        <td id=\"T_7a5f10fa_5866_11ec_a586_0242ac1c0002row5_col5\" class=\"data row5 col5\" >False</td>\n",
              "                        <td id=\"T_7a5f10fa_5866_11ec_a586_0242ac1c0002row5_col6\" class=\"data row5 col6\" >True</td>\n",
              "            </tr>\n",
              "            <tr>\n",
              "                                <td id=\"T_7a5f10fa_5866_11ec_a586_0242ac1c0002row6_col0\" class=\"data row6 col0\" >False</td>\n",
              "                        <td id=\"T_7a5f10fa_5866_11ec_a586_0242ac1c0002row6_col1\" class=\"data row6 col1\" >False</td>\n",
              "                        <td id=\"T_7a5f10fa_5866_11ec_a586_0242ac1c0002row6_col2\" class=\"data row6 col2\" >True</td>\n",
              "                        <td id=\"T_7a5f10fa_5866_11ec_a586_0242ac1c0002row6_col3\" class=\"data row6 col3\" >True</td>\n",
              "                        <td id=\"T_7a5f10fa_5866_11ec_a586_0242ac1c0002row6_col4\" class=\"data row6 col4\" >False</td>\n",
              "                        <td id=\"T_7a5f10fa_5866_11ec_a586_0242ac1c0002row6_col5\" class=\"data row6 col5\" >True</td>\n",
              "                        <td id=\"T_7a5f10fa_5866_11ec_a586_0242ac1c0002row6_col6\" class=\"data row6 col6\" >False</td>\n",
              "            </tr>\n",
              "            <tr>\n",
              "                                <td id=\"T_7a5f10fa_5866_11ec_a586_0242ac1c0002row7_col0\" class=\"data row7 col0\" >False</td>\n",
              "                        <td id=\"T_7a5f10fa_5866_11ec_a586_0242ac1c0002row7_col1\" class=\"data row7 col1\" >False</td>\n",
              "                        <td id=\"T_7a5f10fa_5866_11ec_a586_0242ac1c0002row7_col2\" class=\"data row7 col2\" >False</td>\n",
              "                        <td id=\"T_7a5f10fa_5866_11ec_a586_0242ac1c0002row7_col3\" class=\"data row7 col3\" >True</td>\n",
              "                        <td id=\"T_7a5f10fa_5866_11ec_a586_0242ac1c0002row7_col4\" class=\"data row7 col4\" >False</td>\n",
              "                        <td id=\"T_7a5f10fa_5866_11ec_a586_0242ac1c0002row7_col5\" class=\"data row7 col5\" >True</td>\n",
              "                        <td id=\"T_7a5f10fa_5866_11ec_a586_0242ac1c0002row7_col6\" class=\"data row7 col6\" >True</td>\n",
              "            </tr>\n",
              "    </tbody></table>"
            ],
            "text/plain": [
              "<pandas.io.formats.style.Styler at 0x7f866a0fbcd0>"
            ]
          },
          "metadata": {},
          "execution_count": 63
        }
      ]
    },
    {
      "cell_type": "markdown",
      "source": [
        "Then we are required to create a truth table for\n",
        "¬ (X ⊕ Y ) ⇒ (Y ∨ Z)\n",
        "\n",
        "Here ⊕ is XOR gate. Since my three prepositions were p,q and r. So i could rewrite as\n",
        "\n",
        "¬ (P ⊕ Q ) ⇒ (Q ∨ R)"
      ],
      "metadata": {
        "id": "Z53GBhUUowY8"
      }
    },
    {
      "cell_type": "code",
      "source": [
        "table = ttg.Truths(['p', 'q', 'r'], ['p xor q', '~(p xor q)', 'q or r', '(~(p xor q)) => (q or r)'], ints = False)\n",
        "table.as_pandas().style.set_properties(**{'text-align': 'left'}).hide_index()"
      ],
      "metadata": {
        "id": "JK5FSOngo7Xg",
        "outputId": "05110c6d-dc57-404c-a8d4-64fc33d92e28",
        "colab": {
          "base_uri": "https://localhost:8080/",
          "height": 300
        }
      },
      "execution_count": null,
      "outputs": [
        {
          "output_type": "execute_result",
          "data": {
            "text/html": [
              "<style  type=\"text/css\" >\n",
              "#T_602eedd6_5866_11ec_a586_0242ac1c0002row0_col0,#T_602eedd6_5866_11ec_a586_0242ac1c0002row0_col1,#T_602eedd6_5866_11ec_a586_0242ac1c0002row0_col2,#T_602eedd6_5866_11ec_a586_0242ac1c0002row0_col3,#T_602eedd6_5866_11ec_a586_0242ac1c0002row0_col4,#T_602eedd6_5866_11ec_a586_0242ac1c0002row0_col5,#T_602eedd6_5866_11ec_a586_0242ac1c0002row0_col6,#T_602eedd6_5866_11ec_a586_0242ac1c0002row1_col0,#T_602eedd6_5866_11ec_a586_0242ac1c0002row1_col1,#T_602eedd6_5866_11ec_a586_0242ac1c0002row1_col2,#T_602eedd6_5866_11ec_a586_0242ac1c0002row1_col3,#T_602eedd6_5866_11ec_a586_0242ac1c0002row1_col4,#T_602eedd6_5866_11ec_a586_0242ac1c0002row1_col5,#T_602eedd6_5866_11ec_a586_0242ac1c0002row1_col6,#T_602eedd6_5866_11ec_a586_0242ac1c0002row2_col0,#T_602eedd6_5866_11ec_a586_0242ac1c0002row2_col1,#T_602eedd6_5866_11ec_a586_0242ac1c0002row2_col2,#T_602eedd6_5866_11ec_a586_0242ac1c0002row2_col3,#T_602eedd6_5866_11ec_a586_0242ac1c0002row2_col4,#T_602eedd6_5866_11ec_a586_0242ac1c0002row2_col5,#T_602eedd6_5866_11ec_a586_0242ac1c0002row2_col6,#T_602eedd6_5866_11ec_a586_0242ac1c0002row3_col0,#T_602eedd6_5866_11ec_a586_0242ac1c0002row3_col1,#T_602eedd6_5866_11ec_a586_0242ac1c0002row3_col2,#T_602eedd6_5866_11ec_a586_0242ac1c0002row3_col3,#T_602eedd6_5866_11ec_a586_0242ac1c0002row3_col4,#T_602eedd6_5866_11ec_a586_0242ac1c0002row3_col5,#T_602eedd6_5866_11ec_a586_0242ac1c0002row3_col6,#T_602eedd6_5866_11ec_a586_0242ac1c0002row4_col0,#T_602eedd6_5866_11ec_a586_0242ac1c0002row4_col1,#T_602eedd6_5866_11ec_a586_0242ac1c0002row4_col2,#T_602eedd6_5866_11ec_a586_0242ac1c0002row4_col3,#T_602eedd6_5866_11ec_a586_0242ac1c0002row4_col4,#T_602eedd6_5866_11ec_a586_0242ac1c0002row4_col5,#T_602eedd6_5866_11ec_a586_0242ac1c0002row4_col6,#T_602eedd6_5866_11ec_a586_0242ac1c0002row5_col0,#T_602eedd6_5866_11ec_a586_0242ac1c0002row5_col1,#T_602eedd6_5866_11ec_a586_0242ac1c0002row5_col2,#T_602eedd6_5866_11ec_a586_0242ac1c0002row5_col3,#T_602eedd6_5866_11ec_a586_0242ac1c0002row5_col4,#T_602eedd6_5866_11ec_a586_0242ac1c0002row5_col5,#T_602eedd6_5866_11ec_a586_0242ac1c0002row5_col6,#T_602eedd6_5866_11ec_a586_0242ac1c0002row6_col0,#T_602eedd6_5866_11ec_a586_0242ac1c0002row6_col1,#T_602eedd6_5866_11ec_a586_0242ac1c0002row6_col2,#T_602eedd6_5866_11ec_a586_0242ac1c0002row6_col3,#T_602eedd6_5866_11ec_a586_0242ac1c0002row6_col4,#T_602eedd6_5866_11ec_a586_0242ac1c0002row6_col5,#T_602eedd6_5866_11ec_a586_0242ac1c0002row6_col6,#T_602eedd6_5866_11ec_a586_0242ac1c0002row7_col0,#T_602eedd6_5866_11ec_a586_0242ac1c0002row7_col1,#T_602eedd6_5866_11ec_a586_0242ac1c0002row7_col2,#T_602eedd6_5866_11ec_a586_0242ac1c0002row7_col3,#T_602eedd6_5866_11ec_a586_0242ac1c0002row7_col4,#T_602eedd6_5866_11ec_a586_0242ac1c0002row7_col5,#T_602eedd6_5866_11ec_a586_0242ac1c0002row7_col6{\n",
              "            text-align:  left;\n",
              "        }</style><table id=\"T_602eedd6_5866_11ec_a586_0242ac1c0002\" class=\"dataframe\"><thead>    <tr>        <th class=\"col_heading level0 col0\" >p</th>        <th class=\"col_heading level0 col1\" >q</th>        <th class=\"col_heading level0 col2\" >r</th>        <th class=\"col_heading level0 col3\" >p xor q</th>        <th class=\"col_heading level0 col4\" >~(p xor q)</th>        <th class=\"col_heading level0 col5\" >q or r</th>        <th class=\"col_heading level0 col6\" >(~(p xor q)) => (q or r)</th>    </tr></thead><tbody>\n",
              "                <tr>\n",
              "                                <td id=\"T_602eedd6_5866_11ec_a586_0242ac1c0002row0_col0\" class=\"data row0 col0\" >True</td>\n",
              "                        <td id=\"T_602eedd6_5866_11ec_a586_0242ac1c0002row0_col1\" class=\"data row0 col1\" >True</td>\n",
              "                        <td id=\"T_602eedd6_5866_11ec_a586_0242ac1c0002row0_col2\" class=\"data row0 col2\" >True</td>\n",
              "                        <td id=\"T_602eedd6_5866_11ec_a586_0242ac1c0002row0_col3\" class=\"data row0 col3\" >False</td>\n",
              "                        <td id=\"T_602eedd6_5866_11ec_a586_0242ac1c0002row0_col4\" class=\"data row0 col4\" >True</td>\n",
              "                        <td id=\"T_602eedd6_5866_11ec_a586_0242ac1c0002row0_col5\" class=\"data row0 col5\" >True</td>\n",
              "                        <td id=\"T_602eedd6_5866_11ec_a586_0242ac1c0002row0_col6\" class=\"data row0 col6\" >True</td>\n",
              "            </tr>\n",
              "            <tr>\n",
              "                                <td id=\"T_602eedd6_5866_11ec_a586_0242ac1c0002row1_col0\" class=\"data row1 col0\" >True</td>\n",
              "                        <td id=\"T_602eedd6_5866_11ec_a586_0242ac1c0002row1_col1\" class=\"data row1 col1\" >True</td>\n",
              "                        <td id=\"T_602eedd6_5866_11ec_a586_0242ac1c0002row1_col2\" class=\"data row1 col2\" >False</td>\n",
              "                        <td id=\"T_602eedd6_5866_11ec_a586_0242ac1c0002row1_col3\" class=\"data row1 col3\" >False</td>\n",
              "                        <td id=\"T_602eedd6_5866_11ec_a586_0242ac1c0002row1_col4\" class=\"data row1 col4\" >True</td>\n",
              "                        <td id=\"T_602eedd6_5866_11ec_a586_0242ac1c0002row1_col5\" class=\"data row1 col5\" >True</td>\n",
              "                        <td id=\"T_602eedd6_5866_11ec_a586_0242ac1c0002row1_col6\" class=\"data row1 col6\" >True</td>\n",
              "            </tr>\n",
              "            <tr>\n",
              "                                <td id=\"T_602eedd6_5866_11ec_a586_0242ac1c0002row2_col0\" class=\"data row2 col0\" >True</td>\n",
              "                        <td id=\"T_602eedd6_5866_11ec_a586_0242ac1c0002row2_col1\" class=\"data row2 col1\" >False</td>\n",
              "                        <td id=\"T_602eedd6_5866_11ec_a586_0242ac1c0002row2_col2\" class=\"data row2 col2\" >True</td>\n",
              "                        <td id=\"T_602eedd6_5866_11ec_a586_0242ac1c0002row2_col3\" class=\"data row2 col3\" >True</td>\n",
              "                        <td id=\"T_602eedd6_5866_11ec_a586_0242ac1c0002row2_col4\" class=\"data row2 col4\" >False</td>\n",
              "                        <td id=\"T_602eedd6_5866_11ec_a586_0242ac1c0002row2_col5\" class=\"data row2 col5\" >True</td>\n",
              "                        <td id=\"T_602eedd6_5866_11ec_a586_0242ac1c0002row2_col6\" class=\"data row2 col6\" >True</td>\n",
              "            </tr>\n",
              "            <tr>\n",
              "                                <td id=\"T_602eedd6_5866_11ec_a586_0242ac1c0002row3_col0\" class=\"data row3 col0\" >True</td>\n",
              "                        <td id=\"T_602eedd6_5866_11ec_a586_0242ac1c0002row3_col1\" class=\"data row3 col1\" >False</td>\n",
              "                        <td id=\"T_602eedd6_5866_11ec_a586_0242ac1c0002row3_col2\" class=\"data row3 col2\" >False</td>\n",
              "                        <td id=\"T_602eedd6_5866_11ec_a586_0242ac1c0002row3_col3\" class=\"data row3 col3\" >True</td>\n",
              "                        <td id=\"T_602eedd6_5866_11ec_a586_0242ac1c0002row3_col4\" class=\"data row3 col4\" >False</td>\n",
              "                        <td id=\"T_602eedd6_5866_11ec_a586_0242ac1c0002row3_col5\" class=\"data row3 col5\" >False</td>\n",
              "                        <td id=\"T_602eedd6_5866_11ec_a586_0242ac1c0002row3_col6\" class=\"data row3 col6\" >True</td>\n",
              "            </tr>\n",
              "            <tr>\n",
              "                                <td id=\"T_602eedd6_5866_11ec_a586_0242ac1c0002row4_col0\" class=\"data row4 col0\" >False</td>\n",
              "                        <td id=\"T_602eedd6_5866_11ec_a586_0242ac1c0002row4_col1\" class=\"data row4 col1\" >True</td>\n",
              "                        <td id=\"T_602eedd6_5866_11ec_a586_0242ac1c0002row4_col2\" class=\"data row4 col2\" >True</td>\n",
              "                        <td id=\"T_602eedd6_5866_11ec_a586_0242ac1c0002row4_col3\" class=\"data row4 col3\" >True</td>\n",
              "                        <td id=\"T_602eedd6_5866_11ec_a586_0242ac1c0002row4_col4\" class=\"data row4 col4\" >False</td>\n",
              "                        <td id=\"T_602eedd6_5866_11ec_a586_0242ac1c0002row4_col5\" class=\"data row4 col5\" >True</td>\n",
              "                        <td id=\"T_602eedd6_5866_11ec_a586_0242ac1c0002row4_col6\" class=\"data row4 col6\" >True</td>\n",
              "            </tr>\n",
              "            <tr>\n",
              "                                <td id=\"T_602eedd6_5866_11ec_a586_0242ac1c0002row5_col0\" class=\"data row5 col0\" >False</td>\n",
              "                        <td id=\"T_602eedd6_5866_11ec_a586_0242ac1c0002row5_col1\" class=\"data row5 col1\" >True</td>\n",
              "                        <td id=\"T_602eedd6_5866_11ec_a586_0242ac1c0002row5_col2\" class=\"data row5 col2\" >False</td>\n",
              "                        <td id=\"T_602eedd6_5866_11ec_a586_0242ac1c0002row5_col3\" class=\"data row5 col3\" >True</td>\n",
              "                        <td id=\"T_602eedd6_5866_11ec_a586_0242ac1c0002row5_col4\" class=\"data row5 col4\" >False</td>\n",
              "                        <td id=\"T_602eedd6_5866_11ec_a586_0242ac1c0002row5_col5\" class=\"data row5 col5\" >True</td>\n",
              "                        <td id=\"T_602eedd6_5866_11ec_a586_0242ac1c0002row5_col6\" class=\"data row5 col6\" >True</td>\n",
              "            </tr>\n",
              "            <tr>\n",
              "                                <td id=\"T_602eedd6_5866_11ec_a586_0242ac1c0002row6_col0\" class=\"data row6 col0\" >False</td>\n",
              "                        <td id=\"T_602eedd6_5866_11ec_a586_0242ac1c0002row6_col1\" class=\"data row6 col1\" >False</td>\n",
              "                        <td id=\"T_602eedd6_5866_11ec_a586_0242ac1c0002row6_col2\" class=\"data row6 col2\" >True</td>\n",
              "                        <td id=\"T_602eedd6_5866_11ec_a586_0242ac1c0002row6_col3\" class=\"data row6 col3\" >False</td>\n",
              "                        <td id=\"T_602eedd6_5866_11ec_a586_0242ac1c0002row6_col4\" class=\"data row6 col4\" >True</td>\n",
              "                        <td id=\"T_602eedd6_5866_11ec_a586_0242ac1c0002row6_col5\" class=\"data row6 col5\" >True</td>\n",
              "                        <td id=\"T_602eedd6_5866_11ec_a586_0242ac1c0002row6_col6\" class=\"data row6 col6\" >True</td>\n",
              "            </tr>\n",
              "            <tr>\n",
              "                                <td id=\"T_602eedd6_5866_11ec_a586_0242ac1c0002row7_col0\" class=\"data row7 col0\" >False</td>\n",
              "                        <td id=\"T_602eedd6_5866_11ec_a586_0242ac1c0002row7_col1\" class=\"data row7 col1\" >False</td>\n",
              "                        <td id=\"T_602eedd6_5866_11ec_a586_0242ac1c0002row7_col2\" class=\"data row7 col2\" >False</td>\n",
              "                        <td id=\"T_602eedd6_5866_11ec_a586_0242ac1c0002row7_col3\" class=\"data row7 col3\" >False</td>\n",
              "                        <td id=\"T_602eedd6_5866_11ec_a586_0242ac1c0002row7_col4\" class=\"data row7 col4\" >True</td>\n",
              "                        <td id=\"T_602eedd6_5866_11ec_a586_0242ac1c0002row7_col5\" class=\"data row7 col5\" >False</td>\n",
              "                        <td id=\"T_602eedd6_5866_11ec_a586_0242ac1c0002row7_col6\" class=\"data row7 col6\" >False</td>\n",
              "            </tr>\n",
              "    </tbody></table>"
            ],
            "text/plain": [
              "<pandas.io.formats.style.Styler at 0x7f866a0a6dd0>"
            ]
          },
          "metadata": {},
          "execution_count": 62
        }
      ]
    },
    {
      "cell_type": "markdown",
      "metadata": {
        "id": "_7RoPTU_hXG1"
      },
      "source": [
        "## 2 Proof"
      ]
    },
    {
      "cell_type": "markdown",
      "metadata": {
        "id": "MMXFYCZ6hajg"
      },
      "source": [
        "We are required to create a linear equation in the form\n",
        "$$y = mx + b$$\n",
        "\n",
        "An example of such linear equation would be \n",
        "$$ y = 2x +1$$\n",
        "(0,b) is the y-intercept form the equation.\n",
        "\n"
      ]
    },
    {
      "cell_type": "markdown",
      "source": [
        "Then we use numpy to plot the graph"
      ],
      "metadata": {
        "id": "EAN2Liisyj0W"
      }
    },
    {
      "cell_type": "code",
      "metadata": {
        "colab": {
          "base_uri": "https://localhost:8080/",
          "height": 281
        },
        "outputId": "6387d863-bafb-42fd-9b5a-616b0806f086",
        "id": "p3o_hvKEyqk8"
      },
      "source": [
        "import matplotlib.pyplot as plt\n",
        "import numpy as np\n",
        "\n",
        "x = np.linspace(-5,5,50)\n",
        "y = 2*x + 1\n",
        "plt.plot(x,y)\n",
        "plt.title('Graph y=2x+1')\n",
        "plt.grid()\n",
        "plt.show()"
      ],
      "execution_count": null,
      "outputs": [
        {
          "output_type": "display_data",
          "data": {
            "image/png": "[encoded data removed]",
            "text/plain": [
              "<Figure size 432x288 with 1 Axes>"
            ]
          },
          "metadata": {
            "needs_background": "light"
          }
        }
      ]
    },
    {
      "cell_type": "markdown",
      "source": [
        "our equation: $$y=2x+1$$ \n",
        "to find the y-intercept form, put x = 0\n",
        "then our equation becomes\n",
        "$$y = 2*0 + 1$$\n",
        "$$y = 1$$\n",
        "Thus, y-intercept form of our equation is **(0,1)**\n",
        "Using this we can show our proof.\n",
        "\n",
        "so our equation becomes $$1=2*0+1$$"
      ],
      "metadata": {
        "id": "AJ684iqc0i_n"
      }
    },
    {
      "cell_type": "code",
      "source": [
        "1 == 2*0+1"
      ],
      "metadata": {
        "id": "xKIgHnt_1sQe",
        "outputId": "47aa8df8-557c-41a2-cae0-5739ea4d8e0a",
        "colab": {
          "base_uri": "https://localhost:8080/"
        }
      },
      "execution_count": null,
      "outputs": [
        {
          "output_type": "execute_result",
          "data": {
            "text/plain": [
              "True"
            ]
          },
          "metadata": {},
          "execution_count": 85
        }
      ]
    },
    {
      "cell_type": "markdown",
      "source": [
        "This shows our proof"
      ],
      "metadata": {
        "id": "pWeEkaeH69BL"
      }
    }
  ]
}