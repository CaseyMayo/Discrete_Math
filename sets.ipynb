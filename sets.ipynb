{
  "nbformat": 4,
  "nbformat_minor": 0,
  "metadata": {
    "colab": {
      "name": "Untitled3.ipynb",
      "provenance": [],
      "include_colab_link": true
    },
    "kernelspec": {
      "name": "python3",
      "display_name": "Python 3"
    }
  },
  "cells": [
    {
      "cell_type": "markdown",
      "metadata": {
        "id": "view-in-github",
        "colab_type": "text"
      },
      "source": [
        "<a href=\"https://colab.research.google.com/github/nurfnick/Discrete_Math/blob/master/sets.ipynb\" target=\"_parent\"><img src=\"https://colab.research.google.com/assets/colab-badge.svg\" alt=\"Open In Colab\"/></a>"
      ]
    },
    {
      "cell_type": "code",
      "metadata": {
        "id": "D0fp-JUQodrs",
        "colab_type": "code",
        "colab": {}
      },
      "source": [
        "import pandas as pa\n",
        "\n",
        "data = pa.read_csv('https://raw.githubusercontent.com/nurfnick/COVID_Travel/master/census_population.csv',encoding='latin-1')"
      ],
      "execution_count": 1,
      "outputs": []
    },
    {
      "cell_type": "code",
      "metadata": {
        "id": "4NhP3OmuowAR",
        "colab_type": "code",
        "colab": {
          "base_uri": "https://localhost:8080/",
          "height": 221
        },
        "outputId": "ce37afb0-9933-4b20-f074-e8d526a0e98b"
      },
      "source": [
        "data['State']"
      ],
      "execution_count": 3,
      "outputs": [
        {
          "output_type": "execute_result",
          "data": {
            "text/plain": [
              "0           NaN\n",
              "1       Alabama\n",
              "2       Alabama\n",
              "3       Alabama\n",
              "4       Alabama\n",
              "         ...   \n",
              "3138    Wyoming\n",
              "3139    Wyoming\n",
              "3140    Wyoming\n",
              "3141    Wyoming\n",
              "3142    Wyoming\n",
              "Name: State, Length: 3143, dtype: object"
            ]
          },
          "metadata": {
            "tags": []
          },
          "execution_count": 3
        }
      ]
    },
    {
      "cell_type": "markdown",
      "metadata": {
        "id": "xK-lMzlsMsc3",
        "colab_type": "text"
      },
      "source": [
        "Let's try to make the States into a set.  I'll save it and then remove the nan (empty field) and get rid of the duplicates."
      ]
    },
    {
      "cell_type": "code",
      "metadata": {
        "id": "t-lR7oW6qFoC",
        "colab_type": "code",
        "colab": {}
      },
      "source": [
        "states = pa.unique(data['State'])"
      ],
      "execution_count": 4,
      "outputs": []
    },
    {
      "cell_type": "code",
      "metadata": {
        "id": "DBTeAArjP1wd",
        "colab_type": "code",
        "colab": {
          "base_uri": "https://localhost:8080/",
          "height": 204
        },
        "outputId": "bc3722d9-b8ab-4194-f981-4d296270eeda"
      },
      "source": [
        "states"
      ],
      "execution_count": 5,
      "outputs": [
        {
          "output_type": "execute_result",
          "data": {
            "text/plain": [
              "array([nan, 'Alabama', 'Alaska', 'Arizona', 'Arkansas', 'California',\n",
              "       'Colorado', 'Connecticut', 'Delaware', 'District of Columbia',\n",
              "       'Florida', 'Georgia', 'Hawaii', 'Idaho', 'Illinois', 'Indiana',\n",
              "       'Iowa', 'Kansas', 'Kentucky', 'Louisiana', 'Maine', 'Maryland',\n",
              "       'Massachusetts', 'Michigan', 'Minnesota', 'Mississippi',\n",
              "       'Missouri', 'Montana', 'Nebraska', 'Nevada', 'New Hampshire',\n",
              "       'New Jersey', 'New Mexico', 'New York', 'North Carolina',\n",
              "       'North Dakota', 'Ohio', 'Oklahoma', 'Oregon', 'Pennsylvania',\n",
              "       'Rhode Island', 'South Carolina', 'South Dakota', 'Tennessee',\n",
              "       'Texas', 'Utah', 'Vermont', 'Virginia', 'Washington',\n",
              "       'West Virginia', 'Wisconsin', 'Wyoming'], dtype=object)"
            ]
          },
          "metadata": {
            "tags": []
          },
          "execution_count": 5
        }
      ]
    },
    {
      "cell_type": "code",
      "metadata": {
        "id": "BvGxnMe6qP88",
        "colab_type": "code",
        "colab": {}
      },
      "source": [
        "states = states[~pa.isna(states)]"
      ],
      "execution_count": 6,
      "outputs": []
    },
    {
      "cell_type": "code",
      "metadata": {
        "id": "DB4mc2Uhqfts",
        "colab_type": "code",
        "colab": {
          "base_uri": "https://localhost:8080/",
          "height": 204
        },
        "outputId": "1b4594fb-1a36-4fa1-d61a-94859202fcc2"
      },
      "source": [
        "states"
      ],
      "execution_count": 7,
      "outputs": [
        {
          "output_type": "execute_result",
          "data": {
            "text/plain": [
              "array(['Alabama', 'Alaska', 'Arizona', 'Arkansas', 'California',\n",
              "       'Colorado', 'Connecticut', 'Delaware', 'District of Columbia',\n",
              "       'Florida', 'Georgia', 'Hawaii', 'Idaho', 'Illinois', 'Indiana',\n",
              "       'Iowa', 'Kansas', 'Kentucky', 'Louisiana', 'Maine', 'Maryland',\n",
              "       'Massachusetts', 'Michigan', 'Minnesota', 'Mississippi',\n",
              "       'Missouri', 'Montana', 'Nebraska', 'Nevada', 'New Hampshire',\n",
              "       'New Jersey', 'New Mexico', 'New York', 'North Carolina',\n",
              "       'North Dakota', 'Ohio', 'Oklahoma', 'Oregon', 'Pennsylvania',\n",
              "       'Rhode Island', 'South Carolina', 'South Dakota', 'Tennessee',\n",
              "       'Texas', 'Utah', 'Vermont', 'Virginia', 'Washington',\n",
              "       'West Virginia', 'Wisconsin', 'Wyoming'], dtype=object)"
            ]
          },
          "metadata": {
            "tags": []
          },
          "execution_count": 7
        }
      ]
    },
    {
      "cell_type": "markdown",
      "metadata": {
        "id": "Dh0L0iT9M-pn",
        "colab_type": "text"
      },
      "source": [
        "So now I have a set of all states.  Not too shabby.  I want to do some more with it though but states are kind of boring.  I'll play with counties next.  I think Oklahoma and Mississippi have some shared counties."
      ]
    },
    {
      "cell_type": "code",
      "metadata": {
        "id": "EBBNawjBorek",
        "colab_type": "code",
        "colab": {}
      },
      "source": [
        "okcounty = data[data['State']=='Oklahoma']['County']\n",
        "miscounty = data[data['State']=='Mississippi']['County']"
      ],
      "execution_count": 8,
      "outputs": []
    },
    {
      "cell_type": "code",
      "metadata": {
        "id": "KDon2E8hqr8l",
        "colab_type": "code",
        "colab": {}
      },
      "source": [
        "okcounty = pa.unique(okcounty)\n",
        "miscounty = pa.unique(miscounty)"
      ],
      "execution_count": 9,
      "outputs": []
    },
    {
      "cell_type": "code",
      "metadata": {
        "id": "SIz7yzPvNSbH",
        "colab_type": "code",
        "colab": {
          "base_uri": "https://localhost:8080/",
          "height": 255
        },
        "outputId": "26c12155-9e04-4dbd-fc1e-ba26ba268500"
      },
      "source": [
        "okcounty"
      ],
      "execution_count": 10,
      "outputs": [
        {
          "output_type": "execute_result",
          "data": {
            "text/plain": [
              "array(['Adair', 'Alfalfa', 'Atoka', 'Beaver', 'Beckham', 'Blaine',\n",
              "       'Bryan', 'Caddo', 'Canadian', 'Carter', 'Cherokee', 'Choctaw',\n",
              "       'Cimarron', 'Cleveland', 'Coal', 'Comanche', 'Cotton', 'Craig',\n",
              "       'Creek', 'Custer', 'Delaware', 'Dewey', 'Ellis', 'Garfield',\n",
              "       'Garvin', 'Grady', 'Grant', 'Greer', 'Harmon', 'Harper', 'Haskell',\n",
              "       'Hughes', 'Jackson', 'Jefferson', 'Johnston', 'Kay', 'Kingfisher',\n",
              "       'Kiowa', 'Latimer', 'Le Flore', 'Lincoln', 'Logan', 'Love',\n",
              "       'McClain', 'McCurtain', 'McIntosh', 'Major', 'Marshall', 'Mayes',\n",
              "       'Murray', 'Muskogee', 'Noble', 'Nowata', 'Okfuskee', 'Oklahoma',\n",
              "       'Okmulgee', 'Osage', 'Ottawa', 'Pawnee', 'Payne', 'Pittsburg',\n",
              "       'Pontotoc', 'Pottawatomie', 'Pushmataha', 'Roger Mills', 'Rogers',\n",
              "       'Seminole', 'Sequoyah', 'Stephens', 'Texas', 'Tillman', 'Tulsa',\n",
              "       'Wagoner', 'Washington', 'Washita', 'Woods', 'Woodward'],\n",
              "      dtype=object)"
            ]
          },
          "metadata": {
            "tags": []
          },
          "execution_count": 10
        }
      ]
    },
    {
      "cell_type": "code",
      "metadata": {
        "id": "uTA4dF1eNggQ",
        "colab_type": "code",
        "colab": {
          "base_uri": "https://localhost:8080/",
          "height": 272
        },
        "outputId": "af6f0545-e1e6-4d51-8462-c3d4034cd31a"
      },
      "source": [
        "miscounty"
      ],
      "execution_count": 11,
      "outputs": [
        {
          "output_type": "execute_result",
          "data": {
            "text/plain": [
              "array(['Adams', 'Alcorn', 'Amite', 'Attala', 'Benton', 'Bolivar',\n",
              "       'Calhoun', 'Carroll', 'Chickasaw', 'Choctaw', 'Claiborne',\n",
              "       'Clarke', 'Clay', 'Coahoma', 'Copiah', 'Covington', 'DeSoto',\n",
              "       'Forrest', 'Franklin', 'George', 'Greene', 'Grenada', 'Hancock',\n",
              "       'Harrison', 'Hinds', 'Holmes', 'Humphreys', 'Issaquena',\n",
              "       'Itawamba', 'Jackson', 'Jasper', 'Jefferson', 'Jefferson Davis',\n",
              "       'Jones', 'Kemper', 'Lafayette', 'Lamar', 'Lauderdale', 'Lawrence',\n",
              "       'Leake', 'Lee', 'Leflore', 'Lincoln', 'Lowndes', 'Madison',\n",
              "       'Marion', 'Marshall', 'Monroe', 'Montgomery', 'Neshoba', 'Newton',\n",
              "       'Noxubee', 'Oktibbeha', 'Panola', 'Pearl River', 'Perry', 'Pike',\n",
              "       'Pontotoc', 'Prentiss', 'Quitman', 'Rankin', 'Scott', 'Sharkey',\n",
              "       'Simpson', 'Smith', 'Stone', 'Sunflower', 'Tallahatchie', 'Tate',\n",
              "       'Tippah', 'Tishomingo', 'Tunica', 'Union', 'Walthall', 'Warren',\n",
              "       'Washington', 'Wayne', 'Webster', 'Wilkinson', 'Winston',\n",
              "       'Yalobusha', 'Yazoo'], dtype=object)"
            ]
          },
          "metadata": {
            "tags": []
          },
          "execution_count": 11
        }
      ]
    },
    {
      "cell_type": "code",
      "metadata": {
        "id": "jjK6xpGSNyMg",
        "colab_type": "code",
        "colab": {
          "base_uri": "https://localhost:8080/",
          "height": 136
        },
        "outputId": "1e694d4c-8dac-4b13-a69a-a8067b176a20"
      },
      "source": [
        "intersection = []\n",
        "for ok in okcounty:\n",
        "  for mis in miscounty:\n",
        "    if ok == mis:\n",
        "      print(ok)\n",
        "      intersection.append(ok)"
      ],
      "execution_count": 12,
      "outputs": [
        {
          "output_type": "stream",
          "text": [
            "Choctaw\n",
            "Jackson\n",
            "Jefferson\n",
            "Lincoln\n",
            "Marshall\n",
            "Pontotoc\n",
            "Washington\n"
          ],
          "name": "stdout"
        }
      ]
    },
    {
      "cell_type": "code",
      "metadata": {
        "id": "aDbskwmPOH-P",
        "colab_type": "code",
        "colab": {
          "base_uri": "https://localhost:8080/",
          "height": 136
        },
        "outputId": "df088511-c8c4-4f2e-85a9-56dc4cef445e"
      },
      "source": [
        "intersection"
      ],
      "execution_count": 13,
      "outputs": [
        {
          "output_type": "execute_result",
          "data": {
            "text/plain": [
              "['Choctaw',\n",
              " 'Jackson',\n",
              " 'Jefferson',\n",
              " 'Lincoln',\n",
              " 'Marshall',\n",
              " 'Pontotoc',\n",
              " 'Washington']"
            ]
          },
          "metadata": {
            "tags": []
          },
          "execution_count": 13
        }
      ]
    },
    {
      "cell_type": "code",
      "metadata": {
        "id": "CD4d0ubLOeA-",
        "colab_type": "code",
        "colab": {}
      },
      "source": [
        "union = []\n",
        "for ok in okcounty:\n",
        "  union.append(ok)\n",
        "for mis in miscounty:\n",
        "  union.append(mis)\n",
        "union = pa.unique(union)"
      ],
      "execution_count": 14,
      "outputs": []
    },
    {
      "cell_type": "code",
      "metadata": {
        "id": "sCMgFUzgRdDO",
        "colab_type": "code",
        "colab": {
          "base_uri": "https://localhost:8080/",
          "height": 476
        },
        "outputId": "a6d8e734-3aca-4bae-c6a0-65d92df50829"
      },
      "source": [
        "union"
      ],
      "execution_count": 15,
      "outputs": [
        {
          "output_type": "execute_result",
          "data": {
            "text/plain": [
              "array(['Adair', 'Alfalfa', 'Atoka', 'Beaver', 'Beckham', 'Blaine',\n",
              "       'Bryan', 'Caddo', 'Canadian', 'Carter', 'Cherokee', 'Choctaw',\n",
              "       'Cimarron', 'Cleveland', 'Coal', 'Comanche', 'Cotton', 'Craig',\n",
              "       'Creek', 'Custer', 'Delaware', 'Dewey', 'Ellis', 'Garfield',\n",
              "       'Garvin', 'Grady', 'Grant', 'Greer', 'Harmon', 'Harper', 'Haskell',\n",
              "       'Hughes', 'Jackson', 'Jefferson', 'Johnston', 'Kay', 'Kingfisher',\n",
              "       'Kiowa', 'Latimer', 'Le Flore', 'Lincoln', 'Logan', 'Love',\n",
              "       'McClain', 'McCurtain', 'McIntosh', 'Major', 'Marshall', 'Mayes',\n",
              "       'Murray', 'Muskogee', 'Noble', 'Nowata', 'Okfuskee', 'Oklahoma',\n",
              "       'Okmulgee', 'Osage', 'Ottawa', 'Pawnee', 'Payne', 'Pittsburg',\n",
              "       'Pontotoc', 'Pottawatomie', 'Pushmataha', 'Roger Mills', 'Rogers',\n",
              "       'Seminole', 'Sequoyah', 'Stephens', 'Texas', 'Tillman', 'Tulsa',\n",
              "       'Wagoner', 'Washington', 'Washita', 'Woods', 'Woodward', 'Adams',\n",
              "       'Alcorn', 'Amite', 'Attala', 'Benton', 'Bolivar', 'Calhoun',\n",
              "       'Carroll', 'Chickasaw', 'Claiborne', 'Clarke', 'Clay', 'Coahoma',\n",
              "       'Copiah', 'Covington', 'DeSoto', 'Forrest', 'Franklin', 'George',\n",
              "       'Greene', 'Grenada', 'Hancock', 'Harrison', 'Hinds', 'Holmes',\n",
              "       'Humphreys', 'Issaquena', 'Itawamba', 'Jasper', 'Jefferson Davis',\n",
              "       'Jones', 'Kemper', 'Lafayette', 'Lamar', 'Lauderdale', 'Lawrence',\n",
              "       'Leake', 'Lee', 'Leflore', 'Lowndes', 'Madison', 'Marion',\n",
              "       'Monroe', 'Montgomery', 'Neshoba', 'Newton', 'Noxubee',\n",
              "       'Oktibbeha', 'Panola', 'Pearl River', 'Perry', 'Pike', 'Prentiss',\n",
              "       'Quitman', 'Rankin', 'Scott', 'Sharkey', 'Simpson', 'Smith',\n",
              "       'Stone', 'Sunflower', 'Tallahatchie', 'Tate', 'Tippah',\n",
              "       'Tishomingo', 'Tunica', 'Union', 'Walthall', 'Warren', 'Wayne',\n",
              "       'Webster', 'Wilkinson', 'Winston', 'Yalobusha', 'Yazoo'],\n",
              "      dtype=object)"
            ]
          },
          "metadata": {
            "tags": []
          },
          "execution_count": 15
        }
      ]
    },
    {
      "cell_type": "code",
      "metadata": {
        "id": "P8zEaFctKzMX",
        "colab_type": "code",
        "colab": {}
      },
      "source": [
        "setdif =[]\n",
        "for ok in okcounty:\n",
        "  if ok not in intersection:\n",
        "    setdif.append(ok)"
      ],
      "execution_count": 16,
      "outputs": []
    },
    {
      "cell_type": "code",
      "metadata": {
        "id": "YY-qzC08SYC8",
        "colab_type": "code",
        "colab": {
          "base_uri": "https://localhost:8080/",
          "height": 1000
        },
        "outputId": "122a5dd5-e362-4557-9aed-220425d39d16"
      },
      "source": [
        "setdif"
      ],
      "execution_count": 17,
      "outputs": [
        {
          "output_type": "execute_result",
          "data": {
            "text/plain": [
              "['Adair',\n",
              " 'Alfalfa',\n",
              " 'Atoka',\n",
              " 'Beaver',\n",
              " 'Beckham',\n",
              " 'Blaine',\n",
              " 'Bryan',\n",
              " 'Caddo',\n",
              " 'Canadian',\n",
              " 'Carter',\n",
              " 'Cherokee',\n",
              " 'Cimarron',\n",
              " 'Cleveland',\n",
              " 'Coal',\n",
              " 'Comanche',\n",
              " 'Cotton',\n",
              " 'Craig',\n",
              " 'Creek',\n",
              " 'Custer',\n",
              " 'Delaware',\n",
              " 'Dewey',\n",
              " 'Ellis',\n",
              " 'Garfield',\n",
              " 'Garvin',\n",
              " 'Grady',\n",
              " 'Grant',\n",
              " 'Greer',\n",
              " 'Harmon',\n",
              " 'Harper',\n",
              " 'Haskell',\n",
              " 'Hughes',\n",
              " 'Johnston',\n",
              " 'Kay',\n",
              " 'Kingfisher',\n",
              " 'Kiowa',\n",
              " 'Latimer',\n",
              " 'Le Flore',\n",
              " 'Logan',\n",
              " 'Love',\n",
              " 'McClain',\n",
              " 'McCurtain',\n",
              " 'McIntosh',\n",
              " 'Major',\n",
              " 'Mayes',\n",
              " 'Murray',\n",
              " 'Muskogee',\n",
              " 'Noble',\n",
              " 'Nowata',\n",
              " 'Okfuskee',\n",
              " 'Oklahoma',\n",
              " 'Okmulgee',\n",
              " 'Osage',\n",
              " 'Ottawa',\n",
              " 'Pawnee',\n",
              " 'Payne',\n",
              " 'Pittsburg',\n",
              " 'Pottawatomie',\n",
              " 'Pushmataha',\n",
              " 'Roger Mills',\n",
              " 'Rogers',\n",
              " 'Seminole',\n",
              " 'Sequoyah',\n",
              " 'Stephens',\n",
              " 'Texas',\n",
              " 'Tillman',\n",
              " 'Tulsa',\n",
              " 'Wagoner',\n",
              " 'Washita',\n",
              " 'Woods',\n",
              " 'Woodward']"
            ]
          },
          "metadata": {
            "tags": []
          },
          "execution_count": 17
        }
      ]
    },
    {
      "cell_type": "code",
      "metadata": {
        "id": "jMj0V-Y0SZlV",
        "colab_type": "code",
        "colab": {}
      },
      "source": [
        ""
      ],
      "execution_count": null,
      "outputs": []
    }
  ]
}