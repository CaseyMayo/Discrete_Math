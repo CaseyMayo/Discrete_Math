{
  "nbformat": 4,
  "nbformat_minor": 0,
  "metadata": {
    "colab": {
      "name": "Untitled3.ipynb",
      "provenance": [],
      "authorship_tag": "ABX9TyOoykED0gYoH54luTeosU1J",
      "include_colab_link": true
    },
    "kernelspec": {
      "name": "python3",
      "display_name": "Python 3"
    }
  },
  "cells": [
    {
      "cell_type": "markdown",
      "metadata": {
        "id": "view-in-github",
        "colab_type": "text"
      },
      "source": [
        "<a href=\"https://colab.research.google.com/github/nurfnick/Discrete_Math/blob/master/data.ipynb\" target=\"_parent\"><img src=\"https://colab.research.google.com/assets/colab-badge.svg\" alt=\"Open In Colab\"/></a>"
      ]
    },
    {
      "cell_type": "code",
      "metadata": {
        "id": "D0fp-JUQodrs",
        "colab_type": "code",
        "colab": {}
      },
      "source": [
        "import pandas as pa\n",
        "\n",
        "data = pa.read_csv('https://raw.githubusercontent.com/nurfnick/COVID_Travel/master/census_population.csv',encoding='latin-1')"
      ],
      "execution_count": 2,
      "outputs": []
    },
    {
      "cell_type": "code",
      "metadata": {
        "id": "EBBNawjBorek",
        "colab_type": "code",
        "colab": {
          "base_uri": "https://localhost:8080/",
          "height": 237
        },
        "outputId": "1a1383c5-f06c-4978-f67f-6da3e5eb96f1"
      },
      "source": [
        "data['2019.1']"
      ],
      "execution_count": 3,
      "outputs": [
        {
          "output_type": "execute_result",
          "data": {
            "text/plain": [
              "0       328239523\n",
              "1           55869\n",
              "2          223234\n",
              "3           24686\n",
              "4           22394\n",
              "          ...    \n",
              "3138        42343\n",
              "3139        23464\n",
              "3140        20226\n",
              "3141         7805\n",
              "3142         6927\n",
              "Name: 2019.1, Length: 3143, dtype: int64"
            ]
          },
          "metadata": {
            "tags": []
          },
          "execution_count": 3
        }
      ]
    },
    {
      "cell_type": "code",
      "metadata": {
        "id": "4NhP3OmuowAR",
        "colab_type": "code",
        "colab": {
          "base_uri": "https://localhost:8080/",
          "height": 237
        },
        "outputId": "86e7fe24-f6ed-4d03-d12f-dd99ebf18913"
      },
      "source": [
        "data['State']"
      ],
      "execution_count": 4,
      "outputs": [
        {
          "output_type": "execute_result",
          "data": {
            "text/plain": [
              "0           NaN\n",
              "1       Alabama\n",
              "2       Alabama\n",
              "3       Alabama\n",
              "4       Alabama\n",
              "         ...   \n",
              "3138    Wyoming\n",
              "3139    Wyoming\n",
              "3140    Wyoming\n",
              "3141    Wyoming\n",
              "3142    Wyoming\n",
              "Name: State, Length: 3143, dtype: object"
            ]
          },
          "metadata": {
            "tags": []
          },
          "execution_count": 4
        }
      ]
    },
    {
      "cell_type": "code",
      "metadata": {
        "id": "t-lR7oW6qFoC",
        "colab_type": "code",
        "colab": {}
      },
      "source": [
        "states = pa.unique(data['State'])"
      ],
      "execution_count": 6,
      "outputs": []
    },
    {
      "cell_type": "code",
      "metadata": {
        "id": "BvGxnMe6qP88",
        "colab_type": "code",
        "colab": {}
      },
      "source": [
        "states = states[~pa.isna(states)]"
      ],
      "execution_count": 11,
      "outputs": []
    },
    {
      "cell_type": "code",
      "metadata": {
        "id": "DB4mc2Uhqfts",
        "colab_type": "code",
        "colab": {
          "base_uri": "https://localhost:8080/",
          "height": 219
        },
        "outputId": "de4e7cb3-1076-40f9-9e62-5cf563caed9b"
      },
      "source": [
        "states"
      ],
      "execution_count": 12,
      "outputs": [
        {
          "output_type": "execute_result",
          "data": {
            "text/plain": [
              "array(['Alabama', 'Alaska', 'Arizona', 'Arkansas', 'California',\n",
              "       'Colorado', 'Connecticut', 'Delaware', 'District of Columbia',\n",
              "       'Florida', 'Georgia', 'Hawaii', 'Idaho', 'Illinois', 'Indiana',\n",
              "       'Iowa', 'Kansas', 'Kentucky', 'Louisiana', 'Maine', 'Maryland',\n",
              "       'Massachusetts', 'Michigan', 'Minnesota', 'Mississippi',\n",
              "       'Missouri', 'Montana', 'Nebraska', 'Nevada', 'New Hampshire',\n",
              "       'New Jersey', 'New Mexico', 'New York', 'North Carolina',\n",
              "       'North Dakota', 'Ohio', 'Oklahoma', 'Oregon', 'Pennsylvania',\n",
              "       'Rhode Island', 'South Carolina', 'South Dakota', 'Tennessee',\n",
              "       'Texas', 'Utah', 'Vermont', 'Virginia', 'Washington',\n",
              "       'West Virginia', 'Wisconsin', 'Wyoming'], dtype=object)"
            ]
          },
          "metadata": {
            "tags": []
          },
          "execution_count": 12
        }
      ]
    },
    {
      "cell_type": "code",
      "metadata": {
        "id": "KDon2E8hqr8l",
        "colab_type": "code",
        "colab": {}
      },
      "source": [
        ""
      ],
      "execution_count": null,
      "outputs": []
    }
  ]
}