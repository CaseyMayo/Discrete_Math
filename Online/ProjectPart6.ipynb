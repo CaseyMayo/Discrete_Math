{
  "nbformat": 4,
  "nbformat_minor": 0,
  "metadata": {
    "colab": {
      "name": "Untitled0.ipynb",
      "provenance": [],
      "include_colab_link": true
    },
    "kernelspec": {
      "name": "python3",
      "display_name": "Python 3"
    }
  },
  "cells": [
    {
      "cell_type": "markdown",
      "metadata": {
        "id": "view-in-github",
        "colab_type": "text"
      },
      "source": [
        "<a href=\"https://colab.research.google.com/github/nurfnick/Discrete_Math/blob/master/Online/ProjectPart6.ipynb\" target=\"_parent\"><img src=\"https://colab.research.google.com/assets/colab-badge.svg\" alt=\"Open In Colab\"/></a>"
      ]
    },
    {
      "cell_type": "markdown",
      "metadata": {
        "id": "YCJaepmmfKrS"
      },
      "source": [
        "# Project Part #6 : CPSMA 3133 [Dr. Jacob's](https://github.com/nurfnick) Discrete Mathematics \n",
        "\n",
        "## Numbers\n",
        "\n",
        "### Me!\n",
        "\n",
        "\n"
      ]
    },
    {
      "cell_type": "markdown",
      "metadata": {
        "id": "_7RoPTU_hXG1"
      },
      "source": [
        "## Numbers"
      ]
    },
    {
      "cell_type": "markdown",
      "metadata": {
        "id": "MMXFYCZ6hajg"
      },
      "source": [
        "I want to run through the mathematics of converting a decimal number into hex just to show the actions required.  I'll use the `math.floor` function to get the whole divisor and `%` to get the remainder.  Let's convert 123456 into hex."
      ]
    },
    {
      "cell_type": "code",
      "metadata": {
        "id": "5U5T3Fld5X0S",
        "colab": {
          "base_uri": "https://localhost:8080/"
        },
        "outputId": "e08c84a4-abe3-4ee4-e6a7-5743fbf81729"
      },
      "source": [
        "from math import floor\n",
        "print(123456%16)\n",
        "floor(123456/16)"
      ],
      "execution_count": 16,
      "outputs": [
        {
          "output_type": "stream",
          "name": "stdout",
          "text": [
            "0\n"
          ]
        },
        {
          "output_type": "execute_result",
          "data": {
            "text/plain": [
              "7716"
            ]
          },
          "metadata": {},
          "execution_count": 16
        }
      ]
    },
    {
      "cell_type": "markdown",
      "metadata": {
        "id": "f1xnXaYEH_Y3"
      },
      "source": [
        "So the last digit will be a zero and 7716 will be the next number to examine."
      ]
    },
    {
      "cell_type": "code",
      "metadata": {
        "id": "5oqBcutqHu-R",
        "colab": {
          "base_uri": "https://localhost:8080/"
        },
        "outputId": "3c0483ca-e00c-471c-9afa-937b40662882"
      },
      "source": [
        "print(7716%16)\n",
        "floor(7716/16)"
      ],
      "execution_count": null,
      "outputs": [
        {
          "output_type": "stream",
          "name": "stdout",
          "text": [
            "4\n"
          ]
        },
        {
          "output_type": "execute_result",
          "data": {
            "text/plain": [
              "482"
            ]
          },
          "metadata": {},
          "execution_count": 20
        }
      ]
    },
    {
      "cell_type": "markdown",
      "metadata": {
        "id": "xnWfzas8IOBh"
      },
      "source": [
        "40 thus far but another few steps is required."
      ]
    },
    {
      "cell_type": "code",
      "metadata": {
        "id": "rlczad_4IMkh",
        "colab": {
          "base_uri": "https://localhost:8080/"
        },
        "outputId": "d6b0eafd-c8ab-49af-aa20-6156b1d509de"
      },
      "source": [
        "print(482%16)\n",
        "floor(482/16)"
      ],
      "execution_count": null,
      "outputs": [
        {
          "output_type": "stream",
          "name": "stdout",
          "text": [
            "2\n"
          ]
        },
        {
          "output_type": "execute_result",
          "data": {
            "text/plain": [
              "30"
            ]
          },
          "metadata": {},
          "execution_count": 21
        }
      ]
    },
    {
      "cell_type": "code",
      "metadata": {
        "id": "StROzXRVIZoY",
        "colab": {
          "base_uri": "https://localhost:8080/"
        },
        "outputId": "8e5b9e50-f31b-4c82-94fc-0420b444cdad"
      },
      "source": [
        "print(30%16)\n",
        "floor(30/16)"
      ],
      "execution_count": null,
      "outputs": [
        {
          "output_type": "stream",
          "name": "stdout",
          "text": [
            "14\n"
          ]
        },
        {
          "output_type": "execute_result",
          "data": {
            "text/plain": [
              "1"
            ]
          },
          "metadata": {},
          "execution_count": 22
        }
      ]
    },
    {
      "cell_type": "markdown",
      "metadata": {
        "id": "I83x3W5rIewO"
      },
      "source": [
        "Here is the interesting one, a is 10, b is 11, c is 12, d is 13, so 14 is e and 15 is f.\n",
        "\n",
        "Thus I am done.  My number is \n",
        "$$\n",
        "1e240\n",
        "$$\n",
        "\n",
        "We better check..."
      ]
    },
    {
      "cell_type": "code",
      "metadata": {
        "id": "uKWT1q1YIdim",
        "colab": {
          "base_uri": "https://localhost:8080/"
        },
        "outputId": "d5c1c74a-5f18-4dd2-8cfe-f48c653d8e34"
      },
      "source": [
        "0*16**0+4*16**1+2*16**2+14*16**3+1*16**4"
      ],
      "execution_count": null,
      "outputs": [
        {
          "output_type": "execute_result",
          "data": {
            "text/plain": [
              "123456"
            ]
          },
          "metadata": {},
          "execution_count": 23
        }
      ]
    },
    {
      "cell_type": "markdown",
      "metadata": {
        "id": "WOswaw5FJGzt"
      },
      "source": [
        "Of course there are builtin ways to do this..."
      ]
    },
    {
      "cell_type": "code",
      "metadata": {
        "id": "8Hc_kC-GJE62",
        "colab": {
          "base_uri": "https://localhost:8080/",
          "height": 36
        },
        "outputId": "6f998e2c-3a79-4a6d-acbc-f5fb7155102e"
      },
      "source": [
        "hex(123456)"
      ],
      "execution_count": null,
      "outputs": [
        {
          "output_type": "execute_result",
          "data": {
            "application/vnd.google.colaboratory.intrinsic+json": {
              "type": "string"
            },
            "text/plain": [
              "'0x1e240'"
            ]
          },
          "metadata": {},
          "execution_count": 24
        }
      ]
    },
    {
      "cell_type": "markdown",
      "metadata": {
        "id": "lD7110YuJM98"
      },
      "source": [
        "In python (an other languages too) '0x' out front is going to tell us this is hex.  `int` will take the hex back to decimal."
      ]
    },
    {
      "cell_type": "code",
      "metadata": {
        "id": "8tq3u2PnJLae",
        "colab": {
          "base_uri": "https://localhost:8080/"
        },
        "outputId": "a7279a58-ad5c-4ab5-fe52-b22d24777cb3"
      },
      "source": [
        "int('0x1e240',16)"
      ],
      "execution_count": null,
      "outputs": [
        {
          "output_type": "execute_result",
          "data": {
            "text/plain": [
              "123456"
            ]
          },
          "metadata": {},
          "execution_count": 25
        }
      ]
    },
    {
      "cell_type": "markdown",
      "metadata": {
        "id": "ZbbPy3QmJlV7"
      },
      "source": [
        "It might be a good exercise to think about what it would take to program a hex converter in either direction."
      ]
    },
    {
      "cell_type": "markdown",
      "metadata": {
        "id": "MQm9KV7xJ14U"
      },
      "source": [
        "I'll note that there is not a two's complement built in!"
      ]
    },
    {
      "cell_type": "code",
      "metadata": {
        "id": "yPer6l_LJb2U",
        "colab": {
          "base_uri": "https://localhost:8080/"
        },
        "outputId": "4b76838e-5a63-4f70-8a4a-c67af9f71c41"
      },
      "source": [
        "int('0b11111111',2)"
      ],
      "execution_count": null,
      "outputs": [
        {
          "output_type": "execute_result",
          "data": {
            "text/plain": [
              "255"
            ]
          },
          "metadata": {},
          "execution_count": 27
        }
      ]
    },
    {
      "cell_type": "code",
      "metadata": {
        "id": "R5iyOM7HKB5r",
        "colab": {
          "base_uri": "https://localhost:8080/"
        },
        "outputId": "58360318-d28d-4437-ea39-77601a373a92"
      },
      "source": [
        "int('11111111',2)"
      ],
      "execution_count": null,
      "outputs": [
        {
          "output_type": "execute_result",
          "data": {
            "text/plain": [
              "255"
            ]
          },
          "metadata": {},
          "execution_count": 30
        }
      ]
    },
    {
      "cell_type": "markdown",
      "metadata": {
        "id": "PvzhERNM-Nur"
      },
      "source": [
        "To preform a binary computation, I'll first explore what python does with binary numbers."
      ]
    },
    {
      "cell_type": "code",
      "metadata": {
        "id": "L_s6XtCjNQPm",
        "outputId": "b1aee82d-8ebd-4c85-8b9b-e471d9082e89",
        "colab": {
          "base_uri": "https://localhost:8080/",
          "height": 36
        }
      },
      "source": [
        "bin42 = bin(42)\n",
        "bin97 = bin(97)\n",
        "\n",
        "bin42"
      ],
      "execution_count": 7,
      "outputs": [
        {
          "output_type": "execute_result",
          "data": {
            "application/vnd.google.colaboratory.intrinsic+json": {
              "type": "string"
            },
            "text/plain": [
              "'0b101010'"
            ]
          },
          "metadata": {},
          "execution_count": 7
        }
      ]
    },
    {
      "cell_type": "code",
      "metadata": {
        "id": "iepzlND--pdl",
        "outputId": "6c0c1ef1-1583-4b21-ffb5-368c6682e501",
        "colab": {
          "base_uri": "https://localhost:8080/",
          "height": 175
        }
      },
      "source": [
        "bin42 - bin97"
      ],
      "execution_count": 9,
      "outputs": [
        {
          "output_type": "error",
          "ename": "TypeError",
          "evalue": "ignored",
          "traceback": [
            "\u001b[0;31m---------------------------------------------------------------------------\u001b[0m",
            "\u001b[0;31mTypeError\u001b[0m                                 Traceback (most recent call last)",
            "\u001b[0;32m<ipython-input-9-6b3c8082a84b>\u001b[0m in \u001b[0;36m<module>\u001b[0;34m()\u001b[0m\n\u001b[0;32m----> 1\u001b[0;31m \u001b[0mbin42\u001b[0m \u001b[0;34m-\u001b[0m \u001b[0mbin97\u001b[0m\u001b[0;34m\u001b[0m\u001b[0;34m\u001b[0m\u001b[0m\n\u001b[0m",
            "\u001b[0;31mTypeError\u001b[0m: unsupported operand type(s) for -: 'str' and 'str'"
          ]
        }
      ]
    },
    {
      "cell_type": "markdown",
      "metadata": {
        "id": "oAC4np4a_2Ho"
      },
      "source": [
        "I get an error when I just try to subtract!  Essentially python has interpreted the binary numbers as strings! "
      ]
    },
    {
      "cell_type": "code",
      "metadata": {
        "id": "IkVYxLl5_n45",
        "outputId": "a7a921e2-79c5-47bc-fd31-dcb3c32c8c1d",
        "colab": {
          "base_uri": "https://localhost:8080/",
          "height": 36
        }
      },
      "source": [
        "bin42 + bin97"
      ],
      "execution_count": 10,
      "outputs": [
        {
          "output_type": "execute_result",
          "data": {
            "application/vnd.google.colaboratory.intrinsic+json": {
              "type": "string"
            },
            "text/plain": [
              "'0b1010100b1100001'"
            ]
          },
          "metadata": {},
          "execution_count": 10
        }
      ]
    },
    {
      "cell_type": "markdown",
      "metadata": {
        "id": "RrHBKQ57ARwo"
      },
      "source": [
        "I could add but does that make any sense?  What happens with negative numbers?\n"
      ]
    },
    {
      "cell_type": "code",
      "metadata": {
        "id": "07pY9KHSAQEC",
        "outputId": "375fcd0e-f551-4808-cd08-47e69257e028",
        "colab": {
          "base_uri": "https://localhost:8080/",
          "height": 36
        }
      },
      "source": [
        "bin(-27)"
      ],
      "execution_count": 11,
      "outputs": [
        {
          "output_type": "execute_result",
          "data": {
            "application/vnd.google.colaboratory.intrinsic+json": {
              "type": "string"
            },
            "text/plain": [
              "'-0b11011'"
            ]
          },
          "metadata": {},
          "execution_count": 11
        }
      ]
    },
    {
      "cell_type": "markdown",
      "metadata": {
        "id": "jw4TDoqsAdng"
      },
      "source": [
        "Python built-in `bin` is not doing two's complement!"
      ]
    },
    {
      "cell_type": "markdown",
      "metadata": {
        "id": "stHq6-2HAnP_"
      },
      "source": [
        "Let's write a little code!  First I'll write a binary converter"
      ]
    },
    {
      "cell_type": "code",
      "metadata": {
        "id": "_CKpN7REAa43",
        "outputId": "096a04f2-3fc2-4aee-e46b-fef2c705f5f2",
        "colab": {
          "base_uri": "https://localhost:8080/",
          "height": 36
        }
      },
      "source": [
        "def binaryconvertor(x):\n",
        "  ans = ''\n",
        "  while x != 0:\n",
        "    ans = str(x%2) + ans\n",
        "    x = floor(x/2)\n",
        "  return ans\n",
        "binaryconvertor(27)"
      ],
      "execution_count": 29,
      "outputs": [
        {
          "output_type": "execute_result",
          "data": {
            "application/vnd.google.colaboratory.intrinsic+json": {
              "type": "string"
            },
            "text/plain": [
              "'11011'"
            ]
          },
          "metadata": {},
          "execution_count": 29
        }
      ]
    },
    {
      "cell_type": "markdown",
      "metadata": {
        "id": "6lVoIBjCCSB8"
      },
      "source": [
        "Seems like it works for a positive, what happens if I feed it a negative?"
      ]
    },
    {
      "cell_type": "code",
      "metadata": {
        "id": "DQTymyvGBkxD",
        "outputId": "fd375afb-a692-43ef-a897-c726b18143c1",
        "colab": {
          "base_uri": "https://localhost:8080/",
          "height": 306
        }
      },
      "source": [
        "binaryconvertor(-27)"
      ],
      "execution_count": 30,
      "outputs": [
        {
          "output_type": "error",
          "ename": "KeyboardInterrupt",
          "evalue": "ignored",
          "traceback": [
            "\u001b[0;31m---------------------------------------------------------------------------\u001b[0m",
            "\u001b[0;31mKeyboardInterrupt\u001b[0m                         Traceback (most recent call last)",
            "\u001b[0;32m<ipython-input-30-305d6bff6d25>\u001b[0m in \u001b[0;36m<module>\u001b[0;34m()\u001b[0m\n\u001b[0;32m----> 1\u001b[0;31m \u001b[0mbinaryconvertor\u001b[0m\u001b[0;34m(\u001b[0m\u001b[0;34m-\u001b[0m\u001b[0;36m27\u001b[0m\u001b[0;34m)\u001b[0m\u001b[0;34m\u001b[0m\u001b[0;34m\u001b[0m\u001b[0m\n\u001b[0m",
            "\u001b[0;32m<ipython-input-29-6a64ed1ec0f2>\u001b[0m in \u001b[0;36mbinaryconvertor\u001b[0;34m(x)\u001b[0m\n\u001b[1;32m      2\u001b[0m   \u001b[0mans\u001b[0m \u001b[0;34m=\u001b[0m \u001b[0;34m''\u001b[0m\u001b[0;34m\u001b[0m\u001b[0;34m\u001b[0m\u001b[0m\n\u001b[1;32m      3\u001b[0m   \u001b[0;32mwhile\u001b[0m \u001b[0mx\u001b[0m \u001b[0;34m!=\u001b[0m \u001b[0;36m0\u001b[0m\u001b[0;34m:\u001b[0m\u001b[0;34m\u001b[0m\u001b[0;34m\u001b[0m\u001b[0m\n\u001b[0;32m----> 4\u001b[0;31m     \u001b[0mans\u001b[0m \u001b[0;34m=\u001b[0m \u001b[0mstr\u001b[0m\u001b[0;34m(\u001b[0m\u001b[0mx\u001b[0m\u001b[0;34m%\u001b[0m\u001b[0;36m2\u001b[0m\u001b[0;34m)\u001b[0m \u001b[0;34m+\u001b[0m \u001b[0mans\u001b[0m\u001b[0;34m\u001b[0m\u001b[0;34m\u001b[0m\u001b[0m\n\u001b[0m\u001b[1;32m      5\u001b[0m     \u001b[0mx\u001b[0m \u001b[0;34m=\u001b[0m \u001b[0mfloor\u001b[0m\u001b[0;34m(\u001b[0m\u001b[0mx\u001b[0m\u001b[0;34m/\u001b[0m\u001b[0;36m2\u001b[0m\u001b[0;34m)\u001b[0m\u001b[0;34m\u001b[0m\u001b[0;34m\u001b[0m\u001b[0m\n\u001b[1;32m      6\u001b[0m   \u001b[0;32mreturn\u001b[0m \u001b[0mans\u001b[0m\u001b[0;34m\u001b[0m\u001b[0;34m\u001b[0m\u001b[0m\n",
            "\u001b[0;31mKeyboardInterrupt\u001b[0m: "
          ]
        }
      ]
    },
    {
      "cell_type": "markdown",
      "metadata": {
        "id": "xOo1lejQCc3w"
      },
      "source": [
        "That `while` loop is infinte!"
      ]
    },
    {
      "cell_type": "markdown",
      "metadata": {
        "id": "1tUK0b2zCimW"
      },
      "source": [
        "To deal with negatives, I'll add a little checker!"
      ]
    },
    {
      "cell_type": "code",
      "metadata": {
        "id": "aGDmz4cSBsiy",
        "outputId": "7d3e8d60-4b31-42d3-cbe4-cf22cf9b578b",
        "colab": {
          "base_uri": "https://localhost:8080/",
          "height": 36
        }
      },
      "source": [
        "def binaryconvertor(x):\n",
        "  ans = ''\n",
        "  if x<0:\n",
        "    x = abs(x)\n",
        "    ans = 'neg'\n",
        "  while x != 0:\n",
        "    ans = str(x%2) + ans\n",
        "    x = floor(x/2)\n",
        "  return ans\n",
        "binaryconvertor(-27)"
      ],
      "execution_count": 33,
      "outputs": [
        {
          "output_type": "execute_result",
          "data": {
            "application/vnd.google.colaboratory.intrinsic+json": {
              "type": "string"
            },
            "text/plain": [
              "'11011neg'"
            ]
          },
          "metadata": {},
          "execution_count": 33
        }
      ]
    },
    {
      "cell_type": "markdown",
      "metadata": {
        "id": "tkJPvGiuDLO1"
      },
      "source": [
        "Not exactly the most elegant solution but it will deal with negatives and tell you they are such!  To get 2's complement to work we'll need to do a few more things!\n",
        "\n",
        "First two's complement requires that you add one to the number after you have converted.  I create a small program to do that on a list below."
      ]
    },
    {
      "cell_type": "code",
      "metadata": {
        "id": "qqSppiQPHDqL",
        "outputId": "13f8f11c-2de3-4443-b7ef-5b63e968079f",
        "colab": {
          "base_uri": "https://localhost:8080/"
        }
      },
      "source": [
        "def addone(list7binary):\n",
        "  counter = 7\n",
        "  list7binary[counter] = str(1 + int(list7binary[counter]))\n",
        "  while list7binary[counter]=='2':\n",
        "    list7binary[counter] = '0'\n",
        "    counter -= 1\n",
        "    list7binary[counter] = str(1 + int(list7binary[counter]))\n",
        "  return list7binary\n",
        "\n",
        "addone(['0','1','1','1','1','1','1','1'])"
      ],
      "execution_count": 45,
      "outputs": [
        {
          "output_type": "execute_result",
          "data": {
            "text/plain": [
              "['1', '0', '0', '0', '0', '0', '0', '0']"
            ]
          },
          "metadata": {},
          "execution_count": 45
        }
      ]
    },
    {
      "cell_type": "markdown",
      "metadata": {
        "id": "V9aJQWHZJuGT"
      },
      "source": [
        "I am ready for a two's complement now but I had to do some weird tricks like use lists instead of strings.  I think this works for all integers!"
      ]
    },
    {
      "cell_type": "code",
      "metadata": {
        "id": "QTUf4L_JCBVL"
      },
      "source": [
        "def twoscomplement(x):\n",
        "  if not (x>-128)&(x<127):\n",
        "    return \"No Two's Complement\"\n",
        "  ans = '00000000'\n",
        "  ans = list(ans) #strings don't allow you to change them in place (immutable) but lists can be!\n",
        "  counter = 7\n",
        "  if x>=0:\n",
        "    while x != 0:\n",
        "      ans[counter] = str(x%2)\n",
        "      x = floor(x/2)\n",
        "      counter -= 1\n",
        "  if x<0:\n",
        "    x = abs(x)\n",
        "    while x != 0:\n",
        "      ans[counter] = str(x%2)\n",
        "      x = floor(x/2)\n",
        "      counter -= 1\n",
        "    ans[0] = '1'\n",
        "    addone(ans)        \n",
        "  ans = ''.join(ans)\n",
        "  return ans\n",
        "\n",
        "    "
      ],
      "execution_count": 46,
      "outputs": []
    },
    {
      "cell_type": "code",
      "metadata": {
        "id": "J8iE2Do4CC5Y",
        "outputId": "7be7e81e-5c8a-4694-e7e3-8367ac3c6aea",
        "colab": {
          "base_uri": "https://localhost:8080/",
          "height": 36
        }
      },
      "source": [
        "twoscomplement(-27)"
      ],
      "execution_count": 47,
      "outputs": [
        {
          "output_type": "execute_result",
          "data": {
            "application/vnd.google.colaboratory.intrinsic+json": {
              "type": "string"
            },
            "text/plain": [
              "'10011100'"
            ]
          },
          "metadata": {},
          "execution_count": 47
        }
      ]
    },
    {
      "cell_type": "markdown",
      "metadata": {
        "id": "wP6p0INAImx3"
      },
      "source": [
        "Okay here's the deal, this is not what I am asking you to do!  I want you to do this with the aide of python not completely in python!  I recognize this was hard, it took me lots of lines of coding to get it done!  You may not use this code as your solution!  You can use it to help and check your answer but you should honestly just do these by hand using python to help, much like the way I did hexidecimal above!"
      ]
    },
    {
      "cell_type": "code",
      "metadata": {
        "id": "ebrLYq80FCz1"
      },
      "source": [
        ""
      ],
      "execution_count": null,
      "outputs": []
    }
  ]
}