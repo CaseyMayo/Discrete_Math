{
  "nbformat": 4,
  "nbformat_minor": 0,
  "metadata": {
    "colab": {
      "name": "Untitled45.ipynb",
      "provenance": [],
      "collapsed_sections": [],
      "authorship_tag": "ABX9TyPU0WsGZdhNmYDNAFGP/3HF",
      "include_colab_link": true
    },
    "kernelspec": {
      "name": "python3",
      "display_name": "Python 3"
    },
    "language_info": {
      "name": "python"
    }
  },
  "cells": [
    {
      "cell_type": "markdown",
      "metadata": {
        "id": "view-in-github",
        "colab_type": "text"
      },
      "source": [
        "<a href=\"https://colab.research.google.com/github/nurfnick/Discrete_Math/blob/master/Counting.ipynb\" target=\"_parent\"><img src=\"https://colab.research.google.com/assets/colab-badge.svg\" alt=\"Open In Colab\"/></a>"
      ]
    },
    {
      "cell_type": "code",
      "metadata": {
        "colab": {
          "base_uri": "https://localhost:8080/"
        },
        "id": "K0AFMSjVcj4G",
        "outputId": "5a702e3a-9388-43ab-f406-cb27a86e4254"
      },
      "source": [
        "from math import factorial\n",
        "\n",
        "factorial(52)"
      ],
      "execution_count": 1,
      "outputs": [
        {
          "output_type": "execute_result",
          "data": {
            "text/plain": [
              "80658175170943878571660636856403766975289505440883277824000000000000"
            ]
          },
          "metadata": {},
          "execution_count": 1
        }
      ]
    },
    {
      "cell_type": "code",
      "metadata": {
        "colab": {
          "base_uri": "https://localhost:8080/"
        },
        "id": "hxArsJJ1cobK",
        "outputId": "544d8782-d742-4f32-cf63-d334ad3e6955"
      },
      "source": [
        "for i in range(20):\n",
        "  print(factorial(i))"
      ],
      "execution_count": 2,
      "outputs": [
        {
          "output_type": "stream",
          "name": "stdout",
          "text": [
            "1\n",
            "1\n",
            "2\n",
            "6\n",
            "24\n",
            "120\n",
            "720\n",
            "5040\n",
            "40320\n",
            "362880\n",
            "3628800\n",
            "39916800\n",
            "479001600\n",
            "6227020800\n",
            "87178291200\n",
            "1307674368000\n",
            "20922789888000\n",
            "355687428096000\n",
            "6402373705728000\n",
            "121645100408832000\n"
          ]
        }
      ]
    },
    {
      "cell_type": "code",
      "metadata": {
        "colab": {
          "base_uri": "https://localhost:8080/"
        },
        "id": "Y8yAdSbpcx1I",
        "outputId": "53d1be3c-4468-49f3-9c85-a85dd915cb75"
      },
      "source": [
        "(factorial(26)/factorial(19))/26**7"
      ],
      "execution_count": 3,
      "outputs": [
        {
          "output_type": "execute_result",
          "data": {
            "text/plain": [
              "0.4127727034568801"
            ]
          },
          "metadata": {},
          "execution_count": 3
        }
      ]
    },
    {
      "cell_type": "code",
      "metadata": {
        "colab": {
          "base_uri": "https://localhost:8080/"
        },
        "id": "BX13IM13lfyH",
        "outputId": "2c8ad5ac-0da1-441f-a104-3445da38814f"
      },
      "source": [
        "factorial(130)/factorial(130-25)"
      ],
      "execution_count": 4,
      "outputs": [
        {
          "output_type": "execute_result",
          "data": {
            "text/plain": [
              "5.9800951315442277e+51"
            ]
          },
          "metadata": {},
          "execution_count": 4
        }
      ]
    },
    {
      "cell_type": "code",
      "metadata": {
        "colab": {
          "base_uri": "https://localhost:8080/"
        },
        "id": "As84RkyIucSo",
        "outputId": "d90fd862-e2c9-4a21-a9bf-00b52773033d"
      },
      "source": [
        "pip install crazypackage"
      ],
      "execution_count": 5,
      "outputs": [
        {
          "output_type": "stream",
          "name": "stdout",
          "text": [
            "\u001b[31mERROR: Could not find a version that satisfies the requirement crazypackage (from versions: none)\u001b[0m\n",
            "\u001b[31mERROR: No matching distribution found for crazypackage\u001b[0m\n"
          ]
        }
      ]
    },
    {
      "cell_type": "code",
      "metadata": {
        "id": "s0M15BfOmIt2",
        "colab": {
          "base_uri": "https://localhost:8080/"
        },
        "outputId": "5c1f2ed0-d52c-434b-ca27-2ab7503b4444"
      },
      "source": [
        "from itertools import permutations\n",
        "\n",
        "permutations([1,2,3])"
      ],
      "execution_count": 6,
      "outputs": [
        {
          "output_type": "execute_result",
          "data": {
            "text/plain": [
              "<itertools.permutations at 0x7f1104e9cf50>"
            ]
          },
          "metadata": {},
          "execution_count": 6
        }
      ]
    },
    {
      "cell_type": "code",
      "metadata": {
        "colab": {
          "base_uri": "https://localhost:8080/"
        },
        "id": "opFNqVWqtqu3",
        "outputId": "53628938-a388-4b1b-df38-fb2d07ac5193"
      },
      "source": [
        "# A Python program to print all\n",
        "# permutations using library function\n",
        "from itertools import permutations\n",
        " \n",
        "# Get all permutations of [1, 2, 3]\n",
        "perm = permutations([1, 2, 2],2)\n",
        " \n",
        "# Print the obtained permutations\n",
        "for i in list(perm):\n",
        "    print (i)"
      ],
      "execution_count": 7,
      "outputs": [
        {
          "output_type": "stream",
          "name": "stdout",
          "text": [
            "(1, 2)\n",
            "(1, 2)\n",
            "(2, 1)\n",
            "(2, 2)\n",
            "(2, 1)\n",
            "(2, 2)\n"
          ]
        }
      ]
    },
    {
      "cell_type": "code",
      "metadata": {
        "id": "6snwheK3vG4Z"
      },
      "source": [
        " fact = lambda x: factorial(x)"
      ],
      "execution_count": 8,
      "outputs": []
    },
    {
      "cell_type": "code",
      "metadata": {
        "colab": {
          "base_uri": "https://localhost:8080/"
        },
        "id": "iNFEHVypygcf",
        "outputId": "fed3067a-1b1f-4756-e0db-26c274d08be1"
      },
      "source": [
        "factorial(3)*factorial(4)*factorial(5)"
      ],
      "execution_count": 9,
      "outputs": [
        {
          "output_type": "execute_result",
          "data": {
            "text/plain": [
              "17280"
            ]
          },
          "metadata": {},
          "execution_count": 9
        }
      ]
    },
    {
      "cell_type": "code",
      "metadata": {
        "colab": {
          "base_uri": "https://localhost:8080/"
        },
        "id": "7EOQ5YfFymg-",
        "outputId": "3d748480-cc38-4ede-faf8-76e4e6b2a7c5"
      },
      "source": [
        "factorial(52)/(120*factorial(52-5))"
      ],
      "execution_count": 10,
      "outputs": [
        {
          "output_type": "execute_result",
          "data": {
            "text/plain": [
              "2598960.0"
            ]
          },
          "metadata": {},
          "execution_count": 10
        }
      ]
    },
    {
      "cell_type": "code",
      "metadata": {
        "id": "BUdcD4VQ4pOz"
      },
      "source": [
        "def combinations(n,r):\n",
        "  return fact(n)/(fact(r)*fact(n-r))"
      ],
      "execution_count": 11,
      "outputs": []
    },
    {
      "cell_type": "code",
      "metadata": {
        "colab": {
          "base_uri": "https://localhost:8080/"
        },
        "id": "8BZNht4jDj3i",
        "outputId": "5f4e385d-768b-4575-f805-f7477469c63d"
      },
      "source": [
        "combinations(26,5)-combinations(18,5)"
      ],
      "execution_count": 12,
      "outputs": [
        {
          "output_type": "execute_result",
          "data": {
            "text/plain": [
              "57212.0"
            ]
          },
          "metadata": {},
          "execution_count": 12
        }
      ]
    },
    {
      "cell_type": "code",
      "metadata": {
        "id": "PQaaY9iZDo0h"
      },
      "source": [
        "sum = 0\n",
        "\n",
        "for i in [1,2,3,4,5]:\n",
        "  sum += combinations(8,i)*combinations(18,5-i)"
      ],
      "execution_count": 13,
      "outputs": []
    },
    {
      "cell_type": "code",
      "metadata": {
        "colab": {
          "base_uri": "https://localhost:8080/"
        },
        "id": "SPPuF2fMEskx",
        "outputId": "536f7d55-c10c-4c84-b4e1-4951bf7a292f"
      },
      "source": [
        "sum"
      ],
      "execution_count": 14,
      "outputs": [
        {
          "output_type": "execute_result",
          "data": {
            "text/plain": [
              "57212.0"
            ]
          },
          "metadata": {},
          "execution_count": 14
        }
      ]
    },
    {
      "cell_type": "code",
      "metadata": {
        "colab": {
          "base_uri": "https://localhost:8080/"
        },
        "id": "ePA3RuQIEvQj",
        "outputId": "582d94d2-20b6-44cd-e669-07d602a08ffb"
      },
      "source": [
        "365**9"
      ],
      "execution_count": 15,
      "outputs": [
        {
          "output_type": "execute_result",
          "data": {
            "text/plain": [
              "114983567789585767578125"
            ]
          },
          "metadata": {},
          "execution_count": 15
        }
      ]
    },
    {
      "cell_type": "code",
      "metadata": {
        "colab": {
          "base_uri": "https://localhost:8080/"
        },
        "id": "UolvYDZYFQlC",
        "outputId": "642b1b55-ef57-41ad-d308-2fd1696f582d"
      },
      "source": [
        "combinations(365,9)"
      ],
      "execution_count": 16,
      "outputs": [
        {
          "output_type": "execute_result",
          "data": {
            "text/plain": [
              "2.8688101237621325e+17"
            ]
          },
          "metadata": {},
          "execution_count": 16
        }
      ]
    },
    {
      "cell_type": "code",
      "metadata": {
        "colab": {
          "base_uri": "https://localhost:8080/"
        },
        "id": "flFxoFR8FdzC",
        "outputId": "f76162f8-e85a-45d2-fd20-8691d9ddca51"
      },
      "source": [
        "(365**9-combinations(365,9))/365**9"
      ],
      "execution_count": 17,
      "outputs": [
        {
          "output_type": "execute_result",
          "data": {
            "text/plain": [
              "0.9999975050259974"
            ]
          },
          "metadata": {},
          "execution_count": 17
        }
      ]
    },
    {
      "cell_type": "code",
      "metadata": {
        "colab": {
          "base_uri": "https://localhost:8080/"
        },
        "id": "FUE4NQnaFiWC",
        "outputId": "8932bc61-142a-43f2-928d-5991318db39d"
      },
      "source": [
        "combinations(52,5)"
      ],
      "execution_count": 18,
      "outputs": [
        {
          "output_type": "execute_result",
          "data": {
            "text/plain": [
              "2598960.0"
            ]
          },
          "metadata": {},
          "execution_count": 18
        }
      ]
    },
    {
      "cell_type": "code",
      "metadata": {
        "id": "eSjMUR2mGW4j"
      },
      "source": [
        "def permutations(n,r):\n",
        "  return combinations(n,r)*fact(r)"
      ],
      "execution_count": 19,
      "outputs": []
    },
    {
      "cell_type": "code",
      "metadata": {
        "colab": {
          "base_uri": "https://localhost:8080/"
        },
        "id": "XDG7hsLZcQEN",
        "outputId": "7ef7d5e8-f1b9-4d65-f623-3faec1c6a7b4"
      },
      "source": [
        "(365**9-permutations(365,9))/365**9"
      ],
      "execution_count": 20,
      "outputs": [
        {
          "output_type": "execute_result",
          "data": {
            "text/plain": [
              "0.09462383388916669"
            ]
          },
          "metadata": {},
          "execution_count": 20
        }
      ]
    },
    {
      "cell_type": "code",
      "metadata": {
        "id": "R0zWeJMUcl9L"
      },
      "source": [
        "def noBirthdayProbability(numberOfPeople):\n",
        "  return (365**numberOfPeople-permutations(365,numberOfPeople))/365**numberOfPeople"
      ],
      "execution_count": 21,
      "outputs": []
    },
    {
      "cell_type": "code",
      "metadata": {
        "colab": {
          "base_uri": "https://localhost:8080/"
        },
        "id": "PWs9-WFndIpr",
        "outputId": "93b2685f-5d89-4b10-eaf7-a1f33150e2a5"
      },
      "source": [
        "noBirthdayProbability(47)"
      ],
      "execution_count": 22,
      "outputs": [
        {
          "output_type": "execute_result",
          "data": {
            "text/plain": [
              "0.9547744028332994"
            ]
          },
          "metadata": {},
          "execution_count": 22
        }
      ]
    },
    {
      "cell_type": "code",
      "metadata": {
        "colab": {
          "base_uri": "https://localhost:8080/"
        },
        "id": "3dLpcra6e7ra",
        "outputId": "af25b62c-483c-4b59-9754-1bc5ad1f61e4"
      },
      "source": [
        "combinations(50,6)*(-3)**46"
      ],
      "execution_count": 23,
      "outputs": [
        {
          "output_type": "execute_result",
          "data": {
            "text/plain": [
              "1.40838290777962e+29"
            ]
          },
          "metadata": {},
          "execution_count": 23
        }
      ]
    },
    {
      "cell_type": "code",
      "metadata": {
        "id": "-dBpaEuNgdpG",
        "colab": {
          "base_uri": "https://localhost:8080/"
        },
        "outputId": "0ca414b1-367a-43ae-e6fb-386ac6695ba9"
      },
      "source": [
        "permutations(17,9)"
      ],
      "execution_count": 24,
      "outputs": [
        {
          "output_type": "execute_result",
          "data": {
            "text/plain": [
              "8821612800.0"
            ]
          },
          "metadata": {},
          "execution_count": 24
        }
      ]
    },
    {
      "cell_type": "code",
      "metadata": {
        "colab": {
          "base_uri": "https://localhost:8080/"
        },
        "id": "-8iy226R806A",
        "outputId": "d6fa0c08-b7a8-4afc-fd65-e2d1dbf67946"
      },
      "source": [
        "9*162"
      ],
      "execution_count": 25,
      "outputs": [
        {
          "output_type": "execute_result",
          "data": {
            "text/plain": [
              "1458"
            ]
          },
          "metadata": {},
          "execution_count": 25
        }
      ]
    },
    {
      "cell_type": "code",
      "metadata": {
        "colab": {
          "base_uri": "https://localhost:8080/"
        },
        "id": "wPh6l9oW817g",
        "outputId": "6320b73e-58f8-4a91-8df8-f0d8f74fc6e4"
      },
      "source": [
        "permutations(17,9)/(9*162)"
      ],
      "execution_count": 26,
      "outputs": [
        {
          "output_type": "execute_result",
          "data": {
            "text/plain": [
              "6050488.888888889"
            ]
          },
          "metadata": {},
          "execution_count": 26
        }
      ]
    },
    {
      "cell_type": "code",
      "metadata": {
        "id": "BASwxS0g86ef"
      },
      "source": [
        ""
      ],
      "execution_count": null,
      "outputs": []
    }
  ]
}