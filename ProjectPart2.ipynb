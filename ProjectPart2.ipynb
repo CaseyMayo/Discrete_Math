{
  "nbformat": 4,
  "nbformat_minor": 0,
  "metadata": {
    "colab": {
      "name": "Untitled0.ipynb",
      "provenance": [],
      "include_colab_link": true
    },
    "kernelspec": {
      "name": "python3",
      "display_name": "Python 3"
    }
  },
  "cells": [
    {
      "cell_type": "markdown",
      "metadata": {
        "id": "view-in-github",
        "colab_type": "text"
      },
      "source": [
        "<a href=\"https://colab.research.google.com/github/nurfnick/Discrete_Math/blob/master/ProjectPart2.ipynb\" target=\"_parent\"><img src=\"https://colab.research.google.com/assets/colab-badge.svg\" alt=\"Open In Colab\"/></a>"
      ]
    },
    {
      "cell_type": "markdown",
      "metadata": {
        "id": "YCJaepmmfKrS"
      },
      "source": [
        "# Project Part # 2: CPSMA 3133 [Dr. Jacob's](https://github.com/nurfnick) Discrete Mathematics \n",
        "\n",
        "## Probability and Counting\n",
        "\n",
        "### Dr. Jacob's Incorrect Submission\n",
        "\n",
        "\n"
      ]
    },
    {
      "cell_type": "markdown",
      "metadata": {
        "id": "Xs_Pvtua1Nnt"
      },
      "source": [
        "## 1 Probability"
      ]
    },
    {
      "cell_type": "markdown",
      "metadata": {
        "id": "2z6U1aB_fQDM"
      },
      "source": [
        "I am going to do some craps!  I'll just program the comeout roll.  The probability of hitting a natural, $N$, is $\\frac29$, craps, $C$, is $\\frac 19$ and setting the point, $P$, is $\\frac23$."
      ]
    },
    {
      "cell_type": "code",
      "metadata": {
        "id": "rU_BgC_kfH7g",
        "outputId": "fdda2500-1d1b-4ad8-9ea4-d0c15b4f8085",
        "colab": {
          "base_uri": "https://localhost:8080/"
        }
      },
      "source": [
        " p =[2/9,1/9,2/3]\n",
        "\n",
        " sum(p) #everyone is positive and sum is 1\n",
        "\n"
      ],
      "execution_count": 1,
      "outputs": [
        {
          "output_type": "execute_result",
          "data": {
            "text/plain": [
              "1.0"
            ]
          },
          "metadata": {},
          "execution_count": 1
        }
      ]
    },
    {
      "cell_type": "code",
      "metadata": {
        "id": "RteoCGFJyL5Y",
        "outputId": "328b8fb2-09ba-45b1-bef0-438956bb4aa6",
        "colab": {
          "base_uri": "https://localhost:8080/"
        }
      },
      "source": [
        ""
      ],
      "execution_count": 10,
      "outputs": [
        {
          "output_type": "execute_result",
          "data": {
            "text/plain": [
              "[0.2222222222222222,\n",
              " 0.1111111111111111,\n",
              " 0.6666666666666666,\n",
              " 0.2222222222222222,\n",
              " 0.1111111111111111,\n",
              " 0.6666666666666666,\n",
              " 0.2222222222222222,\n",
              " 0.1111111111111111,\n",
              " 0.6666666666666666,\n",
              " 0.2222222222222222,\n",
              " 0.1111111111111111,\n",
              " 0.6666666666666666,\n",
              " 0.2222222222222222,\n",
              " 0.1111111111111111,\n",
              " 0.6666666666666666,\n",
              " 0.2222222222222222,\n",
              " 0.1111111111111111,\n",
              " 0.6666666666666666,\n",
              " 0.2222222222222222,\n",
              " 0.1111111111111111,\n",
              " 0.6666666666666666,\n",
              " 0.2222222222222222,\n",
              " 0.1111111111111111,\n",
              " 0.6666666666666666,\n",
              " 0.2222222222222222,\n",
              " 0.1111111111111111,\n",
              " 0.6666666666666666]"
            ]
          },
          "metadata": {},
          "execution_count": 10
        }
      ]
    },
    {
      "cell_type": "markdown",
      "metadata": {
        "id": "Iggon6VK1Vxo"
      },
      "source": [
        "A compound event is getting another roll after the comeout roll so that would be a natural or setting the point.  Let's call that roll again $R$"
      ]
    },
    {
      "cell_type": "code",
      "metadata": {
        "id": "kCHzuVw5vvJ6",
        "outputId": "81c34747-0402-40a8-856f-37490472542d",
        "colab": {
          "base_uri": "https://localhost:8080/"
        }
      },
      "source": [
        "ProbabilityR = 0\n",
        "\n",
        "for i in [0,2]:\n",
        "  ProbabilityR += p[i]\n",
        "\n",
        "ProbabilityR"
      ],
      "execution_count": 3,
      "outputs": [
        {
          "output_type": "execute_result",
          "data": {
            "text/plain": [
              "0.8888888888888888"
            ]
          },
          "metadata": {},
          "execution_count": 3
        }
      ]
    },
    {
      "cell_type": "markdown",
      "metadata": {
        "id": "-Xx3fefvwTx8"
      },
      "source": [
        "What is the probability of a natural given you get another roll\n",
        "\n",
        "$$\n",
        "P(N|R)=\\frac{P(N\\cap R)}{P(R)}\n",
        "$$"
      ]
    },
    {
      "cell_type": "code",
      "metadata": {
        "id": "fIWFh9RfwyO0",
        "outputId": "77216836-3c2d-46cf-abf5-4ef2f6a599a2",
        "colab": {
          "base_uri": "https://localhost:8080/"
        }
      },
      "source": [
        "2/9/ProbabilityR"
      ],
      "execution_count": 4,
      "outputs": [
        {
          "output_type": "execute_result",
          "data": {
            "text/plain": [
              "0.25"
            ]
          },
          "metadata": {},
          "execution_count": 4
        }
      ]
    },
    {
      "cell_type": "markdown",
      "metadata": {
        "id": "RY7HVZ2q0MYw"
      },
      "source": [
        "As for the probability of getting another roll given that you have a natural, we see that that is 100%.\n",
        "\n",
        "To apply Bayes' let's at least get the formula!\n",
        "\n",
        "$$\n",
        "P(N|R) = \\frac{P(N)P(R|N)}{P(R)}\n",
        "$$"
      ]
    },
    {
      "cell_type": "code",
      "metadata": {
        "id": "DzLdXQ9l1VwT",
        "outputId": "e7136c95-c872-4fd6-8dc0-46a72548b193",
        "colab": {
          "base_uri": "https://localhost:8080/"
        }
      },
      "source": [
        ".25 == (2/9 * 1)/ProbabilityR"
      ],
      "execution_count": 17,
      "outputs": [
        {
          "output_type": "execute_result",
          "data": {
            "text/plain": [
              "True"
            ]
          },
          "metadata": {},
          "execution_count": 17
        }
      ]
    },
    {
      "cell_type": "markdown",
      "metadata": {
        "id": "oZlnvFzUxAEh"
      },
      "source": [
        "Time for the hard part, simulation!  I need frequency counts not probabilities so I'll multiply every probabilty by 9"
      ]
    },
    {
      "cell_type": "code",
      "metadata": {
        "id": "rcLbKtBfzCTQ"
      },
      "source": [
        "p9 = [9*i for i in p]"
      ],
      "execution_count": 14,
      "outputs": []
    },
    {
      "cell_type": "code",
      "metadata": {
        "id": "sAueNdZczO3S",
        "outputId": "9bddb0e0-3102-4d8c-9623-3b1b8f31488a",
        "colab": {
          "base_uri": "https://localhost:8080/"
        }
      },
      "source": [
        "p9"
      ],
      "execution_count": 16,
      "outputs": [
        {
          "output_type": "execute_result",
          "data": {
            "text/plain": [
              "[2.0, 1.0, 6.0]"
            ]
          },
          "metadata": {},
          "execution_count": 16
        }
      ]
    },
    {
      "cell_type": "code",
      "metadata": {
        "id": "3014601TxgnX",
        "outputId": "bc736074-e4e3-4f59-f1d6-9660b4508db9",
        "colab": {
          "base_uri": "https://localhost:8080/"
        }
      },
      "source": [
        "from random import choices\n",
        "\n",
        "\n",
        "choices(['natural','craps','point'],p9,k=10)"
      ],
      "execution_count": 15,
      "outputs": [
        {
          "output_type": "execute_result",
          "data": {
            "text/plain": [
              "['point',\n",
              " 'point',\n",
              " 'point',\n",
              " 'point',\n",
              " 'point',\n",
              " 'point',\n",
              " 'point',\n",
              " 'point',\n",
              " 'point',\n",
              " 'point']"
            ]
          },
          "metadata": {},
          "execution_count": 15
        }
      ]
    },
    {
      "cell_type": "markdown",
      "metadata": {
        "id": "UKPjbjzCzeOS"
      },
      "source": [
        "Random is exactly that!  I got only setting the point!  That is fun!"
      ]
    },
    {
      "cell_type": "markdown",
      "metadata": {
        "id": "_7RoPTU_hXG1"
      },
      "source": [
        "## 2 Counting"
      ]
    },
    {
      "cell_type": "markdown",
      "metadata": {
        "id": "MMXFYCZ6hajg"
      },
      "source": [
        "There are three options in my sequence of ten so there are $3^{10}$ options! "
      ]
    },
    {
      "cell_type": "code",
      "metadata": {
        "id": "5U5T3Fld5X0S",
        "outputId": "779f27bd-9d28-4791-cec8-f498d4bdf497",
        "colab": {
          "base_uri": "https://localhost:8080/"
        }
      },
      "source": [
        "3**10"
      ],
      "execution_count": 18,
      "outputs": [
        {
          "output_type": "execute_result",
          "data": {
            "text/plain": [
              "59049"
            ]
          },
          "metadata": {},
          "execution_count": 18
        }
      ]
    },
    {
      "cell_type": "markdown",
      "metadata": {
        "id": "ImYyRFx919R5"
      },
      "source": [
        "If order didn't matter than you'd have to use the more complicated formula since there is replacement!  If there are $n$ objects and $k$ slots but order does not matter, the number of ways to do this is\n",
        "\n",
        "$$\n",
        "\\binom{n+k-1}k\n",
        "$$"
      ]
    },
    {
      "cell_type": "code",
      "metadata": {
        "id": "soDP2kUs14PV",
        "outputId": "6d055d84-98fc-4095-eeb5-8ba7b205d9ee",
        "colab": {
          "base_uri": "https://localhost:8080/"
        }
      },
      "source": [
        "import math\n",
        "\n",
        "math.factorial(12)/(math.factorial(10)*math.factorial(2))"
      ],
      "execution_count": 25,
      "outputs": [
        {
          "output_type": "execute_result",
          "data": {
            "text/plain": [
              "66.0"
            ]
          },
          "metadata": {},
          "execution_count": 25
        }
      ]
    },
    {
      "cell_type": "markdown",
      "metadata": {
        "id": "ESWM5QfO6s8O"
      },
      "source": [
        "That is a huge difference!\n",
        "\n",
        "I cannot do ten without replacement, actually I can only do three at the most...\n",
        "\n",
        "If order matters it is $3!$ and if not $\\binom33$."
      ]
    },
    {
      "cell_type": "code",
      "metadata": {
        "id": "8rU6K0XU2e9w",
        "outputId": "16f4cb0e-dedc-4712-efab-204877afbc89",
        "colab": {
          "base_uri": "https://localhost:8080/"
        }
      },
      "source": [
        "math.factorial(3)"
      ],
      "execution_count": 26,
      "outputs": [
        {
          "output_type": "execute_result",
          "data": {
            "text/plain": [
              "6"
            ]
          },
          "metadata": {},
          "execution_count": 26
        }
      ]
    },
    {
      "cell_type": "code",
      "metadata": {
        "id": "xX_OCLDv6d1k",
        "outputId": "2a98339f-f565-4ff8-96d3-b29a3709c970",
        "colab": {
          "base_uri": "https://localhost:8080/"
        }
      },
      "source": [
        "math.factorial(3)/(math.factorial(0)*math.factorial(3))"
      ],
      "execution_count": 27,
      "outputs": [
        {
          "output_type": "execute_result",
          "data": {
            "text/plain": [
              "1.0"
            ]
          },
          "metadata": {},
          "execution_count": 27
        }
      ]
    },
    {
      "cell_type": "markdown",
      "metadata": {
        "id": "23l2G0lW7tPZ"
      },
      "source": [
        "I'll leave the last question for y'all"
      ]
    },
    {
      "cell_type": "code",
      "metadata": {
        "id": "KgmgYzYL7mOr"
      },
      "source": [
        ""
      ],
      "execution_count": null,
      "outputs": []
    }
  ]
}