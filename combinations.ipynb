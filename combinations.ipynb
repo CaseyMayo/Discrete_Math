{
  "nbformat": 4,
  "nbformat_minor": 0,
  "metadata": {
    "colab": {
      "name": "Untitled3.ipynb",
      "provenance": [],
      "include_colab_link": true
    },
    "kernelspec": {
      "name": "python3",
      "display_name": "Python 3"
    }
  },
  "cells": [
    {
      "cell_type": "markdown",
      "metadata": {
        "id": "view-in-github",
        "colab_type": "text"
      },
      "source": [
        "<a href=\"https://colab.research.google.com/github/nurfnick/Discrete_Math/blob/master/combinations.ipynb\" target=\"_parent\"><img src=\"https://colab.research.google.com/assets/colab-badge.svg\" alt=\"Open In Colab\"/></a>"
      ]
    },
    {
      "cell_type": "markdown",
      "metadata": {
        "id": "7K8QzxPUzMd_"
      },
      "source": [
        "#Combinations and Permutations in Python"
      ]
    },
    {
      "cell_type": "code",
      "metadata": {
        "id": "D0fp-JUQodrs"
      },
      "source": [
        "import math"
      ],
      "execution_count": 1,
      "outputs": []
    },
    {
      "cell_type": "markdown",
      "metadata": {
        "id": "-N-YJA8dzWAL"
      },
      "source": [
        "To compute the number of permuations and combinations, I will use the math package."
      ]
    },
    {
      "cell_type": "code",
      "metadata": {
        "id": "-XAjxzJ6zL6o",
        "outputId": "eb5e87a2-5953-4082-bc2b-9ec3daf896c1",
        "colab": {
          "base_uri": "https://localhost:8080/",
          "height": 201
        }
      },
      "source": [
        "for i in range(10):\n",
        "  print(math.factorial(i))"
      ],
      "execution_count": 7,
      "outputs": [
        {
          "output_type": "stream",
          "text": [
            "1\n",
            "1\n",
            "2\n",
            "6\n",
            "24\n",
            "120\n",
            "720\n",
            "5040\n",
            "40320\n",
            "362880\n"
          ],
          "name": "stdout"
        }
      ]
    },
    {
      "cell_type": "code",
      "metadata": {
        "id": "4NhP3OmuowAR"
      },
      "source": [
        "def nCr(n,r):\n",
        "    f = math.factorial\n",
        "    return f(n) // f(r) // f(n-r)"
      ],
      "execution_count": 8,
      "outputs": []
    },
    {
      "cell_type": "code",
      "metadata": {
        "id": "f0zp4O7S0K65",
        "outputId": "5b7590d2-961e-4490-8a1f-c22eb31f58a5",
        "colab": {
          "base_uri": "https://localhost:8080/",
          "height": 35
        }
      },
      "source": [
        "nCr(10,1)"
      ],
      "execution_count": 9,
      "outputs": [
        {
          "output_type": "execute_result",
          "data": {
            "text/plain": [
              "10"
            ]
          },
          "metadata": {
            "tags": []
          },
          "execution_count": 9
        }
      ]
    },
    {
      "cell_type": "code",
      "metadata": {
        "id": "X67JfONJ0Msi"
      },
      "source": [
        "def nPr(n,r):\n",
        "    f = math.factorial\n",
        "    return f(n) // f(n-r)"
      ],
      "execution_count": 10,
      "outputs": []
    },
    {
      "cell_type": "code",
      "metadata": {
        "id": "gEvBFVVT0Rzb",
        "outputId": "d81da612-256f-4ffa-e33c-32d8171519b2",
        "colab": {
          "base_uri": "https://localhost:8080/",
          "height": 35
        }
      },
      "source": [
        "nPr(10,2)"
      ],
      "execution_count": 11,
      "outputs": [
        {
          "output_type": "execute_result",
          "data": {
            "text/plain": [
              "90"
            ]
          },
          "metadata": {
            "tags": []
          },
          "execution_count": 11
        }
      ]
    },
    {
      "cell_type": "markdown",
      "metadata": {
        "id": "rjqy6z7f1Tc7"
      },
      "source": [
        "For enumerating the combinations or permutations we will use yet another package."
      ]
    },
    {
      "cell_type": "code",
      "metadata": {
        "id": "M4LsjbdN0T8H",
        "outputId": "a3114cb2-2f45-4fda-c2db-8ec15f35aadc",
        "colab": {
          "base_uri": "https://localhost:8080/",
          "height": 182
        }
      },
      "source": [
        "import itertools  \n",
        "  \n",
        "# Get all permutations of [1, 2, 3] \n",
        "perm = itertools.permutations([1, 2, 3]) \n",
        "  \n",
        "# Print the obtained permutations \n",
        "for i in perm: \n",
        "    print(i) \n",
        "\n",
        "comb = itertools.combinations([1,2,3],2)\n",
        "\n",
        "for i in comb:\n",
        "  print(i)"
      ],
      "execution_count": 16,
      "outputs": [
        {
          "output_type": "stream",
          "text": [
            "(1, 2, 3)\n",
            "(1, 3, 2)\n",
            "(2, 1, 3)\n",
            "(2, 3, 1)\n",
            "(3, 1, 2)\n",
            "(3, 2, 1)\n",
            "(1, 2)\n",
            "(1, 3)\n",
            "(2, 3)\n"
          ],
          "name": "stdout"
        }
      ]
    }
  ]
}