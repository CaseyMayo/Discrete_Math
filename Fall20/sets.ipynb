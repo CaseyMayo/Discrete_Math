{
  "nbformat": 4,
  "nbformat_minor": 0,
  "metadata": {
    "colab": {
      "name": "Untitled3.ipynb",
      "provenance": [],
      "include_colab_link": true
    },
    "kernelspec": {
      "name": "python3",
      "display_name": "Python 3"
    }
  },
  "cells": [
    {
      "cell_type": "markdown",
      "metadata": {
        "id": "view-in-github",
        "colab_type": "text"
      },
      "source": [
        "<a href=\"https://colab.research.google.com/github/nurfnick/Discrete_Math/blob/master/Fall20/sets.ipynb\" target=\"_parent\"><img src=\"https://colab.research.google.com/assets/colab-badge.svg\" alt=\"Open In Colab\"/></a>"
      ]
    },
    {
      "cell_type": "code",
      "metadata": {
        "id": "D0fp-JUQodrs"
      },
      "source": [
        "import pandas as pa\n",
        "\n",
        "data = pa.read_csv('https://raw.githubusercontent.com/nurfnick/COVID_Travel/master/census_population.csv',encoding='latin-1')"
      ],
      "execution_count": 1,
      "outputs": []
    },
    {
      "cell_type": "code",
      "metadata": {
        "id": "4NhP3OmuowAR",
        "colab": {
          "base_uri": "https://localhost:8080/"
        },
        "outputId": "079af2b5-4421-4b19-8f9f-78309824fe8e"
      },
      "source": [
        "data['State']"
      ],
      "execution_count": 3,
      "outputs": [
        {
          "output_type": "execute_result",
          "data": {
            "text/plain": [
              "0           NaN\n",
              "1       Alabama\n",
              "2       Alabama\n",
              "3       Alabama\n",
              "4       Alabama\n",
              "         ...   \n",
              "3138    Wyoming\n",
              "3139    Wyoming\n",
              "3140    Wyoming\n",
              "3141    Wyoming\n",
              "3142    Wyoming\n",
              "Name: State, Length: 3143, dtype: object"
            ]
          },
          "metadata": {},
          "execution_count": 3
        }
      ]
    },
    {
      "cell_type": "markdown",
      "metadata": {
        "id": "xK-lMzlsMsc3"
      },
      "source": [
        "Let's try to make the States into a set.  I'll save it and then remove the nan (empty field) and get rid of the duplicates."
      ]
    },
    {
      "cell_type": "code",
      "metadata": {
        "id": "t-lR7oW6qFoC"
      },
      "source": [
        "states = pa.unique(data['State'])"
      ],
      "execution_count": 4,
      "outputs": []
    },
    {
      "cell_type": "code",
      "metadata": {
        "id": "DBTeAArjP1wd",
        "colab": {
          "base_uri": "https://localhost:8080/"
        },
        "outputId": "94cf66d4-df04-4aa9-c777-9dc63d12fefc"
      },
      "source": [
        "states"
      ],
      "execution_count": 5,
      "outputs": [
        {
          "output_type": "execute_result",
          "data": {
            "text/plain": [
              "array([nan, 'Alabama', 'Alaska', 'Arizona', 'Arkansas', 'California',\n",
              "       'Colorado', 'Connecticut', 'Delaware', 'District of Columbia',\n",
              "       'Florida', 'Georgia', 'Hawaii', 'Idaho', 'Illinois', 'Indiana',\n",
              "       'Iowa', 'Kansas', 'Kentucky', 'Louisiana', 'Maine', 'Maryland',\n",
              "       'Massachusetts', 'Michigan', 'Minnesota', 'Mississippi',\n",
              "       'Missouri', 'Montana', 'Nebraska', 'Nevada', 'New Hampshire',\n",
              "       'New Jersey', 'New Mexico', 'New York', 'North Carolina',\n",
              "       'North Dakota', 'Ohio', 'Oklahoma', 'Oregon', 'Pennsylvania',\n",
              "       'Rhode Island', 'South Carolina', 'South Dakota', 'Tennessee',\n",
              "       'Texas', 'Utah', 'Vermont', 'Virginia', 'Washington',\n",
              "       'West Virginia', 'Wisconsin', 'Wyoming'], dtype=object)"
            ]
          },
          "metadata": {},
          "execution_count": 5
        }
      ]
    },
    {
      "cell_type": "code",
      "metadata": {
        "id": "pb2sY9mey9wa",
        "outputId": "fc5e0e00-4264-42e6-b59c-1cee7f76b2bb",
        "colab": {
          "base_uri": "https://localhost:8080/"
        }
      },
      "source": [
        "len(states)"
      ],
      "execution_count": 13,
      "outputs": [
        {
          "output_type": "execute_result",
          "data": {
            "text/plain": [
              "50"
            ]
          },
          "metadata": {},
          "execution_count": 13
        }
      ]
    },
    {
      "cell_type": "code",
      "metadata": {
        "id": "BvGxnMe6qP88"
      },
      "source": [
        "states = states[~pa.isna(states)]"
      ],
      "execution_count": 7,
      "outputs": []
    },
    {
      "cell_type": "code",
      "metadata": {
        "id": "DB4mc2Uhqfts"
      },
      "source": [
        "states = states[states != \"District of Columbia\"]"
      ],
      "execution_count": 12,
      "outputs": []
    },
    {
      "cell_type": "markdown",
      "metadata": {
        "id": "Dh0L0iT9M-pn"
      },
      "source": [
        "So now I have a set of all states.  Not too shabby.  I want to do some more with it though but states are kind of boring.  I'll play with counties next.  I think Oklahoma and Mississippi have some shared counties."
      ]
    },
    {
      "cell_type": "code",
      "metadata": {
        "id": "EBBNawjBorek"
      },
      "source": [
        "okcounty = data[data['State']=='Oklahoma']['County']\n",
        "miscounty = data[data['State']=='Mississippi']['County']"
      ],
      "execution_count": 14,
      "outputs": []
    },
    {
      "cell_type": "code",
      "metadata": {
        "id": "KDon2E8hqr8l"
      },
      "source": [
        "okcounty = pa.unique(okcounty)\n",
        "miscounty = pa.unique(miscounty)"
      ],
      "execution_count": 15,
      "outputs": []
    },
    {
      "cell_type": "code",
      "metadata": {
        "id": "SIz7yzPvNSbH",
        "colab": {
          "base_uri": "https://localhost:8080/"
        },
        "outputId": "6f0c8dc4-a52e-4f8c-ab22-f60568902eb4"
      },
      "source": [
        "okcounty"
      ],
      "execution_count": 16,
      "outputs": [
        {
          "output_type": "execute_result",
          "data": {
            "text/plain": [
              "array(['Adair', 'Alfalfa', 'Atoka', 'Beaver', 'Beckham', 'Blaine',\n",
              "       'Bryan', 'Caddo', 'Canadian', 'Carter', 'Cherokee', 'Choctaw',\n",
              "       'Cimarron', 'Cleveland', 'Coal', 'Comanche', 'Cotton', 'Craig',\n",
              "       'Creek', 'Custer', 'Delaware', 'Dewey', 'Ellis', 'Garfield',\n",
              "       'Garvin', 'Grady', 'Grant', 'Greer', 'Harmon', 'Harper', 'Haskell',\n",
              "       'Hughes', 'Jackson', 'Jefferson', 'Johnston', 'Kay', 'Kingfisher',\n",
              "       'Kiowa', 'Latimer', 'Le Flore', 'Lincoln', 'Logan', 'Love',\n",
              "       'McClain', 'McCurtain', 'McIntosh', 'Major', 'Marshall', 'Mayes',\n",
              "       'Murray', 'Muskogee', 'Noble', 'Nowata', 'Okfuskee', 'Oklahoma',\n",
              "       'Okmulgee', 'Osage', 'Ottawa', 'Pawnee', 'Payne', 'Pittsburg',\n",
              "       'Pontotoc', 'Pottawatomie', 'Pushmataha', 'Roger Mills', 'Rogers',\n",
              "       'Seminole', 'Sequoyah', 'Stephens', 'Texas', 'Tillman', 'Tulsa',\n",
              "       'Wagoner', 'Washington', 'Washita', 'Woods', 'Woodward'],\n",
              "      dtype=object)"
            ]
          },
          "metadata": {},
          "execution_count": 16
        }
      ]
    },
    {
      "cell_type": "code",
      "metadata": {
        "id": "uTA4dF1eNggQ",
        "colab": {
          "base_uri": "https://localhost:8080/"
        },
        "outputId": "500c83c1-62e3-4329-8e86-db5be9a36ed9"
      },
      "source": [
        "miscounty"
      ],
      "execution_count": 17,
      "outputs": [
        {
          "output_type": "execute_result",
          "data": {
            "text/plain": [
              "array(['Adams', 'Alcorn', 'Amite', 'Attala', 'Benton', 'Bolivar',\n",
              "       'Calhoun', 'Carroll', 'Chickasaw', 'Choctaw', 'Claiborne',\n",
              "       'Clarke', 'Clay', 'Coahoma', 'Copiah', 'Covington', 'DeSoto',\n",
              "       'Forrest', 'Franklin', 'George', 'Greene', 'Grenada', 'Hancock',\n",
              "       'Harrison', 'Hinds', 'Holmes', 'Humphreys', 'Issaquena',\n",
              "       'Itawamba', 'Jackson', 'Jasper', 'Jefferson', 'Jefferson Davis',\n",
              "       'Jones', 'Kemper', 'Lafayette', 'Lamar', 'Lauderdale', 'Lawrence',\n",
              "       'Leake', 'Lee', 'Leflore', 'Lincoln', 'Lowndes', 'Madison',\n",
              "       'Marion', 'Marshall', 'Monroe', 'Montgomery', 'Neshoba', 'Newton',\n",
              "       'Noxubee', 'Oktibbeha', 'Panola', 'Pearl River', 'Perry', 'Pike',\n",
              "       'Pontotoc', 'Prentiss', 'Quitman', 'Rankin', 'Scott', 'Sharkey',\n",
              "       'Simpson', 'Smith', 'Stone', 'Sunflower', 'Tallahatchie', 'Tate',\n",
              "       'Tippah', 'Tishomingo', 'Tunica', 'Union', 'Walthall', 'Warren',\n",
              "       'Washington', 'Wayne', 'Webster', 'Wilkinson', 'Winston',\n",
              "       'Yalobusha', 'Yazoo'], dtype=object)"
            ]
          },
          "metadata": {},
          "execution_count": 17
        }
      ]
    },
    {
      "cell_type": "code",
      "metadata": {
        "id": "jjK6xpGSNyMg",
        "colab": {
          "base_uri": "https://localhost:8080/"
        },
        "outputId": "53790dbe-70fe-4d8b-88db-64463fb38e1d"
      },
      "source": [
        "intersection = []\n",
        "for ok in okcounty:\n",
        "  for mis in miscounty:\n",
        "    if ok == mis:\n",
        "      print(ok)\n",
        "      intersection.append(ok)"
      ],
      "execution_count": 18,
      "outputs": [
        {
          "output_type": "stream",
          "text": [
            "Choctaw\n",
            "Jackson\n",
            "Jefferson\n",
            "Lincoln\n",
            "Marshall\n",
            "Pontotoc\n",
            "Washington\n"
          ],
          "name": "stdout"
        }
      ]
    },
    {
      "cell_type": "code",
      "metadata": {
        "id": "aDbskwmPOH-P",
        "colab": {
          "base_uri": "https://localhost:8080/"
        },
        "outputId": "e6036c1f-615e-45f8-a772-8b845924715c"
      },
      "source": [
        "intersection"
      ],
      "execution_count": 19,
      "outputs": [
        {
          "output_type": "execute_result",
          "data": {
            "text/plain": [
              "['Choctaw',\n",
              " 'Jackson',\n",
              " 'Jefferson',\n",
              " 'Lincoln',\n",
              " 'Marshall',\n",
              " 'Pontotoc',\n",
              " 'Washington']"
            ]
          },
          "metadata": {},
          "execution_count": 19
        }
      ]
    },
    {
      "cell_type": "code",
      "metadata": {
        "id": "CD4d0ubLOeA-"
      },
      "source": [
        "union = []\n",
        "for ok in okcounty:\n",
        "  union.append(ok)\n",
        "for mis in miscounty:\n",
        "  union.append(mis)\n",
        "union = pa.unique(union)"
      ],
      "execution_count": 20,
      "outputs": []
    },
    {
      "cell_type": "code",
      "metadata": {
        "id": "sCMgFUzgRdDO",
        "colab": {
          "base_uri": "https://localhost:8080/"
        },
        "outputId": "039ae06f-ce59-4a42-f675-cf1f9d0e15e4"
      },
      "source": [
        "union"
      ],
      "execution_count": 21,
      "outputs": [
        {
          "output_type": "execute_result",
          "data": {
            "text/plain": [
              "array(['Adair', 'Alfalfa', 'Atoka', 'Beaver', 'Beckham', 'Blaine',\n",
              "       'Bryan', 'Caddo', 'Canadian', 'Carter', 'Cherokee', 'Choctaw',\n",
              "       'Cimarron', 'Cleveland', 'Coal', 'Comanche', 'Cotton', 'Craig',\n",
              "       'Creek', 'Custer', 'Delaware', 'Dewey', 'Ellis', 'Garfield',\n",
              "       'Garvin', 'Grady', 'Grant', 'Greer', 'Harmon', 'Harper', 'Haskell',\n",
              "       'Hughes', 'Jackson', 'Jefferson', 'Johnston', 'Kay', 'Kingfisher',\n",
              "       'Kiowa', 'Latimer', 'Le Flore', 'Lincoln', 'Logan', 'Love',\n",
              "       'McClain', 'McCurtain', 'McIntosh', 'Major', 'Marshall', 'Mayes',\n",
              "       'Murray', 'Muskogee', 'Noble', 'Nowata', 'Okfuskee', 'Oklahoma',\n",
              "       'Okmulgee', 'Osage', 'Ottawa', 'Pawnee', 'Payne', 'Pittsburg',\n",
              "       'Pontotoc', 'Pottawatomie', 'Pushmataha', 'Roger Mills', 'Rogers',\n",
              "       'Seminole', 'Sequoyah', 'Stephens', 'Texas', 'Tillman', 'Tulsa',\n",
              "       'Wagoner', 'Washington', 'Washita', 'Woods', 'Woodward', 'Adams',\n",
              "       'Alcorn', 'Amite', 'Attala', 'Benton', 'Bolivar', 'Calhoun',\n",
              "       'Carroll', 'Chickasaw', 'Claiborne', 'Clarke', 'Clay', 'Coahoma',\n",
              "       'Copiah', 'Covington', 'DeSoto', 'Forrest', 'Franklin', 'George',\n",
              "       'Greene', 'Grenada', 'Hancock', 'Harrison', 'Hinds', 'Holmes',\n",
              "       'Humphreys', 'Issaquena', 'Itawamba', 'Jasper', 'Jefferson Davis',\n",
              "       'Jones', 'Kemper', 'Lafayette', 'Lamar', 'Lauderdale', 'Lawrence',\n",
              "       'Leake', 'Lee', 'Leflore', 'Lowndes', 'Madison', 'Marion',\n",
              "       'Monroe', 'Montgomery', 'Neshoba', 'Newton', 'Noxubee',\n",
              "       'Oktibbeha', 'Panola', 'Pearl River', 'Perry', 'Pike', 'Prentiss',\n",
              "       'Quitman', 'Rankin', 'Scott', 'Sharkey', 'Simpson', 'Smith',\n",
              "       'Stone', 'Sunflower', 'Tallahatchie', 'Tate', 'Tippah',\n",
              "       'Tishomingo', 'Tunica', 'Union', 'Walthall', 'Warren', 'Wayne',\n",
              "       'Webster', 'Wilkinson', 'Winston', 'Yalobusha', 'Yazoo'],\n",
              "      dtype=object)"
            ]
          },
          "metadata": {},
          "execution_count": 21
        }
      ]
    },
    {
      "cell_type": "code",
      "metadata": {
        "id": "P8zEaFctKzMX"
      },
      "source": [
        "setdif =[]\n",
        "for ok in okcounty:\n",
        "  if ok not in intersection:\n",
        "    setdif.append(ok)"
      ],
      "execution_count": 22,
      "outputs": []
    },
    {
      "cell_type": "code",
      "metadata": {
        "id": "YY-qzC08SYC8",
        "colab": {
          "base_uri": "https://localhost:8080/"
        },
        "outputId": "eacf6dd9-592f-43d2-d2fa-84054fe899ff"
      },
      "source": [
        "setdif"
      ],
      "execution_count": 23,
      "outputs": [
        {
          "output_type": "execute_result",
          "data": {
            "text/plain": [
              "['Adair',\n",
              " 'Alfalfa',\n",
              " 'Atoka',\n",
              " 'Beaver',\n",
              " 'Beckham',\n",
              " 'Blaine',\n",
              " 'Bryan',\n",
              " 'Caddo',\n",
              " 'Canadian',\n",
              " 'Carter',\n",
              " 'Cherokee',\n",
              " 'Cimarron',\n",
              " 'Cleveland',\n",
              " 'Coal',\n",
              " 'Comanche',\n",
              " 'Cotton',\n",
              " 'Craig',\n",
              " 'Creek',\n",
              " 'Custer',\n",
              " 'Delaware',\n",
              " 'Dewey',\n",
              " 'Ellis',\n",
              " 'Garfield',\n",
              " 'Garvin',\n",
              " 'Grady',\n",
              " 'Grant',\n",
              " 'Greer',\n",
              " 'Harmon',\n",
              " 'Harper',\n",
              " 'Haskell',\n",
              " 'Hughes',\n",
              " 'Johnston',\n",
              " 'Kay',\n",
              " 'Kingfisher',\n",
              " 'Kiowa',\n",
              " 'Latimer',\n",
              " 'Le Flore',\n",
              " 'Logan',\n",
              " 'Love',\n",
              " 'McClain',\n",
              " 'McCurtain',\n",
              " 'McIntosh',\n",
              " 'Major',\n",
              " 'Mayes',\n",
              " 'Murray',\n",
              " 'Muskogee',\n",
              " 'Noble',\n",
              " 'Nowata',\n",
              " 'Okfuskee',\n",
              " 'Oklahoma',\n",
              " 'Okmulgee',\n",
              " 'Osage',\n",
              " 'Ottawa',\n",
              " 'Pawnee',\n",
              " 'Payne',\n",
              " 'Pittsburg',\n",
              " 'Pottawatomie',\n",
              " 'Pushmataha',\n",
              " 'Roger Mills',\n",
              " 'Rogers',\n",
              " 'Seminole',\n",
              " 'Sequoyah',\n",
              " 'Stephens',\n",
              " 'Texas',\n",
              " 'Tillman',\n",
              " 'Tulsa',\n",
              " 'Wagoner',\n",
              " 'Washita',\n",
              " 'Woods',\n",
              " 'Woodward']"
            ]
          },
          "metadata": {},
          "execution_count": 23
        }
      ]
    },
    {
      "cell_type": "code",
      "metadata": {
        "id": "jMj0V-Y0SZlV",
        "colab": {
          "base_uri": "https://localhost:8080/"
        },
        "outputId": "0f8bd0a8-bb67-4a5f-a3e8-1b826989f8c9"
      },
      "source": [
        "okcounty"
      ],
      "execution_count": 25,
      "outputs": [
        {
          "output_type": "execute_result",
          "data": {
            "text/plain": [
              "array(['Adair', 'Alfalfa', 'Atoka', 'Beaver', 'Beckham', 'Blaine',\n",
              "       'Bryan', 'Caddo', 'Canadian', 'Carter', 'Cherokee', 'Choctaw',\n",
              "       'Cimarron', 'Cleveland', 'Coal', 'Comanche', 'Cotton', 'Craig',\n",
              "       'Creek', 'Custer', 'Delaware', 'Dewey', 'Ellis', 'Garfield',\n",
              "       'Garvin', 'Grady', 'Grant', 'Greer', 'Harmon', 'Harper', 'Haskell',\n",
              "       'Hughes', 'Jackson', 'Jefferson', 'Johnston', 'Kay', 'Kingfisher',\n",
              "       'Kiowa', 'Latimer', 'Le Flore', 'Lincoln', 'Logan', 'Love',\n",
              "       'McClain', 'McCurtain', 'McIntosh', 'Major', 'Marshall', 'Mayes',\n",
              "       'Murray', 'Muskogee', 'Noble', 'Nowata', 'Okfuskee', 'Oklahoma',\n",
              "       'Okmulgee', 'Osage', 'Ottawa', 'Pawnee', 'Payne', 'Pittsburg',\n",
              "       'Pontotoc', 'Pottawatomie', 'Pushmataha', 'Roger Mills', 'Rogers',\n",
              "       'Seminole', 'Sequoyah', 'Stephens', 'Texas', 'Tillman', 'Tulsa',\n",
              "       'Wagoner', 'Washington', 'Washita', 'Woods', 'Woodward'],\n",
              "      dtype=object)"
            ]
          },
          "metadata": {},
          "execution_count": 25
        }
      ]
    },
    {
      "cell_type": "code",
      "metadata": {
        "id": "k2OcYcmm1dlv"
      },
      "source": [
        ""
      ],
      "execution_count": null,
      "outputs": []
    }
  ]
}