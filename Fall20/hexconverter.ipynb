{
  "nbformat": 4,
  "nbformat_minor": 0,
  "metadata": {
    "colab": {
      "name": "Untitled3.ipynb",
      "provenance": [],
      "include_colab_link": true
    },
    "kernelspec": {
      "name": "python3",
      "display_name": "Python 3"
    }
  },
  "cells": [
    {
      "cell_type": "markdown",
      "metadata": {
        "id": "view-in-github",
        "colab_type": "text"
      },
      "source": [
        "<a href=\"https://colab.research.google.com/github/nurfnick/Discrete_Math/blob/master/hexconverter.ipynb\" target=\"_parent\"><img src=\"https://colab.research.google.com/assets/colab-badge.svg\" alt=\"Open In Colab\"/></a>"
      ]
    },
    {
      "cell_type": "code",
      "metadata": {
        "id": "D0fp-JUQodrs",
        "outputId": "bc6fb03e-d565-4e49-e1c1-4f63771c65da",
        "colab": {
          "base_uri": "https://localhost:8080/",
          "height": 35
        }
      },
      "source": [
        "13564 % 16 #so a c"
      ],
      "execution_count": null,
      "outputs": [
        {
          "output_type": "execute_result",
          "data": {
            "text/plain": [
              "12"
            ]
          },
          "metadata": {
            "tags": []
          },
          "execution_count": 1
        }
      ]
    },
    {
      "cell_type": "code",
      "metadata": {
        "id": "Ef8rZerCnz5R",
        "outputId": "0c7b2fba-65b7-49aa-db04-de431ab4c1b7",
        "colab": {
          "base_uri": "https://localhost:8080/",
          "height": 35
        }
      },
      "source": [
        "import math\n",
        "math.floor(13564/16)"
      ],
      "execution_count": null,
      "outputs": [
        {
          "output_type": "execute_result",
          "data": {
            "text/plain": [
              "847"
            ]
          },
          "metadata": {
            "tags": []
          },
          "execution_count": 3
        }
      ]
    },
    {
      "cell_type": "code",
      "metadata": {
        "id": "3I6MFztvsGr0",
        "outputId": "2a45ec47-ba02-4806-f3bf-2482123d4562",
        "colab": {
          "base_uri": "https://localhost:8080/",
          "height": 35
        }
      },
      "source": [
        "847 % 16 #that is an f"
      ],
      "execution_count": null,
      "outputs": [
        {
          "output_type": "execute_result",
          "data": {
            "text/plain": [
              "15"
            ]
          },
          "metadata": {
            "tags": []
          },
          "execution_count": 17
        }
      ]
    },
    {
      "cell_type": "code",
      "metadata": {
        "id": "kAifDzglsQoD",
        "outputId": "51654316-fe8c-4d3d-b93d-5401d0c445a6",
        "colab": {
          "base_uri": "https://localhost:8080/",
          "height": 35
        }
      },
      "source": [
        "math.floor(847/16)"
      ],
      "execution_count": null,
      "outputs": [
        {
          "output_type": "execute_result",
          "data": {
            "text/plain": [
              "52"
            ]
          },
          "metadata": {
            "tags": []
          },
          "execution_count": 18
        }
      ]
    },
    {
      "cell_type": "code",
      "metadata": {
        "id": "NrtLXxS3sV_K",
        "outputId": "dbeeb8b2-242d-4dfd-805a-a0081b4be719",
        "colab": {
          "base_uri": "https://localhost:8080/",
          "height": 35
        }
      },
      "source": [
        "52 % 16 # just a 4"
      ],
      "execution_count": null,
      "outputs": [
        {
          "output_type": "execute_result",
          "data": {
            "text/plain": [
              "4"
            ]
          },
          "metadata": {
            "tags": []
          },
          "execution_count": 19
        }
      ]
    },
    {
      "cell_type": "code",
      "metadata": {
        "id": "xRyQTzgAsaWT",
        "outputId": "c6e6f018-fe33-4420-da30-3003a728c037",
        "colab": {
          "base_uri": "https://localhost:8080/",
          "height": 35
        }
      },
      "source": [
        "math.floor(52/16) #that is already in hex!"
      ],
      "execution_count": null,
      "outputs": [
        {
          "output_type": "execute_result",
          "data": {
            "text/plain": [
              "3"
            ]
          },
          "metadata": {
            "tags": []
          },
          "execution_count": 20
        }
      ]
    },
    {
      "cell_type": "markdown",
      "metadata": {
        "id": "ipBqPf9Msnr5"
      },
      "source": [
        "So my answer is 34fc.  Let's use a built in to check!"
      ]
    },
    {
      "cell_type": "code",
      "metadata": {
        "id": "qUPwgZ1In_tO",
        "outputId": "b1ef25b6-8d42-4401-b5ea-c6b63754bdb9",
        "colab": {
          "base_uri": "https://localhost:8080/",
          "height": 36
        }
      },
      "source": [
        "hex(13564)"
      ],
      "execution_count": null,
      "outputs": [
        {
          "output_type": "execute_result",
          "data": {
            "application/vnd.google.colaboratory.intrinsic+json": {
              "type": "string"
            },
            "text/plain": [
              "'0x34fc'"
            ]
          },
          "metadata": {
            "tags": []
          },
          "execution_count": 4
        }
      ]
    },
    {
      "cell_type": "markdown",
      "metadata": {
        "id": "oGcuCTYbsv-4"
      },
      "source": [
        "Now the fun begins!  Can we program it?"
      ]
    },
    {
      "cell_type": "code",
      "metadata": {
        "id": "B7P1waFjoGKl"
      },
      "source": [
        "def digitToHex(integerBetween0and15):\n",
        "  if integerBetween0and15 == 0:\n",
        "    return '0'\n",
        "  elif integerBetween0and15 == 1:\n",
        "    return '1'\n",
        "  elif integerBetween0and15 == 2:\n",
        "    return '2'\n",
        "  elif integerBetween0and15 == 3:\n",
        "    return '3'\n",
        "  elif integerBetween0and15 == 4:\n",
        "    return '4'\n",
        "  elif integerBetween0and15 == 5:\n",
        "    return '5'\n",
        "  elif integerBetween0and15 == 6:\n",
        "    return '6'\n",
        "  elif integerBetween0and15 == 7:\n",
        "    return '7'\n",
        "  elif integerBetween0and15 == 8:\n",
        "    return '8'\n",
        "  elif integerBetween0and15 == 9:\n",
        "    return '9'\n",
        "  elif integerBetween0and15 == 10:\n",
        "    return 'A'\n",
        "  elif integerBetween0and15 == 11:\n",
        "    return 'B'\n",
        "  elif integerBetween0and15 == 12:\n",
        "    return 'C'\n",
        "  elif integerBetween0and15 == 13:\n",
        "    return 'D'\n",
        "  elif integerBetween0and15 == 14:\n",
        "    return 'E'\n",
        "  elif integerBetween0and15 == 15:\n",
        "    return 'F'\n",
        "  else:\n",
        "    return 'Error'\n",
        "\n",
        "def digitToQuad(integerBetween0and4):\n",
        "  switch = {\n",
        "      0:'0',\n",
        "      1:'1',\n",
        "      2:'2',\n",
        "      3:'3'\n",
        "  }\n",
        "  return switch.get(integerBetween0and4,'Broken')"
      ],
      "execution_count": 6,
      "outputs": []
    },
    {
      "cell_type": "code",
      "metadata": {
        "id": "M3K_ruzVq949",
        "outputId": "88fce069-9684-4297-a6e6-2e78af053ebc",
        "colab": {
          "base_uri": "https://localhost:8080/",
          "height": 36
        }
      },
      "source": [
        "digitToQuad(0)+digitToQuad(7)+digitToQuad(3)"
      ],
      "execution_count": 9,
      "outputs": [
        {
          "output_type": "execute_result",
          "data": {
            "application/vnd.google.colaboratory.intrinsic+json": {
              "type": "string"
            },
            "text/plain": [
              "'0Broken3'"
            ]
          },
          "metadata": {
            "tags": []
          },
          "execution_count": 9
        }
      ]
    },
    {
      "cell_type": "code",
      "metadata": {
        "id": "46QftXdjrAMF"
      },
      "source": [
        "def convertToHex(x):\n",
        "  ans = ''\n",
        "  x = x\n",
        "  while x != 0:\n",
        "    ans = digitToHex(x % 16) + ans\n",
        "    x = math.floor(x/16)\n",
        "  return ans\n"
      ],
      "execution_count": null,
      "outputs": []
    },
    {
      "cell_type": "code",
      "metadata": {
        "id": "WGaFNC5QrpA_",
        "outputId": "5ee47c00-fc81-420d-ad7c-d88141d25a23",
        "colab": {
          "base_uri": "https://localhost:8080/",
          "height": 36
        }
      },
      "source": [
        "convertToHex(13564)"
      ],
      "execution_count": null,
      "outputs": [
        {
          "output_type": "execute_result",
          "data": {
            "application/vnd.google.colaboratory.intrinsic+json": {
              "type": "string"
            },
            "text/plain": [
              "'34FC'"
            ]
          },
          "metadata": {
            "tags": []
          },
          "execution_count": 16
        }
      ]
    },
    {
      "cell_type": "code",
      "metadata": {
        "id": "IfUf73oQr5Qn"
      },
      "source": [
        ""
      ],
      "execution_count": null,
      "outputs": []
    }
  ]
}
