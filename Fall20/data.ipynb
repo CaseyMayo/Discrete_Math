{
  "nbformat": 4,
  "nbformat_minor": 0,
  "metadata": {
    "colab": {
      "name": "Untitled3.ipynb",
      "provenance": [],
      "authorship_tag": "ABX9TyPpr/iJdTO9wsAYKpZCzgQY",
      "include_colab_link": true
    },
    "kernelspec": {
      "name": "python3",
      "display_name": "Python 3"
    }
  },
  "cells": [
    {
      "cell_type": "markdown",
      "metadata": {
        "id": "view-in-github",
        "colab_type": "text"
      },
      "source": [
        "<a href=\"https://colab.research.google.com/github/nurfnick/Discrete_Math/blob/master/data.ipynb\" target=\"_parent\"><img src=\"https://colab.research.google.com/assets/colab-badge.svg\" alt=\"Open In Colab\"/></a>"
      ]
    },
    {
      "cell_type": "code",
      "metadata": {
        "id": "D0fp-JUQodrs",
        "colab_type": "code",
        "colab": {}
      },
      "source": [
        "import pandas as pa\n",
        "\n",
        "data = pa.read_csv('https://raw.githubusercontent.com/nurfnick/COVID_Travel/master/census_population.csv',encoding='latin-1')"
      ],
      "execution_count": 1,
      "outputs": []
    },
    {
      "cell_type": "code",
      "metadata": {
        "id": "4NhP3OmuowAR",
        "colab_type": "code",
        "colab": {
          "base_uri": "https://localhost:8080/",
          "height": 237
        },
        "outputId": "5157f03e-3e1f-4a3d-be0a-768c6b11b901"
      },
      "source": [
        "data['State']"
      ],
      "execution_count": 2,
      "outputs": [
        {
          "output_type": "execute_result",
          "data": {
            "text/plain": [
              "0           NaN\n",
              "1       Alabama\n",
              "2       Alabama\n",
              "3       Alabama\n",
              "4       Alabama\n",
              "         ...   \n",
              "3138    Wyoming\n",
              "3139    Wyoming\n",
              "3140    Wyoming\n",
              "3141    Wyoming\n",
              "3142    Wyoming\n",
              "Name: State, Length: 3143, dtype: object"
            ]
          },
          "metadata": {
            "tags": []
          },
          "execution_count": 2
        }
      ]
    },
    {
      "cell_type": "markdown",
      "metadata": {
        "id": "xK-lMzlsMsc3",
        "colab_type": "text"
      },
      "source": [
        "Let's try to make the States into a set.  I'll save it and then remove the nan (empty field) and get rid of the duplicates."
      ]
    },
    {
      "cell_type": "code",
      "metadata": {
        "id": "t-lR7oW6qFoC",
        "colab_type": "code",
        "colab": {}
      },
      "source": [
        "states = pa.unique(data['State'])"
      ],
      "execution_count": 3,
      "outputs": []
    },
    {
      "cell_type": "code",
      "metadata": {
        "id": "BvGxnMe6qP88",
        "colab_type": "code",
        "colab": {}
      },
      "source": [
        "states = states[~pa.isna(states)]"
      ],
      "execution_count": 4,
      "outputs": []
    },
    {
      "cell_type": "code",
      "metadata": {
        "id": "DB4mc2Uhqfts",
        "colab_type": "code",
        "colab": {
          "base_uri": "https://localhost:8080/",
          "height": 219
        },
        "outputId": "3e6e7907-44c5-4cd6-909f-528c78f9991b"
      },
      "source": [
        "states"
      ],
      "execution_count": 5,
      "outputs": [
        {
          "output_type": "execute_result",
          "data": {
            "text/plain": [
              "array(['Alabama', 'Alaska', 'Arizona', 'Arkansas', 'California',\n",
              "       'Colorado', 'Connecticut', 'Delaware', 'District of Columbia',\n",
              "       'Florida', 'Georgia', 'Hawaii', 'Idaho', 'Illinois', 'Indiana',\n",
              "       'Iowa', 'Kansas', 'Kentucky', 'Louisiana', 'Maine', 'Maryland',\n",
              "       'Massachusetts', 'Michigan', 'Minnesota', 'Mississippi',\n",
              "       'Missouri', 'Montana', 'Nebraska', 'Nevada', 'New Hampshire',\n",
              "       'New Jersey', 'New Mexico', 'New York', 'North Carolina',\n",
              "       'North Dakota', 'Ohio', 'Oklahoma', 'Oregon', 'Pennsylvania',\n",
              "       'Rhode Island', 'South Carolina', 'South Dakota', 'Tennessee',\n",
              "       'Texas', 'Utah', 'Vermont', 'Virginia', 'Washington',\n",
              "       'West Virginia', 'Wisconsin', 'Wyoming'], dtype=object)"
            ]
          },
          "metadata": {
            "tags": []
          },
          "execution_count": 5
        }
      ]
    },
    {
      "cell_type": "markdown",
      "metadata": {
        "id": "Dh0L0iT9M-pn",
        "colab_type": "text"
      },
      "source": [
        "So now I have a set of all states.  Not too shabby.  I want to do some more with it though but states are kind of boring.  I'll play with counties next.  I think Oklahoma and Mississippi have some shared counties."
      ]
    },
    {
      "cell_type": "code",
      "metadata": {
        "id": "EBBNawjBorek",
        "colab_type": "code",
        "colab": {}
      },
      "source": [
        "okcounty = data[data['State']=='Oklahoma']['County']\n",
        "miscounty = data[data['State']=='Mississippi']['County']"
      ],
      "execution_count": 6,
      "outputs": []
    },
    {
      "cell_type": "code",
      "metadata": {
        "id": "KDon2E8hqr8l",
        "colab_type": "code",
        "colab": {}
      },
      "source": [
        "okcounty = pa.unique(okcounty)\n",
        "miscounty = pa.unique(miscounty)"
      ],
      "execution_count": 7,
      "outputs": []
    },
    {
      "cell_type": "code",
      "metadata": {
        "id": "SIz7yzPvNSbH",
        "colab_type": "code",
        "colab": {
          "base_uri": "https://localhost:8080/",
          "height": 274
        },
        "outputId": "03ea319b-f52a-484f-d1a7-948f1fe7a107"
      },
      "source": [
        "okcounty"
      ],
      "execution_count": 8,
      "outputs": [
        {
          "output_type": "execute_result",
          "data": {
            "text/plain": [
              "array(['Adair', 'Alfalfa', 'Atoka', 'Beaver', 'Beckham', 'Blaine',\n",
              "       'Bryan', 'Caddo', 'Canadian', 'Carter', 'Cherokee', 'Choctaw',\n",
              "       'Cimarron', 'Cleveland', 'Coal', 'Comanche', 'Cotton', 'Craig',\n",
              "       'Creek', 'Custer', 'Delaware', 'Dewey', 'Ellis', 'Garfield',\n",
              "       'Garvin', 'Grady', 'Grant', 'Greer', 'Harmon', 'Harper', 'Haskell',\n",
              "       'Hughes', 'Jackson', 'Jefferson', 'Johnston', 'Kay', 'Kingfisher',\n",
              "       'Kiowa', 'Latimer', 'Le Flore', 'Lincoln', 'Logan', 'Love',\n",
              "       'McClain', 'McCurtain', 'McIntosh', 'Major', 'Marshall', 'Mayes',\n",
              "       'Murray', 'Muskogee', 'Noble', 'Nowata', 'Okfuskee', 'Oklahoma',\n",
              "       'Okmulgee', 'Osage', 'Ottawa', 'Pawnee', 'Payne', 'Pittsburg',\n",
              "       'Pontotoc', 'Pottawatomie', 'Pushmataha', 'Roger Mills', 'Rogers',\n",
              "       'Seminole', 'Sequoyah', 'Stephens', 'Texas', 'Tillman', 'Tulsa',\n",
              "       'Wagoner', 'Washington', 'Washita', 'Woods', 'Woodward'],\n",
              "      dtype=object)"
            ]
          },
          "metadata": {
            "tags": []
          },
          "execution_count": 8
        }
      ]
    },
    {
      "cell_type": "code",
      "metadata": {
        "id": "uTA4dF1eNggQ",
        "colab_type": "code",
        "colab": {
          "base_uri": "https://localhost:8080/",
          "height": 293
        },
        "outputId": "7ebd0b35-28a9-469c-d737-c950c953159e"
      },
      "source": [
        "miscounty"
      ],
      "execution_count": 9,
      "outputs": [
        {
          "output_type": "execute_result",
          "data": {
            "text/plain": [
              "array(['Adams', 'Alcorn', 'Amite', 'Attala', 'Benton', 'Bolivar',\n",
              "       'Calhoun', 'Carroll', 'Chickasaw', 'Choctaw', 'Claiborne',\n",
              "       'Clarke', 'Clay', 'Coahoma', 'Copiah', 'Covington', 'DeSoto',\n",
              "       'Forrest', 'Franklin', 'George', 'Greene', 'Grenada', 'Hancock',\n",
              "       'Harrison', 'Hinds', 'Holmes', 'Humphreys', 'Issaquena',\n",
              "       'Itawamba', 'Jackson', 'Jasper', 'Jefferson', 'Jefferson Davis',\n",
              "       'Jones', 'Kemper', 'Lafayette', 'Lamar', 'Lauderdale', 'Lawrence',\n",
              "       'Leake', 'Lee', 'Leflore', 'Lincoln', 'Lowndes', 'Madison',\n",
              "       'Marion', 'Marshall', 'Monroe', 'Montgomery', 'Neshoba', 'Newton',\n",
              "       'Noxubee', 'Oktibbeha', 'Panola', 'Pearl River', 'Perry', 'Pike',\n",
              "       'Pontotoc', 'Prentiss', 'Quitman', 'Rankin', 'Scott', 'Sharkey',\n",
              "       'Simpson', 'Smith', 'Stone', 'Sunflower', 'Tallahatchie', 'Tate',\n",
              "       'Tippah', 'Tishomingo', 'Tunica', 'Union', 'Walthall', 'Warren',\n",
              "       'Washington', 'Wayne', 'Webster', 'Wilkinson', 'Winston',\n",
              "       'Yalobusha', 'Yazoo'], dtype=object)"
            ]
          },
          "metadata": {
            "tags": []
          },
          "execution_count": 9
        }
      ]
    },
    {
      "cell_type": "code",
      "metadata": {
        "id": "jjK6xpGSNyMg",
        "colab_type": "code",
        "colab": {
          "base_uri": "https://localhost:8080/",
          "height": 146
        },
        "outputId": "3f422f5c-300f-451b-9093-9f02b6ba6f92"
      },
      "source": [
        "intersection = []\n",
        "for ok in okcounty:\n",
        "  for mis in miscounty:\n",
        "    if ok == mis:\n",
        "      print(ok)\n",
        "      intersection.append(ok)"
      ],
      "execution_count": 10,
      "outputs": [
        {
          "output_type": "stream",
          "text": [
            "Choctaw\n",
            "Jackson\n",
            "Jefferson\n",
            "Lincoln\n",
            "Marshall\n",
            "Pontotoc\n",
            "Washington\n"
          ],
          "name": "stdout"
        }
      ]
    },
    {
      "cell_type": "code",
      "metadata": {
        "id": "aDbskwmPOH-P",
        "colab_type": "code",
        "colab": {
          "base_uri": "https://localhost:8080/",
          "height": 146
        },
        "outputId": "590c16ba-5f87-4683-9f8d-4bbac7d61f13"
      },
      "source": [
        "intersection"
      ],
      "execution_count": 11,
      "outputs": [
        {
          "output_type": "execute_result",
          "data": {
            "text/plain": [
              "['Choctaw',\n",
              " 'Jackson',\n",
              " 'Jefferson',\n",
              " 'Lincoln',\n",
              " 'Marshall',\n",
              " 'Pontotoc',\n",
              " 'Washington']"
            ]
          },
          "metadata": {
            "tags": []
          },
          "execution_count": 11
        }
      ]
    },
    {
      "cell_type": "code",
      "metadata": {
        "id": "CD4d0ubLOeA-",
        "colab_type": "code",
        "colab": {}
      },
      "source": [
        "union =[]\n",
        "for ok in okcounty:\n",
        "  union.append(ok)\n",
        "for mis in miscounty:\n",
        "  union.append(mis)\n",
        "union = pa.unique(union)"
      ],
      "execution_count": 12,
      "outputs": []
    },
    {
      "cell_type": "code",
      "metadata": {
        "id": "LPAD_YfCOzBH",
        "colab_type": "code",
        "colab": {
          "base_uri": "https://localhost:8080/",
          "height": 513
        },
        "outputId": "44d8eabb-da8e-4356-ecde-23caf8ba49f8"
      },
      "source": [
        "union"
      ],
      "execution_count": 13,
      "outputs": [
        {
          "output_type": "execute_result",
          "data": {
            "text/plain": [
              "array(['Adair', 'Alfalfa', 'Atoka', 'Beaver', 'Beckham', 'Blaine',\n",
              "       'Bryan', 'Caddo', 'Canadian', 'Carter', 'Cherokee', 'Choctaw',\n",
              "       'Cimarron', 'Cleveland', 'Coal', 'Comanche', 'Cotton', 'Craig',\n",
              "       'Creek', 'Custer', 'Delaware', 'Dewey', 'Ellis', 'Garfield',\n",
              "       'Garvin', 'Grady', 'Grant', 'Greer', 'Harmon', 'Harper', 'Haskell',\n",
              "       'Hughes', 'Jackson', 'Jefferson', 'Johnston', 'Kay', 'Kingfisher',\n",
              "       'Kiowa', 'Latimer', 'Le Flore', 'Lincoln', 'Logan', 'Love',\n",
              "       'McClain', 'McCurtain', 'McIntosh', 'Major', 'Marshall', 'Mayes',\n",
              "       'Murray', 'Muskogee', 'Noble', 'Nowata', 'Okfuskee', 'Oklahoma',\n",
              "       'Okmulgee', 'Osage', 'Ottawa', 'Pawnee', 'Payne', 'Pittsburg',\n",
              "       'Pontotoc', 'Pottawatomie', 'Pushmataha', 'Roger Mills', 'Rogers',\n",
              "       'Seminole', 'Sequoyah', 'Stephens', 'Texas', 'Tillman', 'Tulsa',\n",
              "       'Wagoner', 'Washington', 'Washita', 'Woods', 'Woodward', 'Adams',\n",
              "       'Alcorn', 'Amite', 'Attala', 'Benton', 'Bolivar', 'Calhoun',\n",
              "       'Carroll', 'Chickasaw', 'Claiborne', 'Clarke', 'Clay', 'Coahoma',\n",
              "       'Copiah', 'Covington', 'DeSoto', 'Forrest', 'Franklin', 'George',\n",
              "       'Greene', 'Grenada', 'Hancock', 'Harrison', 'Hinds', 'Holmes',\n",
              "       'Humphreys', 'Issaquena', 'Itawamba', 'Jasper', 'Jefferson Davis',\n",
              "       'Jones', 'Kemper', 'Lafayette', 'Lamar', 'Lauderdale', 'Lawrence',\n",
              "       'Leake', 'Lee', 'Leflore', 'Lowndes', 'Madison', 'Marion',\n",
              "       'Monroe', 'Montgomery', 'Neshoba', 'Newton', 'Noxubee',\n",
              "       'Oktibbeha', 'Panola', 'Pearl River', 'Perry', 'Pike', 'Prentiss',\n",
              "       'Quitman', 'Rankin', 'Scott', 'Sharkey', 'Simpson', 'Smith',\n",
              "       'Stone', 'Sunflower', 'Tallahatchie', 'Tate', 'Tippah',\n",
              "       'Tishomingo', 'Tunica', 'Union', 'Walthall', 'Warren', 'Wayne',\n",
              "       'Webster', 'Wilkinson', 'Winston', 'Yalobusha', 'Yazoo'],\n",
              "      dtype=object)"
            ]
          },
          "metadata": {
            "tags": []
          },
          "execution_count": 13
        }
      ]
    },
    {
      "cell_type": "markdown",
      "metadata": {
        "id": "pE4EUiukPI5l",
        "colab_type": "text"
      },
      "source": [
        "I am not certain how to do a complement here so instead I'll do the set difference."
      ]
    },
    {
      "cell_type": "code",
      "metadata": {
        "id": "76vuVHA7O0wV",
        "colab_type": "code",
        "colab": {}
      },
      "source": [
        "#okcounty - intersection\n",
        "setdiff = []\n",
        "for ok in okcounty:\n",
        "  if ok not in intersection:\n",
        "    setdiff.append(ok)\n"
      ],
      "execution_count": 22,
      "outputs": []
    },
    {
      "cell_type": "code",
      "metadata": {
        "id": "jAnQLVhWQD4E",
        "colab_type": "code",
        "colab": {
          "base_uri": "https://localhost:8080/",
          "height": 35
        },
        "outputId": "b80d2292-2ba2-46fe-b1ce-facf5eed15ef"
      },
      "source": [
        "len(setdiff)"
      ],
      "execution_count": 24,
      "outputs": [
        {
          "output_type": "execute_result",
          "data": {
            "text/plain": [
              "70"
            ]
          },
          "metadata": {
            "tags": []
          },
          "execution_count": 24
        }
      ]
    },
    {
      "cell_type": "code",
      "metadata": {
        "id": "A027_MhuSAwd",
        "colab_type": "code",
        "colab": {}
      },
      "source": [
        ""
      ],
      "execution_count": null,
      "outputs": []
    }
  ]
}
